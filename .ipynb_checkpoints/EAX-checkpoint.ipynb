{
 "cells": [
  {
   "cell_type": "code",
   "execution_count": 1,
   "id": "9eeae229",
   "metadata": {},
   "outputs": [
    {
     "data": {
      "text/plain": [
       "Improve_after_removing_intersections (generic function with 1 method)"
      ]
     },
     "execution_count": 1,
     "metadata": {},
     "output_type": "execute_result"
    }
   ],
   "source": [
    "include(\"Create_Sample.jl\")\n",
    "include(\"MIP_SPLIT.jl\")\n",
    "include(\"Split.jl\")\n",
    "include(\"GA.jl\")\n",
    "include(\"Initial.jl\")\n",
    "include(\"Mutation.jl\")\n",
    "include(\"Crossover.jl\")\n",
    "include(\"Neighborhood.jl\")\n",
    "include(\"Neighborhood_intra.jl\")\n",
    "include(\"costs.jl\")\n",
    "include(\"Draw.jl\")\n",
    "include(\"Escape.jl\")\n",
    "include(\"cross_escape.jl\")\n",
    "include(\"intersection.jl\")"
   ]
  },
  {
   "cell_type": "code",
   "execution_count": 198,
   "id": "6b3ff097",
   "metadata": {},
   "outputs": [],
   "source": [
    "n = 5\n",
    "p1 = shuffle([i for i=1:n])\n",
    "p2 = shuffle([i for i=1:n]);"
   ]
  },
  {
   "cell_type": "code",
   "execution_count": 199,
   "id": "7ab1b09d",
   "metadata": {},
   "outputs": [
    {
     "name": "stdout",
     "output_type": "stream",
     "text": [
      "3\n",
      "edge: (5, 3), vertex: 5, count: 2, masks[5]=0\n",
      "edge: (5, 1), vertex: 1, count: 3, masks[1]=0\n",
      "edge: (3, 1), vertex: 3, count: 4, masks[3]=1\n",
      "One complete tour, started and ended at 3\n",
      "Started over from node 4\n",
      "edge: (0, 4), vertex: 0, count: 2, masks[0]=0\n",
      "edge: (0, 4), vertex: 4, count: 3, masks[4]=1\n",
      "One complete tour, started and ended at 4\n",
      "Started over from node 2\n",
      "edge: (2, 5), vertex: 5, count: 2, masks[5]=0\n",
      "edge: (4, 5), vertex: 4, count: 3, masks[4]=0\n",
      "edge: (4, 3), vertex: 3, count: 4, masks[3]=0\n"
     ]
    },
    {
     "ename": "LoadError",
     "evalue": "ArgumentError: range must be non-empty",
     "output_type": "error",
     "traceback": [
      "ArgumentError: range must be non-empty",
      "",
      "Stacktrace:",
      " [1] SamplerRangeNDL",
      "   @ C:\\buildbot\\worker\\package_win64\\build\\usr\\share\\julia\\stdlib\\v1.6\\Random\\src\\generation.jl:321 [inlined]",
      " [2] Sampler",
      "   @ C:\\buildbot\\worker\\package_win64\\build\\usr\\share\\julia\\stdlib\\v1.6\\Random\\src\\generation.jl:189 [inlined]",
      " [3] Sampler",
      "   @ C:\\buildbot\\worker\\package_win64\\build\\usr\\share\\julia\\stdlib\\v1.6\\Random\\src\\generation.jl:395 [inlined]",
      " [4] Sampler",
      "   @ C:\\buildbot\\worker\\package_win64\\build\\usr\\share\\julia\\stdlib\\v1.6\\Random\\src\\Random.jl:139 [inlined]",
      " [5] rand",
      "   @ C:\\buildbot\\worker\\package_win64\\build\\usr\\share\\julia\\stdlib\\v1.6\\Random\\src\\Random.jl:253 [inlined]",
      " [6] rand(X::Vector{Tuple{Int64, Int64}})",
      "   @ Random C:\\buildbot\\worker\\package_win64\\build\\usr\\share\\julia\\stdlib\\v1.6\\Random\\src\\Random.jl:258",
      " [7] top-level scope",
      "   @ In[199]:22"
     ]
    }
   ],
   "source": [
    "temp1 = copy(p1)\n",
    "temp2 = copy(p2)\n",
    "push!(temp1, 0)\n",
    "pushfirst!(temp1, 0)\n",
    "push!(temp2, 0)\n",
    "pushfirst!(temp2, 0)\n",
    "\n",
    "EA = [(temp1[i], temp1[i+1]) for i in 1:length(temp1)-1]\n",
    "EB = [(temp2[i], temp2[i+1]) for i in 1:length(temp2)-1];\n",
    "AB_Cycles = Vector{Vector{Int}}()\n",
    "vertex = rand(0:n)\n",
    "first_parent = true\n",
    "cycle = [vertex]\n",
    "masks = zeros(Int, n+1)\n",
    "masks[vertex+1] = 1\n",
    "count = 1\n",
    "println(vertex)\n",
    "while !isempty(EA) || !isempty(EB)\n",
    "    count += 1\n",
    "    while true\n",
    "        if first_parent\n",
    "            linked_edges = filter(e -> e[1] == vertex || e[2] == vertex, EA) #if empty select from other parent\n",
    "            if isempty(linked_edges)\n",
    "                count -= 1\n",
    "                first_parent = false\n",
    "            else\n",
    "                next_edge = rand(linked_edges)\n",
    "                deleteat!(EA, findfirst(x->x==next_edge, EA))\n",
    "            end\n",
    "        else\n",
    "            linked_edges = filter(e -> e[1] == vertex || e[2] == vertex, EB)\n",
    "            if isempty(linked_edges)\n",
    "                count -= 1\n",
    "                first_parent = true\n",
    "            else\n",
    "                next_edge = rand(linked_edges)\n",
    "                deleteat!(EB, findfirst(x->x==next_edge, EB))\n",
    "            end\n",
    "        end\n",
    "    \n",
    "    if vertex == next_edge[2]\n",
    "        vertex = next_edge[1]\n",
    "    else\n",
    "        vertex = next_edge[2]\n",
    "    end\n",
    "    push!(cycle, vertex)\n",
    "    println(\"edge: $next_edge, vertex: $vertex, count: $count, masks[$(vertex)]=$(masks[vertex+1])\")\n",
    "    if masks[vertex+1] > 0 \n",
    "        temp = copy(cycle[masks[vertex+1]:count])\n",
    "        push!(AB_Cycles, temp)\n",
    "        if vertex == cycle[1] \n",
    "            cycle = Int[]\n",
    "            masks = zeros(Int, n+1)\n",
    "            println(\"One complete tour, started and ended at $vertex\")\n",
    "        else\n",
    "            deleteat!(cycle, [i for i=masks[vertex+1]+1:count])\n",
    "            count = masks[vertex+1]\n",
    "            for i in temp[2:length(temp)]\n",
    "                masks[i+1] = 0\n",
    "            end\n",
    "        end\n",
    "        \n",
    "        if length(cycle) == 0\n",
    "#             if first_parent\n",
    "#                 remaining_nodes = collect(Iterators.flatten(EB))\n",
    "#             else\n",
    "#                 remaining_nodes = collect(Iterators.flatten(EA))\n",
    "#             end\n",
    "            remaining_nodes = collect(intersect(Iterators.flatten(EA), Iterators.flatten(EB)))\n",
    "            if isempty(remaining_nodes)\n",
    "                break\n",
    "            end\n",
    "            vertex = rand(remaining_nodes)\n",
    "            cycle = [vertex]\n",
    "            println(\"Started over from node $vertex\")\n",
    "            count = 1\n",
    "            masks[vertex+1] = count\n",
    "        end\n",
    "    else\n",
    "        masks[vertex+1] = count\n",
    "    end\n",
    "#     if cycle[1] == vertex\n",
    "#         push!(cycles, cycle)\n",
    "#     end\n",
    "    first_parent = !first_parent\n",
    "end\n",
    "    "
   ]
  },
  {
   "cell_type": "code",
   "execution_count": 200,
   "id": "0ae114ba",
   "metadata": {},
   "outputs": [
    {
     "data": {
      "text/plain": [
       "2-element Vector{Vector{Int64}}:\n",
       " [3, 5, 1, 3]\n",
       " [4, 0, 4]"
      ]
     },
     "execution_count": 200,
     "metadata": {},
     "output_type": "execute_result"
    }
   ],
   "source": [
    "\n",
    "AB_Cycles"
   ]
  },
  {
   "cell_type": "code",
   "execution_count": 203,
   "id": "0d78e583",
   "metadata": {},
   "outputs": [],
   "source": [
    "temp1 = copy(p1)\n",
    "temp2 = copy(p2)\n",
    "push!(temp1, 0)\n",
    "pushfirst!(temp1, 0)\n",
    "push!(temp2, 0)\n",
    "pushfirst!(temp2, 0)\n",
    "\n",
    "EA = [(temp1[i], temp1[i+1]) for i in 1:length(temp1)-1]\n",
    "EB = [(temp2[i], temp2[i+1]) for i in 1:length(temp2)-1];"
   ]
  },
  {
   "cell_type": "code",
   "execution_count": 204,
   "id": "bc7140a5",
   "metadata": {},
   "outputs": [
    {
     "data": {
      "text/plain": [
       "6-element Vector{Tuple{Int64, Int64}}:\n",
       " (0, 4)\n",
       " (4, 3)\n",
       " (3, 2)\n",
       " (2, 5)\n",
       " (5, 1)\n",
       " (1, 0)"
      ]
     },
     "execution_count": 204,
     "metadata": {},
     "output_type": "execute_result"
    }
   ],
   "source": [
    "EB"
   ]
  },
  {
   "cell_type": "code",
   "execution_count": 205,
   "id": "79701dd7",
   "metadata": {},
   "outputs": [
    {
     "data": {
      "text/plain": [
       "6-element Vector{Tuple{Int64, Int64}}:\n",
       " (0, 4)\n",
       " (4, 5)\n",
       " (5, 3)\n",
       " (3, 1)\n",
       " (1, 2)\n",
       " (2, 0)"
      ]
     },
     "execution_count": 205,
     "metadata": {},
     "output_type": "execute_result"
    }
   ],
   "source": [
    "EA"
   ]
  },
  {
   "cell_type": "code",
   "execution_count": 143,
   "id": "385a2f25",
   "metadata": {},
   "outputs": [
    {
     "name": "stdout",
     "output_type": "stream",
     "text": [
      "  0.000009 seconds (2 allocations: 160 bytes)"
     ]
    },
    {
     "data": {
      "text/plain": [
       "8-element Vector{Int64}:\n",
       "  7\n",
       "  5\n",
       "  5\n",
       "  2\n",
       "  4\n",
       " 10\n",
       "  1\n",
       "  0"
      ]
     },
     "execution_count": 143,
     "metadata": {},
     "output_type": "execute_result"
    },
    {
     "name": "stdout",
     "output_type": "stream",
     "text": [
      "\n"
     ]
    }
   ],
   "source": [
    "@time begin\n",
    "    collect(Iterators.flatten(EA))\n",
    "end"
   ]
  },
  {
   "cell_type": "code",
   "execution_count": 138,
   "id": "8400ed35",
   "metadata": {},
   "outputs": [
    {
     "name": "stdout",
     "output_type": "stream",
     "text": [
      "  0.000039 seconds (17 allocations: 1.078 KiB)\n"
     ]
    },
    {
     "data": {
      "text/plain": [
       "7-element Vector{Int64}:\n",
       "  5\n",
       "  4\n",
       "  0\n",
       "  7\n",
       "  2\n",
       " 10\n",
       "  1"
      ]
     },
     "execution_count": 138,
     "metadata": {},
     "output_type": "execute_result"
    }
   ],
   "source": [
    "@time begin\n",
    "    S = Int[]\n",
    "    for a in EA\n",
    "        push!(S, a[1])\n",
    "        push!(S, a[2])\n",
    "    end\n",
    "    S = collect(Set(S))\n",
    "end"
   ]
  },
  {
   "cell_type": "code",
   "execution_count": null,
   "id": "331dcae0",
   "metadata": {},
   "outputs": [],
   "source": []
  },
  {
   "cell_type": "code",
   "execution_count": null,
   "id": "70393540",
   "metadata": {},
   "outputs": [],
   "source": []
  },
  {
   "cell_type": "code",
   "execution_count": null,
   "id": "48dd647b",
   "metadata": {},
   "outputs": [],
   "source": []
  }
 ],
 "metadata": {
  "kernelspec": {
   "display_name": "Julia 1.6.3",
   "language": "julia",
   "name": "julia-1.6"
  },
  "language_info": {
   "file_extension": ".jl",
   "mimetype": "application/julia",
   "name": "julia",
   "version": "1.6.3"
  }
 },
 "nbformat": 4,
 "nbformat_minor": 5
}

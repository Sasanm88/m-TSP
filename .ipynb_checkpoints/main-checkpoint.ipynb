{
 "cells": [
  {
   "cell_type": "code",
   "execution_count": 4,
   "id": "d948d962",
   "metadata": {},
   "outputs": [
    {
     "data": {
      "text/plain": [
       "Crossover_HX (generic function with 1 method)"
      ]
     },
     "execution_count": 4,
     "metadata": {},
     "output_type": "execute_result"
    }
   ],
   "source": [
    "include(\"Create_Sample.jl\")\n",
    "include(\"MIP_SPLIT.jl\")\n",
    "include(\"Split.jl\")\n",
    "include(\"GA.jl\")\n",
    "include(\"Initial.jl\")\n",
    "include(\"Mutation.jl\")\n",
    "include(\"Crossover.jl\")"
   ]
  },
  {
   "cell_type": "code",
   "execution_count": 5,
   "id": "832e22fe",
   "metadata": {},
   "outputs": [
    {
     "name": "stdout",
     "output_type": "stream",
     "text": [
      "done"
     ]
    }
   ],
   "source": [
    "# n = 50\n",
    "# length_of_area = 10\n",
    "# tspeed = 40\n",
    "# TT = Creat_Sample(n, length_of_area, tspeed)\n",
    "# chrm = shuffle!([i for i = 1:n])\n",
    "# demands = rand(1:10, n)\n",
    "T = Read_TSPLIB_instance(:rat99, 1)\n",
    "n = size(T)[1]-2\n",
    "demands = ones(Int, n)\n",
    "print(\"done\")"
   ]
  },
  {
   "cell_type": "code",
   "execution_count": 6,
   "id": "08030fa1",
   "metadata": {
    "scrolled": true
   },
   "outputs": [
    {
     "ename": "LoadError",
     "evalue": "MethodError: no method matching Perform_Genetic_Algorithm(::Matrix{Float64}, ::Vector{Int64}, ::Int64, ::Int64, ::Float64, ::Tuple{Int64, Int64}, ::Int64, ::Int64, ::Float64)\n\u001b[0mClosest candidates are:\n\u001b[0m  Perform_Genetic_Algorithm(::Matrix{Float64}, ::Vector{Int64}, \u001b[91m::Float64\u001b[39m, \u001b[91m::Tuple{Int64, Int64}\u001b[39m, \u001b[91m::Int64\u001b[39m, \u001b[91m::Int64\u001b[39m, \u001b[91m::Float64\u001b[39m) at C:\\Users\\sasanm\\Documents\\GitHub\\m-TSP\\GA.jl:191",
     "output_type": "error",
     "traceback": [
      "MethodError: no method matching Perform_Genetic_Algorithm(::Matrix{Float64}, ::Vector{Int64}, ::Int64, ::Int64, ::Float64, ::Tuple{Int64, Int64}, ::Int64, ::Int64, ::Float64)\n\u001b[0mClosest candidates are:\n\u001b[0m  Perform_Genetic_Algorithm(::Matrix{Float64}, ::Vector{Int64}, \u001b[91m::Float64\u001b[39m, \u001b[91m::Tuple{Int64, Int64}\u001b[39m, \u001b[91m::Int64\u001b[39m, \u001b[91m::Int64\u001b[39m, \u001b[91m::Float64\u001b[39m) at C:\\Users\\sasanm\\Documents\\GitHub\\m-TSP\\GA.jl:191",
      "",
      "Stacktrace:",
      " [1] top-level scope",
      "   @ .\\In[6]:12",
      " [2] eval",
      "   @ .\\boot.jl:360 [inlined]",
      " [3] include_string(mapexpr::typeof(REPL.softscope), mod::Module, code::String, filename::String)",
      "   @ Base .\\loading.jl:1116"
     ]
    }
   ],
   "source": [
    "K = 5\n",
    "W = 25\n",
    "h = 0.3\n",
    "popsize = (10,50)\n",
    "k_tournament = 3\n",
    "num_iter = 20000\n",
    "Mutation_Chance = 0.1\n",
    "num_runs = 1\n",
    "avg = 0.0\n",
    "\n",
    "for i=1:num_runs\n",
    "    P = Perform_Genetic_Algorithm(T, demands,K, W, h, popsize, k_tournament, num_iter, Mutation_Chance);\n",
    "    avg += P[1].fitness\n",
    "end\n",
    "\n",
    "println(\"Average: \", avg/num_runs)"
   ]
  },
  {
   "cell_type": "code",
   "execution_count": 79,
   "id": "d4f739a3",
   "metadata": {},
   "outputs": [
    {
     "name": "stdout",
     "output_type": "stream",
     "text": [
      "113.45550293624518   112.3730770471811   108.41078762966708   112.8628368803599   108.18099492780492   113.02427753484231   107.63527207331506   "
     ]
    }
   ],
   "source": [
    "for tour in P[1].tours\n",
    "    t1 = copy(tour);\n",
    "    pushfirst!(t1, 0)\n",
    "    push!(t1, n+1)\n",
    "\n",
    "    z1 = 0.0\n",
    "    for i=1:length(t1)-1\n",
    "        z1 += T[t1[i]+1, t1[i+1]+1]\n",
    "    end\n",
    "\n",
    "    print(z1, \"   \")\n",
    "end"
   ]
  },
  {
   "cell_type": "code",
   "execution_count": 78,
   "id": "24772d26",
   "metadata": {},
   "outputs": [
    {
     "data": {
      "text/plain": [
       "112.3730770471811"
      ]
     },
     "execution_count": 78,
     "metadata": {},
     "output_type": "execute_result"
    }
   ],
   "source": [
    "t2 = copy(P[1].tours[2]);\n",
    "pushfirst!(t2, 0)\n",
    "push!(t2, n+1)\n",
    "\n",
    "z2 = 0.0\n",
    "for i=1:length(t2)-1\n",
    "    z2 += T[t2[i]+1, t2[i+1]+1]\n",
    "end\n",
    "\n",
    "z2"
   ]
  },
  {
   "cell_type": "code",
   "execution_count": 59,
   "id": "60e6bdfb",
   "metadata": {},
   "outputs": [
    {
     "data": {
      "text/plain": [
       "(23011.531317319223, [[35, 23, 36, 45, 44, 7, 8, 14, 5, 42  …  11, 50, 24, 33, 37, 39, 31, 48, 34, 38], [21, 17, 30, 20, 6, 1, 29, 28, 19, 15, 47, 9, 40, 18, 2, 16, 41, 22]])"
      ]
     },
     "execution_count": 59,
     "metadata": {},
     "output_type": "execute_result"
    }
   ],
   "source": [
    "SPLIT(T, demands, K, W, P[1].genes)"
   ]
  },
  {
   "cell_type": "code",
   "execution_count": 5,
   "id": "ed5be802",
   "metadata": {},
   "outputs": [],
   "source": [
    "using TSPLIB"
   ]
  },
  {
   "cell_type": "code",
   "execution_count": 14,
   "id": "97999ba1",
   "metadata": {},
   "outputs": [
    {
     "data": {
      "text/plain": [
       "Read_TSPLIB_instance (generic function with 1 method)"
      ]
     },
     "execution_count": 14,
     "metadata": {},
     "output_type": "execute_result"
    }
   ],
   "source": [
    "function Calculate_distance_matrices_TSPLIB(tspeed::Int, allNodes::Matrix{Float64})\n",
    "    num_of_nodes = size(allNodes)[1] - 1\n",
    "    T = Matrix{Float64}(undef, num_of_nodes + 2, num_of_nodes + 2)\n",
    "    depot = allNodes[1, :]\n",
    "    Nodes = allNodes[2:num_of_nodes+1, :]\n",
    "\n",
    "    T[1, 1] = 0.0\n",
    "    T[num_of_nodes+2, num_of_nodes+2] = 0.0\n",
    "    T[1, num_of_nodes+2] = 0.0\n",
    "    T[num_of_nodes+2, 1] = 0.0\n",
    "    @inbounds for i in 1:num_of_nodes\n",
    "        T[1, i+1] = euclidean(depot, Nodes[i, :]) / tspeed\n",
    "        T[i+1, 1] = T[1, i+1]\n",
    "        T[num_of_nodes+2, i+1] = T[1, i+1]\n",
    "        T[i+1, num_of_nodes+2] = T[1, i+1]\n",
    "        @inbounds for j in 1:num_of_nodes\n",
    "            T[i+1, j+1] = euclidean(Nodes[i, :], Nodes[j, :]) / tspeed\n",
    "            T[j+1, i+1] = T[i+1, j+1]\n",
    "        end\n",
    "    end\n",
    "\n",
    "    return T\n",
    "end\n",
    "\n",
    "function Read_TSPLIB_instance(sample_name::Symbol, tspeed::Int)\n",
    "    tsp = readTSPLIB(sample_name)\n",
    "    dEligible = Int[]\n",
    "    T = Calculate_distance_matrices_TSPLIB(tspeed, tsp.nodes)\n",
    "    return T\n",
    "end"
   ]
  },
  {
   "cell_type": "code",
   "execution_count": 52,
   "id": "6694ee76",
   "metadata": {},
   "outputs": [
    {
     "data": {
      "text/plain": [
       "53×53 Matrix{Float64}:\n",
       "    0.0      666.108   281.114   395.601   …   789.383  1220.46      0.0\n",
       "  666.108      0.0     649.327  1047.09       1421.56   1716.05    666.108\n",
       "  281.114    649.327     0.0     603.511       995.314  1483.59    281.114\n",
       "  395.601   1047.09    603.511     0.0         397.02    908.639   395.601\n",
       "  291.204    945.145   508.945   104.403       499.925   984.441   291.204\n",
       "  326.267    978.085   542.517    69.6419  …   464.57    954.895   326.267\n",
       "  640.8       45.0     610.574  1026.36       1405.08   1715.07    640.8\n",
       "  426.878    956.151   308.058   525.0         860.145  1430.47    426.878\n",
       "  600.187   1134.96    485.644   611.003       883.233  1486.78    600.187\n",
       "  561.471   1132.98    487.263   533.901       800.078  1404.04    561.471\n",
       " 1040.97    1638.79   1266.69    663.193   …   285.044   398.56   1040.97\n",
       "  655.019   1258.59    891.361   294.364       188.215   618.567   655.019\n",
       "  975.0     1440.08   1247.76    711.073       539.676   278.657   975.0\n",
       "    ⋮                                      ⋱     ⋮                \n",
       "  565.796    102.591   550.091   950.329      1329.0    1645.07    565.796\n",
       "  463.816   1123.71    556.597   245.204       504.232  1097.2     463.816\n",
       "  154.434    744.883   434.195   307.002       678.399  1070.81    154.434\n",
       "  240.208    823.286   219.829   411.096       790.142  1314.96    240.208\n",
       "  279.866    859.084   552.675   230.705   …   563.649   941.116   279.866\n",
       "  791.281   1151.27   1072.31    659.564       681.542   597.746   791.281\n",
       "  267.301    910.302   504.802   137.295       522.805   980.472   267.301\n",
       "   64.0312   728.011   288.487   345.254       741.772  1196.92     64.0312\n",
       "  217.083    596.259   463.249   477.624       829.608  1150.76    217.083\n",
       "  789.383   1421.56    995.314   397.02    …     0.0     624.82    789.383\n",
       " 1220.46    1716.05   1483.59    908.639       624.82      0.0    1220.46\n",
       "    0.0      666.108   281.114   395.601       789.383  1220.46      0.0"
      ]
     },
     "execution_count": 52,
     "metadata": {},
     "output_type": "execute_result"
    }
   ],
   "source": [
    "T = Read_TSPLIB_instance(:berlin52, 1)"
   ]
  },
  {
   "cell_type": "code",
   "execution_count": 53,
   "id": "73d22a21",
   "metadata": {},
   "outputs": [
    {
     "data": {
      "text/plain": [
       "([1, 49, 32, 45, 19, 41, 8, 9, 10, 43  …  2, 7, 42, 21, 17, 3, 18, 31, 22, 53], 7544366)"
      ]
     },
     "execution_count": 53,
     "metadata": {},
     "output_type": "execute_result"
    }
   ],
   "source": [
    "using LKH\n",
    "\n",
    "scale_factor = 1000\n",
    "dist_mtx = round.(Int, T .* scale_factor)\n",
    "\n",
    "tsp_tour, tsp_tour_len = LKH.solve_tsp(dist_mtx)"
   ]
  },
  {
   "cell_type": "code",
   "execution_count": 61,
   "id": "b3e819bc",
   "metadata": {},
   "outputs": [
    {
     "name": "stdout",
     "output_type": "stream",
     "text": [
      "1 6 2 3 10 4 5 7 8 9 "
     ]
    }
   ],
   "source": [
    "Scramble_mutation(child, n)\n",
    "\n",
    "for i in child \n",
    "    print(i, \" \")\n",
    "end"
   ]
  },
  {
   "cell_type": "code",
   "execution_count": 105,
   "id": "067a9a3e",
   "metadata": {},
   "outputs": [
    {
     "data": {
      "text/plain": [
       "4"
      ]
     },
     "execution_count": 105,
     "metadata": {},
     "output_type": "execute_result"
    }
   ],
   "source": [
    "rand(1:5)"
   ]
  },
  {
   "cell_type": "code",
   "execution_count": 61,
   "id": "73ece0fc",
   "metadata": {},
   "outputs": [
    {
     "data": {
      "text/plain": [
       "51"
      ]
     },
     "execution_count": 61,
     "metadata": {},
     "output_type": "execute_result"
    }
   ],
   "source": [
    "n"
   ]
  },
  {
   "cell_type": "code",
   "execution_count": null,
   "id": "672223af",
   "metadata": {},
   "outputs": [],
   "source": []
  }
 ],
 "metadata": {
  "kernelspec": {
   "display_name": "Julia 1.6.3",
   "language": "julia",
   "name": "julia-1.6"
  },
  "language_info": {
   "file_extension": ".jl",
   "mimetype": "application/julia",
   "name": "julia",
   "version": "1.6.3"
  }
 },
 "nbformat": 4,
 "nbformat_minor": 5
}

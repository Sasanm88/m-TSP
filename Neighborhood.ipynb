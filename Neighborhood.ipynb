{
 "cells": [
  {
   "cell_type": "code",
   "execution_count": 5,
   "id": "39740d65",
   "metadata": {},
   "outputs": [
    {
     "data": {
      "text/plain": [
       "Write_to_excel (generic function with 1 method)"
      ]
     },
     "execution_count": 5,
     "metadata": {},
     "output_type": "execute_result"
    }
   ],
   "source": [
    "include(\"Create_Sample.jl\")\n",
    "include(\"MIP_SPLIT.jl\")\n",
    "include(\"Split.jl\")\n",
    "include(\"GA.jl\")\n",
    "include(\"Initial.jl\")\n",
    "include(\"Mutation.jl\")\n",
    "include(\"Crossover.jl\")\n",
    "include(\"Neighborhood.jl\")\n",
    "include(\"Neighborhood_intra.jl\")\n",
    "include(\"costs.jl\")\n",
    "include(\"Draw.jl\")\n",
    "include(\"Escape.jl\")\n",
    "using XLSX\n",
    "\n",
    "function Write_to_excel(exfile, sheetnumber, instance_count, instance_name,m, best, avg, worst, run_time)\n",
    "    instance_count += 1\n",
    "    XLSX.openxlsx(exfile, mode=\"rw\") do xf\n",
    "        sheet = xf[sheetnumber]\n",
    "        sheet[\"A\"*string(instance_count)] = instance_name\n",
    "        sheet[\"B\"*string(instance_count)] = m\n",
    "        sheet[\"C\"*string(instance_count)] = best\n",
    "        sheet[\"D\"*string(instance_count)] = avg\n",
    "        sheet[\"E\"*string(instance_count)] = worst\n",
    "        sheet[\"F\"*string(instance_count)] = run_time\n",
    "    end\n",
    "end"
   ]
  },
  {
   "cell_type": "code",
   "execution_count": null,
   "id": "06ac2994",
   "metadata": {},
   "outputs": [],
   "source": [
    "mus = [10,20,30,40,50]\n",
    "sigmas = [10,20,30,40,50]\n",
    "h = 0.3\n",
    "k_tournament = 6\n",
    "num_nei = 2\n",
    "crossover_functions = [5,7]\n",
    "sheetnumber = 1\n",
    "for mu in mus\n",
    "    for sigma in sigmas\n",
    "        test_parameters(mu, sigma, h, k_tournament, num_nei, crossover_functions, sheetnumber)\n",
    "        sheetnumber += 1\n",
    "    end\n",
    "end"
   ]
  },
  {
   "cell_type": "code",
   "execution_count": 2,
   "id": "fafbc4c0",
   "metadata": {},
   "outputs": [
    {
     "data": {
      "text/plain": [
       "test_parameters (generic function with 1 method)"
      ]
     },
     "execution_count": 2,
     "metadata": {},
     "output_type": "execute_result"
    }
   ],
   "source": [
    "function test_parameters(mu::Int, sigma::Int, h::Float64, k_tournament::Int, num_nei::Int, crossover_functions::Vector{Int}, sheetnumber::Int)\n",
    "    instances = [:eil51, :berlin52, :eil76, :rat99]\n",
    "    LKH3 = [[222.7, 159.6, 124.0, 112.1],[4110.2, 3184.2, 2440.9, 2440.9], [280.9, 196.7, 143.4, 128.2],[690.8, 523.3, 467.0,442.5]]\n",
    "    Ms = [2, 3, 5, 7]\n",
    "\n",
    "    best_v = Float64[]\n",
    "    Avg_v = Float64[]\n",
    "    worst_v = Float64[]\n",
    "\n",
    "    count = 0\n",
    "    best_ = 0.0\n",
    "    Avg_ = 0.0\n",
    "    worst_ = 0.0\n",
    "    time_ = 0.0\n",
    "    P = Chromosome[]\n",
    "    # best_chrm = Chromosome(Int[], 0.0, 0.0, Tour[])\n",
    "    # worst_chrm = Chromosome(Int[], 0.0, 0.0, Tour[])\n",
    "    # roullet_ = zeros(Int, 5)\n",
    "    # counter_n = zeros(Int, 25)\n",
    "    # counter_cr = zeros(Int, 7)\n",
    "    instance_count = 1\n",
    "    for (i,instance) in enumerate(instances)\n",
    "        for (j,K) in enumerate(Ms)\n",
    "            \n",
    "            count += 1\n",
    "            T = Read_TSPLIB_instance(instance, 1)\n",
    "            n = size(T)[1]-2\n",
    "            demands = ones(Int, n)\n",
    "            W = 150\n",
    "            h = 0.3\n",
    "            popsize = (20,20)\n",
    "            k_tournament = 6\n",
    "            num_iter = 2000\n",
    "            Mutation_Chance = 0.0\n",
    "            num_runs = 10\n",
    "            num_nei = 2\n",
    "            avg = 0.0\n",
    "            best = Inf\n",
    "            worst = 0.0\n",
    "            t1 = time() \n",
    "            P = Chromosome[]\n",
    "            for i=1:num_runs\n",
    "                P, roullet = Perform_Genetic_Algorithm(T, demands,K, W, h, popsize, \n",
    "                    k_tournament, num_iter, Mutation_Chance, num_nei, crossover_functions);\n",
    "    #             roullet_ = roullet_ + roullet\n",
    "                avg += P[1].fitness\n",
    "                if P[1].fitness < best\n",
    "                    best = P[1].fitness\n",
    "                    best_chrm = P[1]\n",
    "                end\n",
    "                if P[1].fitness > worst\n",
    "                    worst = P[1].fitness\n",
    "                    worst_chrm = P[1]\n",
    "                end\n",
    "            end\n",
    "            t2 = time()\n",
    "            println(\"Results for \", instance, \" ,m=\", K)\n",
    "            println(\"Best: \", round(best, digits = 1), \"  Average: \", round(avg/num_runs, digits = 1), \n",
    "                \"  Worst: \", round(worst, digits = 1), \" , run time= \", round((t2-t1)/num_runs, digits=0))\n",
    "            best_ += 100*(best-LKH3[i][j])/LKH3[i][j]\n",
    "            worst_ += 100*(worst-LKH3[i][j])/LKH3[i][j]\n",
    "            Avg_ += 100*(avg/num_runs-LKH3[i][j])/LKH3[i][j]\n",
    "            time_ += t2-t1\n",
    "            Write_to_excel(\"popsize.xlsx\", sheetnumber, instance_count, instance, K, best, avg/num_runs, worst, (t2-t1)/num_runs)\n",
    "            instance_count += 1\n",
    "        end\n",
    "    end\n",
    "    Write_to_excel(\"popsize.xlsx\", sheetnumber, instance_count, \"summary\", \"\", best_/count, Avg_/count, worst_/count, (t2-t1)/time_/count)\n",
    "    println(\"Results:  Best: \", round(best_/count, digits=1), \"  Average: \", round(Avg_/count, digits=1), \"  Worst: \", round(worst_/count, digits=1), \"   run time: \", round(time_/count, digits=1))\n",
    "end"
   ]
  },
  {
   "cell_type": "code",
   "execution_count": 163,
   "id": "b6fad01a",
   "metadata": {},
   "outputs": [
    {
     "data": {
      "text/plain": [
       "1-element Vector{Float64}:\n",
       " 4.221414418100858"
      ]
     },
     "execution_count": 163,
     "metadata": {},
     "output_type": "execute_result"
    }
   ],
   "source": [
    "Avg_v"
   ]
  },
  {
   "cell_type": "code",
   "execution_count": 157,
   "id": "5c57d1d8",
   "metadata": {},
   "outputs": [
    {
     "data": {
      "text/plain": [
       "4-element Vector{Tour}:\n",
       " Tour([15, 49, 20, 28, 19, 34, 35, 2, 27, 30, 25, 7, 21, 1, 37, 31], 164.032979029429)\n",
       " Tour([26, 47, 4, 36, 41, 39, 18, 17, 8, 33, 29, 9, 38, 32, 44, 14, 43, 16], 263.79734812967604)\n",
       " Tour([45, 11, 46, 3, 40, 12, 24, 13, 23, 42, 6, 22], 140.1044183646207)\n",
       " Tour([5, 10, 48, 50], 88.44695698759188)"
      ]
     },
     "execution_count": 157,
     "metadata": {},
     "output_type": "execute_result"
    }
   ],
   "source": [
    "include(\"Crossover.jl\")\n",
    "c = tour_crossover3(parent1, parent2, T, n)"
   ]
  },
  {
   "cell_type": "code",
   "execution_count": 158,
   "id": "6bd3d4ee",
   "metadata": {},
   "outputs": [
    {
     "name": "stdout",
     "output_type": "stream",
     "text": [
      "164.032979029429   16\n",
      "263.79734812967604   18\n",
      "140.10441836462073   12\n",
      "88.44695698759186   4\n",
      "50\n"
     ]
    }
   ],
   "source": [
    "nodes = Int[]\n",
    "for tour in c\n",
    "    println(find_tour_length(tour.Sequence, T), \"   \", length(tour.Sequence))\n",
    "    for i in tour.Sequence\n",
    "        push!(nodes, i)\n",
    "    end\n",
    "end\n",
    "\n",
    "println(length(nodes))"
   ]
  },
  {
   "cell_type": "code",
   "execution_count": 120,
   "id": "5b88713a",
   "metadata": {},
   "outputs": [
    {
     "data": {
      "text/plain": [
       "13-element Vector{Int64}:\n",
       "  3\n",
       "  6\n",
       " 11\n",
       " 12\n",
       " 13\n",
       " 22\n",
       " 23\n",
       " 24\n",
       " 40\n",
       " 42\n",
       " 45\n",
       " 46\n",
       " 47"
      ]
     },
     "execution_count": 120,
     "metadata": {},
     "output_type": "execute_result"
    }
   ],
   "source": [
    "outsiders"
   ]
  },
  {
   "cell_type": "code",
   "execution_count": 121,
   "id": "24361fea",
   "metadata": {},
   "outputs": [
    {
     "data": {
      "text/plain": [
       "Int64[]"
      ]
     },
     "execution_count": 121,
     "metadata": {},
     "output_type": "execute_result"
    }
   ],
   "source": [
    "intersect(nodes, outsiders)"
   ]
  },
  {
   "cell_type": "code",
   "execution_count": 52,
   "id": "71e930c8",
   "metadata": {},
   "outputs": [
    {
     "data": {
      "text/plain": [
       "1-element Vector{Vector{Int64}}:\n",
       " [1]"
      ]
     },
     "execution_count": 52,
     "metadata": {},
     "output_type": "execute_result"
    }
   ],
   "source": [
    "cities = [1]\n",
    "index = 1\n",
    "i = 1\n",
    "seq = Int[]\n",
    "seqs = Vector{Vector{Int}}()\n",
    "while i <= cities[length(cities)]\n",
    "    if i == cities[index]\n",
    "        push!(seq, i)\n",
    "        if i == cities[length(cities)]\n",
    "            push!(seqs, seq)\n",
    "        end\n",
    "        i += 1\n",
    "        index += 1\n",
    "    else\n",
    "        if length(seq)>0\n",
    "            push!(seqs, seq)\n",
    "            seq = Int[]\n",
    "        end\n",
    "        i += 1\n",
    "    end\n",
    "end\n",
    "seqs"
   ]
  },
  {
   "cell_type": "code",
   "execution_count": 50,
   "id": "58e04b80",
   "metadata": {},
   "outputs": [
    {
     "data": {
      "text/plain": [
       "Tour([10, 48, 8, 33, 29, 9, 38, 32, 44, 14, 43, 16, 50], 141.15021864047716)"
      ]
     },
     "execution_count": 50,
     "metadata": {},
     "output_type": "execute_result"
    }
   ],
   "source": [
    "tour = deepcopy(P[2].tours[1])"
   ]
  },
  {
   "cell_type": "code",
   "execution_count": 94,
   "id": "53de8f10",
   "metadata": {},
   "outputs": [
    {
     "data": {
      "text/plain": [
       "117.6247269601199"
      ]
     },
     "execution_count": 94,
     "metadata": {},
     "output_type": "execute_result"
    }
   ],
   "source": [
    "include(\"Crossover.jl\")\n",
    "t = deepcopy(P[2].tours[1])\n",
    "Remove_cities_from_one_tour(t, [1,2,4,5,12,13], T, n)"
   ]
  },
  {
   "cell_type": "code",
   "execution_count": 96,
   "id": "b4c28cbe",
   "metadata": {},
   "outputs": [
    {
     "data": {
      "text/plain": [
       "Tour([10, 48, 8, 33, 29, 9, 38, 32, 44, 14, 43, 16, 50], 117.6247269601199)"
      ]
     },
     "execution_count": 96,
     "metadata": {},
     "output_type": "execute_result"
    }
   ],
   "source": [
    "t"
   ]
  },
  {
   "cell_type": "code",
   "execution_count": 95,
   "id": "2d8cd8a9",
   "metadata": {},
   "outputs": [
    {
     "data": {
      "text/plain": [
       "117.62472696011989"
      ]
     },
     "execution_count": 95,
     "metadata": {},
     "output_type": "execute_result"
    }
   ],
   "source": [
    "t1 = [10, 48, 8, 33, 29, 9, 38, 32, 44, 14, 43, 16, 50]\n",
    "t2 = [1,2,4,5,12,13]\n",
    "deleteat!(t1, t2)\n",
    "find_tour_length(t1, T)"
   ]
  },
  {
   "cell_type": "code",
   "execution_count": 80,
   "id": "698051cb",
   "metadata": {},
   "outputs": [
    {
     "name": "stdout",
     "output_type": "stream",
     "text": [
      "B\n",
      "141.1501091684944\n",
      "132.55355476801103\n"
     ]
    }
   ],
   "source": [
    "seqs = [[1,2]]\n",
    "tour = t.Sequence\n",
    "cost = t.cost\n",
    "for seq in seqs\n",
    "\n",
    "    ns = length(seq)\n",
    "    if seq[1] == 1\n",
    "        if ns == 1\n",
    "            println(\"A\")\n",
    "            println(cost)\n",
    "            cost = cost - T[1, tour[1]+1] - T[tour[1]+1, tour[2]+1] + T[1, tour[2]+1]\n",
    "            print(cost)\n",
    "        else\n",
    "            println(\"B\")\n",
    "            println(cost)\n",
    "            cost = cost - T[1, tour[1]+1] - sum(T[tour[seq[i]]+1, tour[seq[i+1]]+1] for i=1:ns-1)- T[tour[seq[ns]]+1, tour[seq[ns]+1]+1] + T[1, tour[seq[ns]+1]+1]\n",
    "            println(cost)\n",
    "        end\n",
    "    elseif seq[ns] == nt\n",
    "        if ns == 1\n",
    "            cost = cost - T[tour[nt]+1, n_nodes+2] - T[tour[nt-1]+1, tour[nt]+1] + T[tour[nt-1]+1, n_nodes+2]\n",
    "        else\n",
    "            cost = cost - T[tour[nt]+1, n_nodes+2] - sum(T[tour[seq[i]]+1, tour[seq[i+1]]+1] for i=1:ns-1) - T[tour[seq[1]-1]+1, tour[seq[1]]+1] + T[tour[seq[1]-1]+1, n_nodes+2] \n",
    "        end\n",
    "    else\n",
    "        if ns == 1\n",
    "            cost = cost - T[tour[seq[1]-1]+1, tour[seq[1]]+1] - T[tour[seq[1]]+1, tour[seq[1]+1]+1] + T[tour[seq[1]-1]+1, tour[seq[1]+1]+1]\n",
    "        else\n",
    "            cost = cost - T[tour[seq[1]-1]+1, tour[seq[1]]+1] - sum(T[tour[seq[i]]+1, tour[seq[i+1]]+1] for i=1:ns-1) \n",
    "            - T[tour[seq[ns]]+1, tour[seq[ns]+1]+1] + T[tour[seq[1]-1]+1, tour[seq[ns]+1]+1]\n",
    "        end\n",
    "    end\n",
    "end "
   ]
  },
  {
   "cell_type": "code",
   "execution_count": 56,
   "id": "18d47c8e",
   "metadata": {},
   "outputs": [
    {
     "data": {
      "text/plain": [
       "141.14999969651163"
      ]
     },
     "execution_count": 56,
     "metadata": {},
     "output_type": "execute_result"
    }
   ],
   "source": [
    "cost\n"
   ]
  },
  {
   "cell_type": "code",
   "execution_count": 62,
   "id": "b3c473f5",
   "metadata": {},
   "outputs": [
    {
     "data": {
      "text/plain": [
       "141.15021864047714"
      ]
     },
     "execution_count": 62,
     "metadata": {},
     "output_type": "execute_result"
    }
   ],
   "source": [
    "t1 = [10, 48, 8, 33, 29, 9, 38, 32, 44, 14, 43, 16, 50]\n",
    "find_tour_length(t1, T)"
   ]
  },
  {
   "cell_type": "code",
   "execution_count": 69,
   "id": "5645d9fe",
   "metadata": {},
   "outputs": [
    {
     "data": {
      "text/plain": [
       "132.5536642399938"
      ]
     },
     "execution_count": 69,
     "metadata": {},
     "output_type": "execute_result"
    }
   ],
   "source": [
    "t1 = [8, 33, 29, 9, 38, 32, 44, 14, 43, 16, 50]\n",
    "find_tour_length(t1, T)"
   ]
  },
  {
   "cell_type": "code",
   "execution_count": 79,
   "id": "68d12e2e",
   "metadata": {},
   "outputs": [
    {
     "name": "stdout",
     "output_type": "stream",
     "text": [
      "12.083045973594572\n",
      "14.317821063276353\n",
      "6.4031242374328485\n",
      "24.20743687382041\n"
     ]
    },
    {
     "data": {
      "text/plain": [
       "-8.596554400483367"
      ]
     },
     "execution_count": 79,
     "metadata": {},
     "output_type": "execute_result"
    }
   ],
   "source": [
    "seq = [1,2]\n",
    "tour = [10, 48, 8, 33, 29, 9, 38, 32, 44, 14, 43, 16, 50]\n",
    "println(T[1, tour[1]+1])\n",
    "ns = length(seq)\n",
    "println(sum(T[tour[seq[i]]+1, tour[seq[i+1]]+1] for i=1:ns-1))\n",
    "println(T[tour[seq[ns]]+1, tour[seq[ns]+1]+1])\n",
    "println(T[1, tour[seq[ns]+1]+1])\n",
    "cost = 0\n",
    "cost = cost - T[1, tour[1]+1] - sum(T[tour[seq[i]]+1, tour[seq[i+1]]+1] for i=1:ns-1)- T[tour[seq[ns]]+1, tour[seq[ns]+1]+1] + T[1, tour[seq[ns]+1]+1]"
   ]
  },
  {
   "cell_type": "code",
   "execution_count": 74,
   "id": "2f9c9b56",
   "metadata": {},
   "outputs": [
    {
     "data": {
      "text/plain": [
       "12.083045973594572"
      ]
     },
     "execution_count": 74,
     "metadata": {},
     "output_type": "execute_result"
    }
   ],
   "source": [
    "T[1,11]"
   ]
  },
  {
   "cell_type": "code",
   "execution_count": 75,
   "id": "77f75636",
   "metadata": {},
   "outputs": [
    {
     "data": {
      "text/plain": [
       "14.317821063276353"
      ]
     },
     "execution_count": 75,
     "metadata": {},
     "output_type": "execute_result"
    }
   ],
   "source": [
    "T[11,49]"
   ]
  },
  {
   "cell_type": "code",
   "execution_count": 76,
   "id": "b20864f0",
   "metadata": {},
   "outputs": [
    {
     "data": {
      "text/plain": [
       "6.4031242374328485"
      ]
     },
     "execution_count": 76,
     "metadata": {},
     "output_type": "execute_result"
    }
   ],
   "source": [
    "T[49,9]"
   ]
  },
  {
   "cell_type": "code",
   "execution_count": 77,
   "id": "f3c04a0f",
   "metadata": {},
   "outputs": [
    {
     "data": {
      "text/plain": [
       "24.20743687382041"
      ]
     },
     "execution_count": 77,
     "metadata": {},
     "output_type": "execute_result"
    }
   ],
   "source": [
    "T[1,9]"
   ]
  },
  {
   "cell_type": "code",
   "execution_count": 130,
   "id": "442d30f5",
   "metadata": {},
   "outputs": [
    {
     "data": {
      "text/plain": [
       "2-element Vector{Int64}:\n",
       " 4\n",
       " 6"
      ]
     },
     "execution_count": 130,
     "metadata": {},
     "output_type": "execute_result"
    }
   ],
   "source": [
    "sort(sample(1:10, 2, replace=false))"
   ]
  },
  {
   "cell_type": "code",
   "execution_count": null,
   "id": "8f847feb",
   "metadata": {},
   "outputs": [],
   "source": []
  }
 ],
 "metadata": {
  "kernelspec": {
   "display_name": "Julia 1.6.3",
   "language": "julia",
   "name": "julia-1.6"
  },
  "language_info": {
   "file_extension": ".jl",
   "mimetype": "application/julia",
   "name": "julia",
   "version": "1.6.3"
  }
 },
 "nbformat": 4,
 "nbformat_minor": 5
}

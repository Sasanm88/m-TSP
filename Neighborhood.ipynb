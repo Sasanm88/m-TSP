{
 "cells": [
  {
   "cell_type": "code",
   "execution_count": 1,
   "id": "39740d65",
   "metadata": {},
   "outputs": [
    {
     "data": {
      "text/plain": [
       "Write_to_excel (generic function with 1 method)"
      ]
     },
     "execution_count": 1,
     "metadata": {},
     "output_type": "execute_result"
    }
   ],
   "source": [
    "include(\"Create_Sample.jl\")\n",
    "include(\"MIP_SPLIT.jl\")\n",
    "include(\"Split.jl\")\n",
    "include(\"GA.jl\")\n",
    "include(\"Initial.jl\")\n",
    "include(\"Mutation.jl\")\n",
    "include(\"Crossover.jl\")\n",
    "include(\"Neighborhood.jl\")\n",
    "include(\"Neighborhood_intra.jl\")\n",
    "include(\"costs.jl\")\n",
    "include(\"Draw.jl\")\n",
    "include(\"Escape.jl\")\n",
    "using XLSX\n",
    "\n",
    "function Write_to_excel(exfile, sheetnumber, instance_count, instance_name,m, best, avg, worst, run_time)\n",
    "    instance_count += 1\n",
    "    XLSX.openxlsx(exfile, mode=\"rw\") do xf\n",
    "        sheet = xf[sheetnumber]\n",
    "        sheet[\"A\"*string(instance_count)] = string(instance_name)\n",
    "        sheet[\"B\"*string(instance_count)] = m\n",
    "        sheet[\"C\"*string(instance_count)] = best\n",
    "        sheet[\"D\"*string(instance_count)] = avg\n",
    "        sheet[\"E\"*string(instance_count)] = worst\n",
    "        sheet[\"F\"*string(instance_count)] = run_time\n",
    "    end\n",
    "end"
   ]
  },
  {
   "cell_type": "code",
   "execution_count": 4,
   "id": "672bb617",
   "metadata": {},
   "outputs": [
    {
     "name": "stdout",
     "output_type": "stream",
     "text": [
      "Results for eil51 ,m=2\n",
      "Best: 223.1  Average: 226.0  Worst: 228.3 , run time= 6.0\n",
      "Results for eil51 ,m=3\n",
      "Best: 164.3  Average: 166.1  Worst: 170.8 , run time= 3.0\n",
      "Results for eil51 ,m=5\n",
      "Best: 118.5  Average: 123.6  Worst: 127.5 , run time= 2.0\n",
      "Results for eil51 ,m=7\n",
      "Best: 112.1  Average: 112.1  Worst: 112.1 , run time= 1.0\n",
      "Results for berlin52 ,m=2\n",
      "Best: 4179.0  Average: 4206.1  Worst: 4233.6 , run time= 4.0\n",
      "Results for berlin52 ,m=3\n",
      "Best: 3191.2  Average: 3191.2  Worst: 3191.2 , run time= 2.0\n",
      "Results for berlin52 ,m=5\n",
      "Best: 2440.9  Average: 2441.0  Worst: 2441.4 , run time= 2.0\n",
      "Results for berlin52 ,m=7\n",
      "Best: 2440.9  Average: 2440.9  Worst: 2440.9 , run time= 1.0\n",
      "Results for eil76 ,m=2\n",
      "Best: 282.9  Average: 285.9  Worst: 290.2 , run time= 7.0\n",
      "Results for eil76 ,m=3\n",
      "Best: 201.9  Average: 206.7  Worst: 215.2 , run time= 6.0\n",
      "Results for eil76 ,m=5\n",
      "Best: 148.8  Average: 151.3  Worst: 153.3 , run time= 6.0\n",
      "Results for eil76 ,m=7\n",
      "Best: 128.4  Average: 130.6  Worst: 133.5 , run time= 4.0\n",
      "Results for rat99 ,m=2\n",
      "Best: 688.9  Average: 698.4  Worst: 713.5 , run time= 18.0\n",
      "Results for rat99 ,m=3\n",
      "Best: 525.7  Average: 545.1  Worst: 580.5 , run time= 14.0\n",
      "Results for rat99 ,m=5\n",
      "Best: 461.0  Average: 471.9  Worst: 477.4 , run time= 8.0\n",
      "Results for rat99 ,m=7\n",
      "Best: 438.6  Average: 443.4  Worst: 448.4 , run time= 5.0\n",
      "Results:  Best: 0.4  Average: 1.8  Worst: 3.6   run time: 55.7\n",
      "Results for eil51 ,m=2\n",
      "Best: 222.7  Average: 226.0  Worst: 229.3 , run time= 5.0\n",
      "Results for eil51 ,m=3\n",
      "Best: 162.4  Average: 166.4  Worst: 168.5 , run time= 4.0\n",
      "Results for eil51 ,m=5\n",
      "Best: 119.9  Average: 121.8  Worst: 124.7 , run time= 3.0\n",
      "Results for eil51 ,m=7\n",
      "Best: 112.1  Average: 112.1  Worst: 112.1 , run time= 1.0\n",
      "Results for berlin52 ,m=2\n",
      "Best: 4179.0  Average: 4196.5  Worst: 4233.6 , run time= 5.0\n",
      "Results for berlin52 ,m=3\n",
      "Best: 3191.2  Average: 3191.2  Worst: 3191.2 , run time= 2.0\n",
      "Results for berlin52 ,m=5\n",
      "Best: 2440.9  Average: 2445.1  Worst: 2482.6 , run time= 2.0\n",
      "Results for berlin52 ,m=7\n",
      "Best: 2440.9  Average: 2440.9  Worst: 2440.9 , run time= 1.0\n",
      "Results for eil76 ,m=2\n",
      "Best: 282.2  Average: 284.2  Worst: 289.4 , run time= 8.0\n",
      "Results for eil76 ,m=3\n",
      "Best: 197.2  Average: 208.6  Worst: 217.2 , run time= 6.0\n",
      "Results for eil76 ,m=5\n",
      "Best: 145.5  Average: 151.1  Worst: 156.1 , run time= 5.0\n",
      "Results for eil76 ,m=7\n",
      "Best: 128.5  Average: 131.2  Worst: 137.4 , run time= 5.0\n",
      "Results for rat99 ,m=2\n",
      "Best: 684.0  Average: 696.8  Worst: 711.5 , run time= 20.0\n",
      "Results for rat99 ,m=3\n",
      "Best: 532.3  Average: 552.1  Worst: 570.2 , run time= 19.0\n",
      "Results for rat99 ,m=5\n",
      "Best: 461.0  Average: 470.1  Worst: 475.4 , run time= 9.0\n",
      "Results for rat99 ,m=7\n",
      "Best: 437.7  Average: 443.6  Worst: 446.3 , run time= 6.0\n",
      "Results:  Best: 0.1  Average: 1.8  Worst: 3.6   run time: 62.3\n",
      "Results for eil51 ,m=2\n",
      "Best: 225.2  Average: 228.0  Worst: 230.2 , run time= 4.0\n",
      "Results for eil51 ,m=3\n",
      "Best: 165.2  Average: 167.5  Worst: 169.3 , run time= 4.0\n",
      "Results for eil51 ,m=5\n",
      "Best: 119.9  Average: 121.9  Worst: 127.5 , run time= 4.0\n",
      "Results for eil51 ,m=7\n",
      "Best: 112.1  Average: 112.1  Worst: 112.1 , run time= 1.0\n",
      "Results for berlin52 ,m=2\n",
      "Best: 4193.8  Average: 4206.5  Worst: 4269.2 , run time= 5.0\n",
      "Results for berlin52 ,m=3\n",
      "Best: 3191.2  Average: 3191.2  Worst: 3191.2 , run time= 3.0\n",
      "Results for berlin52 ,m=5\n",
      "Best: 2440.9  Average: 2444.6  Worst: 2474.1 , run time= 2.0\n",
      "Results for berlin52 ,m=7\n",
      "Best: 2440.9  Average: 2440.9  Worst: 2440.9 , run time= 1.0\n",
      "Results for eil76 ,m=2\n",
      "Best: 283.2  Average: 285.8  Worst: 290.5 , run time= 9.0\n",
      "Results for eil76 ,m=3\n",
      "Best: 203.4  Average: 210.1  Worst: 217.2 , run time= 7.0\n",
      "Results for eil76 ,m=5\n",
      "Best: 148.5  Average: 151.4  Worst: 154.6 , run time= 5.0\n",
      "Results for eil76 ,m=7\n",
      "Best: 127.8  Average: 131.0  Worst: 135.5 , run time= 4.0\n",
      "Results for rat99 ,m=2\n",
      "Best: 681.7  Average: 701.0  Worst: 709.9 , run time= 21.0\n",
      "Results for rat99 ,m=3\n",
      "Best: 531.4  Average: 552.3  Worst: 579.4 , run time= 17.0\n",
      "Results for rat99 ,m=5\n",
      "Best: 459.4  Average: 471.3  Worst: 482.0 , run time= 9.0\n",
      "Results for rat99 ,m=7\n",
      "Best: 437.7  Average: 444.2  Worst: 448.4 , run time= 6.0\n",
      "Results:  Best: 0.5  Average: 2.1  Worst: 3.9   run time: 63.9\n",
      "Results for eil51 ,m=2\n",
      "Best: 223.1  Average: 226.1  Worst: 231.0 , run time= 5.0\n",
      "Results for eil51 ,m=3\n",
      "Best: 165.1  Average: 168.0  Worst: 169.9 , run time= 3.0\n",
      "Results for eil51 ,m=5\n",
      "Best: 118.1  Average: 122.0  Worst: 127.5 , run time= 4.0\n",
      "Results for eil51 ,m=7\n",
      "Best: 112.1  Average: 112.1  Worst: 112.1 , run time= 1.0\n",
      "Results for berlin52 ,m=2\n",
      "Best: 4194.9  Average: 4204.2  Worst: 4233.6 , run time= 5.0\n",
      "Results for berlin52 ,m=3\n",
      "Best: 3191.2  Average: 3191.3  Worst: 3192.8 , run time= 2.0\n",
      "Results for berlin52 ,m=5\n",
      "Best: 2440.9  Average: 2441.1  Worst: 2441.4 , run time= 2.0\n",
      "Results for berlin52 ,m=7\n",
      "Best: 2440.9  Average: 2440.9  Worst: 2440.9 , run time= 1.0\n",
      "Results for eil76 ,m=2\n",
      "Best: 282.2  Average: 285.8  Worst: 291.8 , run time= 9.0\n",
      "Results for eil76 ,m=3\n",
      "Best: 203.8  Average: 209.8  Worst: 217.2 , run time= 7.0\n",
      "Results for eil76 ,m=5\n",
      "Best: 148.4  Average: 151.8  Worst: 155.4 , run time= 7.0\n",
      "Results for eil76 ,m=7\n",
      "Best: 128.5  Average: 130.4  Worst: 132.0 , run time= 5.0\n",
      "Results for rat99 ,m=2\n",
      "Best: 682.6  Average: 694.6  Worst: 704.4 , run time= 22.0\n",
      "Results for rat99 ,m=3\n",
      "Best: 527.9  Average: 550.3  Worst: 571.2 , run time= 18.0\n",
      "Results for rat99 ,m=5\n",
      "Best: 460.1  Average: 471.3  Worst: 478.3 , run time= 9.0\n",
      "Results for rat99 ,m=7\n",
      "Best: 437.8  Average: 442.5  Worst: 444.9 , run time= 8.0\n",
      "Results:  Best: 0.4  Average: 1.9  Worst: 3.5   run time: 68.7\n",
      "Results for eil51 ,m=2\n",
      "Best: 223.1  Average: 226.0  Worst: 229.5 , run time= 5.0\n",
      "Results for eil51 ,m=3\n",
      "Best: 163.9  Average: 166.3  Worst: 168.5 , run time= 4.0\n",
      "Results for eil51 ,m=5\n",
      "Best: 118.1  Average: 121.4  Worst: 123.4 , run time= 4.0\n",
      "Results for eil51 ,m=7\n",
      "Best: 112.1  Average: 112.1  Worst: 112.1 , run time= 1.0\n",
      "Results for berlin52 ,m=2\n",
      "Best: 4151.4  Average: 4195.1  Worst: 4245.1 , run time= 6.0\n",
      "Results for berlin52 ,m=3\n",
      "Best: 3191.2  Average: 3191.2  Worst: 3191.2 , run time= 3.0\n",
      "Results for berlin52 ,m=5\n",
      "Best: 2440.9  Average: 2451.8  Worst: 2482.6 , run time= 2.0\n",
      "Results for berlin52 ,m=7\n",
      "Best: 2440.9  Average: 2440.9  Worst: 2440.9 , run time= 1.0\n",
      "Results for eil76 ,m=2\n",
      "Best: 282.4  Average: 286.3  Worst: 290.3 , run time= 9.0\n",
      "Results for eil76 ,m=3\n",
      "Best: 196.7  Average: 206.5  Worst: 217.2 , run time= 9.0\n",
      "Results for eil76 ,m=5\n",
      "Best: 146.8  Average: 152.6  Worst: 158.4 , run time= 7.0\n",
      "Results for eil76 ,m=7\n",
      "Best: 127.6  Average: 131.7  Worst: 136.8 , run time= 5.0\n",
      "Results for rat99 ,m=2\n",
      "Best: 682.7  Average: 701.3  Worst: 715.5 , run time= 23.0\n",
      "Results for rat99 ,m=3\n",
      "Best: 527.7  Average: 542.6  Worst: 571.5 , run time= 21.0\n",
      "Results for rat99 ,m=5\n",
      "Best: 459.7  Average: 470.6  Worst: 475.0 , run time= 11.0\n",
      "Results for rat99 ,m=7\n",
      "Best: 439.0  Average: 444.2  Worst: 448.4 , run time= 7.0\n",
      "Results:  Best: -0.1  Average: 1.8  Worst: 3.8   run time: 73.5\n",
      "Results for eil51 ,m=2\n",
      "Best: 223.1  Average: 225.5  Worst: 229.8 , run time= 5.0\n",
      "Results for eil51 ,m=3\n",
      "Best: 162.0  Average: 165.7  Worst: 169.1 , run time= 4.0\n",
      "Results for eil51 ,m=5\n",
      "Best: 118.5  Average: 121.4  Worst: 124.4 , run time= 3.0\n",
      "Results for eil51 ,m=7\n",
      "Best: 112.1  Average: 112.1  Worst: 112.1 , run time= 1.0\n",
      "Results for berlin52 ,m=2\n",
      "Best: 4119.0  Average: 4196.7  Worst: 4233.6 , run time= 5.0\n",
      "Results for berlin52 ,m=3\n",
      "Best: 3191.2  Average: 3191.2  Worst: 3191.2 , run time= 3.0\n",
      "Results for berlin52 ,m=5\n",
      "Best: 2440.9  Average: 2457.9  Worst: 2607.9 , run time= 2.0\n",
      "Results for berlin52 ,m=7\n",
      "Best: 2440.9  Average: 2440.9  Worst: 2440.9 , run time= 1.0\n",
      "Results for eil76 ,m=2\n",
      "Best: 282.4  Average: 284.1  Worst: 286.7 , run time= 8.0\n",
      "Results for eil76 ,m=3\n",
      "Best: 200.6  Average: 208.9  Worst: 217.7 , run time= 8.0\n",
      "Results for eil76 ,m=5\n",
      "Best: 146.0  Average: 151.0  Worst: 155.4 , run time= 6.0\n",
      "Results for eil76 ,m=7\n",
      "Best: 128.1  Average: 131.3  Worst: 136.9 , run time= 5.0\n",
      "Results for rat99 ,m=2\n",
      "Best: 683.6  Average: 693.9  Worst: 705.0 , run time= 22.0\n",
      "Results for rat99 ,m=3\n",
      "Best: 525.8  Average: 553.7  Worst: 586.9 , run time= 17.0\n",
      "Results for rat99 ,m=5\n",
      "Best: 460.3  Average: 466.3  Worst: 476.8 , run time= 10.0\n",
      "Results for rat99 ,m=7\n"
     ]
    },
    {
     "name": "stdout",
     "output_type": "stream",
     "text": [
      "Best: 441.0  Average: 444.3  Worst: 451.4 , run time= 7.0\n",
      "Results:  Best: -0.0  Average: 1.7  Worst: 4.1   run time: 67.1\n",
      "Results for eil51 ,m=2\n",
      "Best: 223.1  Average: 225.3  Worst: 228.2 , run time= 6.0\n",
      "Results for eil51 ,m=3\n",
      "Best: 162.4  Average: 165.4  Worst: 168.5 , run time= 6.0\n",
      "Results for eil51 ,m=5\n",
      "Best: 118.5  Average: 122.6  Worst: 127.5 , run time= 3.0\n",
      "Results for eil51 ,m=7\n",
      "Best: 112.1  Average: 112.1  Worst: 112.1 , run time= 1.0\n",
      "Results for berlin52 ,m=2\n",
      "Best: 4179.0  Average: 4206.4  Worst: 4245.1 , run time= 5.0\n",
      "Results for berlin52 ,m=3\n",
      "Best: 3184.2  Average: 3190.5  Worst: 3191.2 , run time= 3.0\n",
      "Results for berlin52 ,m=5\n",
      "Best: 2440.9  Average: 2441.0  Worst: 2441.4 , run time= 2.0\n",
      "Results for berlin52 ,m=7\n",
      "Best: 2440.9  Average: 2440.9  Worst: 2440.9 , run time= 1.0\n",
      "Results for eil76 ,m=2\n",
      "Best: 282.2  Average: 286.7  Worst: 291.8 , run time= 8.0\n",
      "Results for eil76 ,m=3\n",
      "Best: 196.7  Average: 205.6  Worst: 218.5 , run time= 8.0\n",
      "Results for eil76 ,m=5\n",
      "Best: 149.2  Average: 152.1  Worst: 160.1 , run time= 6.0\n",
      "Results for eil76 ,m=7\n",
      "Best: 129.4  Average: 131.2  Worst: 135.0 , run time= 5.0\n",
      "Results for rat99 ,m=2\n",
      "Best: 674.1  Average: 695.2  Worst: 707.8 , run time= 25.0\n",
      "Results for rat99 ,m=3\n",
      "Best: 533.6  Average: 553.3  Worst: 585.7 , run time= 18.0\n",
      "Results for rat99 ,m=5\n",
      "Best: 459.7  Average: 471.9  Worst: 476.5 , run time= 8.0\n",
      "Results for rat99 ,m=7\n",
      "Best: 437.7  Average: 442.7  Worst: 446.8 , run time= 8.0\n",
      "Results:  Best: 0.1  Average: 1.8  Worst: 4.0   run time: 71.5\n",
      "Results for eil51 ,m=2\n",
      "Best: 225.2  Average: 227.1  Worst: 229.8 , run time= 6.0\n",
      "Results for eil51 ,m=3\n",
      "Best: 162.4  Average: 167.0  Worst: 169.1 , run time= 5.0\n",
      "Results for eil51 ,m=5\n",
      "Best: 119.9  Average: 121.8  Worst: 124.3 , run time= 4.0\n",
      "Results for eil51 ,m=7\n",
      "Best: 112.1  Average: 112.1  Worst: 112.1 , run time= 2.0\n",
      "Results for berlin52 ,m=2\n",
      "Best: 4119.0  Average: 4179.6  Worst: 4233.6 , run time= 7.0\n",
      "Results for berlin52 ,m=3\n",
      "Best: 3180.8  Average: 3190.1  Worst: 3191.2 , run time= 3.0\n",
      "Results for berlin52 ,m=5\n",
      "Best: 2440.9  Average: 2441.0  Worst: 2441.4 , run time= 2.0\n",
      "Results for berlin52 ,m=7\n",
      "Best: 2440.9  Average: 2440.9  Worst: 2440.9 , run time= 1.0\n",
      "Results for eil76 ,m=2\n",
      "Best: 282.4  Average: 285.2  Worst: 288.1 , run time= 10.0\n",
      "Results for eil76 ,m=3\n",
      "Best: 197.7  Average: 206.6  Worst: 217.3 , run time= 9.0\n",
      "Results for eil76 ,m=5\n",
      "Best: 146.9  Average: 151.5  Worst: 154.9 , run time= 7.0\n",
      "Results for eil76 ,m=7\n",
      "Best: 127.6  Average: 130.1  Worst: 132.4 , run time= 6.0\n",
      "Results for rat99 ,m=2\n",
      "Best: 687.2  Average: 700.2  Worst: 708.9 , run time= 23.0\n",
      "Results for rat99 ,m=3\n",
      "Best: 533.0  Average: 550.8  Worst: 563.1 , run time= 20.0\n",
      "Results for rat99 ,m=5\n",
      "Best: 459.7  Average: 469.9  Worst: 485.3 , run time= 11.0\n",
      "Results for rat99 ,m=7\n",
      "Best: 440.4  Average: 444.0  Worst: 445.2 , run time= 9.0\n",
      "Results:  Best: 0.1  Average: 1.7  Worst: 3.2   run time: 77.2\n",
      "Results for eil51 ,m=2\n",
      "Best: 222.7  Average: 226.0  Worst: 229.8 , run time= 5.0\n",
      "Results for eil51 ,m=3\n",
      "Best: 162.4  Average: 166.3  Worst: 169.7 , run time= 5.0\n",
      "Results for eil51 ,m=5\n",
      "Best: 118.1  Average: 121.6  Worst: 124.3 , run time= 4.0\n",
      "Results for eil51 ,m=7\n",
      "Best: 112.1  Average: 112.1  Worst: 112.1 , run time= 1.0\n",
      "Results for berlin52 ,m=2\n",
      "Best: 4193.8  Average: 4202.1  Worst: 4233.6 , run time= 6.0\n",
      "Results for berlin52 ,m=3\n",
      "Best: 3191.2  Average: 3191.2  Worst: 3191.2 , run time= 3.0\n",
      "Results for berlin52 ,m=5\n",
      "Best: 2440.9  Average: 2444.3  Worst: 2474.6 , run time= 2.0\n",
      "Results for berlin52 ,m=7\n",
      "Best: 2440.9  Average: 2440.9  Worst: 2440.9 , run time= 1.0\n",
      "Results for eil76 ,m=2\n",
      "Best: 282.2  Average: 284.5  Worst: 288.2 , run time= 12.0\n",
      "Results for eil76 ,m=3\n",
      "Best: 203.8  Average: 206.4  Worst: 213.1 , run time= 10.0\n",
      "Results for eil76 ,m=5\n",
      "Best: 147.7  Average: 151.4  Worst: 156.1 , run time= 7.0\n",
      "Results for eil76 ,m=7\n",
      "Best: 127.6  Average: 130.1  Worst: 132.4 , run time= 6.0\n",
      "Results for rat99 ,m=2\n",
      "Best: 682.4  Average: 699.9  Worst: 724.6 , run time= 30.0\n",
      "Results for rat99 ,m=3\n",
      "Best: 528.9  Average: 543.4  Worst: 571.3 , run time= 26.0\n",
      "Results for rat99 ,m=5\n",
      "Best: 460.4  Average: 469.0  Worst: 479.7 , run time= 11.0\n",
      "Results for rat99 ,m=7\n",
      "Best: 443.9  Average: 444.5  Worst: 446.3 , run time= 8.0\n",
      "Results:  Best: 0.3  Average: 1.6  Worst: 3.4   run time: 85.9\n",
      "Results for eil51 ,m=2\n",
      "Best: 224.3  Average: 226.9  Worst: 231.9 , run time= 7.0\n",
      "Results for eil51 ,m=3\n",
      "Best: 162.4  Average: 165.9  Worst: 169.1 , run time= 5.0\n",
      "Results for eil51 ,m=5\n",
      "Best: 118.1  Average: 121.5  Worst: 127.5 , run time= 4.0\n",
      "Results for eil51 ,m=7\n",
      "Best: 112.1  Average: 112.1  Worst: 112.1 , run time= 1.0\n",
      "Results for berlin52 ,m=2\n",
      "Best: 4179.0  Average: 4196.4  Worst: 4233.6 , run time= 7.0\n",
      "Results for berlin52 ,m=3\n",
      "Best: 3151.0  Average: 3187.1  Worst: 3191.2 , run time= 4.0\n",
      "Results for berlin52 ,m=5\n",
      "Best: 2440.9  Average: 2441.1  Worst: 2441.4 , run time= 3.0\n",
      "Results for berlin52 ,m=7\n",
      "Best: 2440.9  Average: 2440.9  Worst: 2440.9 , run time= 1.0\n",
      "Results for eil76 ,m=2\n",
      "Best: 284.1  Average: 286.8  Worst: 291.5 , run time= 10.0\n",
      "Results for eil76 ,m=3\n",
      "Best: 199.3  Average: 208.2  Worst: 217.3 , run time= 8.0\n",
      "Results for eil76 ,m=5\n",
      "Best: 148.5  Average: 151.2  Worst: 154.0 , run time= 8.0\n",
      "Results for eil76 ,m=7\n",
      "Best: 127.6  Average: 131.4  Worst: 137.3 , run time= 7.0\n",
      "Results for rat99 ,m=2\n",
      "Best: 675.7  Average: 694.2  Worst: 708.0 , run time= 27.0\n",
      "Results for rat99 ,m=3\n",
      "Best: 528.4  Average: 546.9  Worst: 562.7 , run time= 26.0\n",
      "Results for rat99 ,m=5\n",
      "Best: 466.5  Average: 474.8  Worst: 480.1 , run time= 11.0\n",
      "Results for rat99 ,m=7\n",
      "Best: 437.8  Average: 442.9  Worst: 444.8 , run time= 9.0\n",
      "Results:  Best: 0.1  Average: 1.8  Worst: 3.6   run time: 85.6\n",
      "Results for eil51 ,m=2\n",
      "Best: 223.1  Average: 225.8  Worst: 229.7 , run time= 6.0\n",
      "Results for eil51 ,m=3\n",
      "Best: 164.1  Average: 166.1  Worst: 168.1 , run time= 5.0\n",
      "Results for eil51 ,m=5\n",
      "Best: 119.9  Average: 121.4  Worst: 123.8 , run time= 4.0\n",
      "Results for eil51 ,m=7\n",
      "Best: 112.1  Average: 112.1  Worst: 112.1 , run time= 1.0\n",
      "Results for berlin52 ,m=2\n",
      "Best: 4127.5  Average: 4186.5  Worst: 4223.7 , run time= 7.0\n",
      "Results for berlin52 ,m=3\n",
      "Best: 3191.2  Average: 3191.2  Worst: 3191.2 , run time= 3.0\n",
      "Results for berlin52 ,m=5\n",
      "Best: 2440.9  Average: 2445.1  Worst: 2482.6 , run time= 3.0\n",
      "Results for berlin52 ,m=7\n",
      "Best: 2440.9  Average: 2440.9  Worst: 2440.9 , run time= 1.0\n",
      "Results for eil76 ,m=2\n",
      "Best: 282.2  Average: 283.8  Worst: 288.1 , run time= 9.0\n",
      "Results for eil76 ,m=3\n",
      "Best: 201.9  Average: 206.6  Worst: 215.2 , run time= 9.0\n",
      "Results for eil76 ,m=5\n",
      "Best: 148.4  Average: 150.6  Worst: 154.3 , run time= 8.0\n",
      "Results for eil76 ,m=7\n",
      "Best: 127.6  Average: 129.5  Worst: 134.3 , run time= 6.0\n",
      "Results for rat99 ,m=2\n",
      "Best: 682.4  Average: 691.3  Worst: 701.7 , run time= 28.0\n",
      "Results for rat99 ,m=3\n",
      "Best: 526.3  Average: 536.1  Worst: 550.9 , run time= 25.0\n",
      "Results for rat99 ,m=5\n",
      "Best: 459.7  Average: 469.4  Worst: 476.4 , run time= 12.0\n",
      "Results for rat99 ,m=7\n",
      "Best: 443.9  Average: 444.3  Worst: 444.8 , run time= 8.0\n",
      "Results:  Best: 0.3  Average: 1.3  Worst: 2.9   run time: 85.1\n",
      "Results for eil51 ,m=2\n",
      "Best: 223.1  Average: 225.0  Worst: 227.4 , run time= 6.0\n",
      "Results for eil51 ,m=3\n",
      "Best: 162.4  Average: 165.9  Worst: 169.4 , run time= 5.0\n",
      "Results for eil51 ,m=5\n",
      "Best: 118.1  Average: 121.2  Worst: 124.3 , run time= 5.0\n",
      "Results for eil51 ,m=7\n",
      "Best: 112.1  Average: 112.1  Worst: 112.1 , run time= 2.0\n",
      "Results for berlin52 ,m=2\n",
      "Best: 4110.2  Average: 4184.2  Worst: 4233.6 , run time= 7.0\n",
      "Results for berlin52 ,m=3\n",
      "Best: 3182.9  Average: 3190.3  Worst: 3191.2 , run time= 4.0\n",
      "Results for berlin52 ,m=5\n",
      "Best: 2440.9  Average: 2441.0  Worst: 2441.4 , run time= 3.0\n",
      "Results for berlin52 ,m=7\n",
      "Best: 2440.9  Average: 2440.9  Worst: 2440.9 , run time= 1.0\n",
      "Results for eil76 ,m=2\n",
      "Best: 282.2  Average: 285.1  Worst: 290.5 , run time= 11.0\n",
      "Results for eil76 ,m=3\n",
      "Best: 197.1  Average: 205.7  Worst: 215.3 , run time= 9.0\n",
      "Results for eil76 ,m=5\n",
      "Best: 146.9  Average: 150.7  Worst: 155.8 , run time= 8.0\n",
      "Results for eil76 ,m=7\n",
      "Best: 127.6  Average: 129.6  Worst: 133.8 , run time= 6.0\n",
      "Results for rat99 ,m=2\n",
      "Best: 682.4  Average: 693.2  Worst: 702.6 , run time= 30.0\n",
      "Results for rat99 ,m=3\n"
     ]
    },
    {
     "name": "stdout",
     "output_type": "stream",
     "text": [
      "Best: 532.4  Average: 546.9  Worst: 557.7 , run time= 22.0\n",
      "Results for rat99 ,m=5\n",
      "Best: 462.2  Average: 471.5  Worst: 487.5 , run time= 10.0\n",
      "Results for rat99 ,m=7\n",
      "Best: 440.4  Average: 443.8  Worst: 445.1 , run time= 9.0\n",
      "Results:  Best: -0.1  Average: 1.4  Worst: 3.2   run time: 85.7\n",
      "Results for eil51 ,m=2\n",
      "Best: 223.1  Average: 224.8  Worst: 227.5 , run time= 7.0\n",
      "Results for eil51 ,m=3\n",
      "Best: 163.9  Average: 165.8  Worst: 168.6 , run time= 6.0\n",
      "Results for eil51 ,m=5\n",
      "Best: 120.1  Average: 122.8  Worst: 124.3 , run time= 4.0\n",
      "Results for eil51 ,m=7\n",
      "Best: 112.1  Average: 112.1  Worst: 112.1 , run time= 2.0\n",
      "Results for berlin52 ,m=2\n",
      "Best: 4179.0  Average: 4194.7  Worst: 4233.6 , run time= 7.0\n",
      "Results for berlin52 ,m=3\n",
      "Best: 3184.2  Average: 3190.5  Worst: 3191.2 , run time= 4.0\n",
      "Results for berlin52 ,m=5\n",
      "Best: 2440.9  Average: 2440.9  Worst: 2440.9 , run time= 3.0\n",
      "Results for berlin52 ,m=7\n",
      "Best: 2440.9  Average: 2440.9  Worst: 2440.9 , run time= 1.0\n",
      "Results for eil76 ,m=2\n",
      "Best: 282.2  Average: 286.2  Worst: 289.7 , run time= 11.0\n",
      "Results for eil76 ,m=3\n",
      "Best: 196.1  Average: 205.7  Worst: 211.2 , run time= 11.0\n",
      "Results for eil76 ,m=5\n",
      "Best: 147.0  Average: 151.2  Worst: 155.1 , run time= 8.0\n",
      "Results for eil76 ,m=7\n",
      "Best: 127.6  Average: 130.4  Worst: 132.7 , run time= 7.0\n",
      "Results for rat99 ,m=2\n",
      "Best: 678.2  Average: 694.3  Worst: 712.2 , run time= 28.0\n",
      "Results for rat99 ,m=3\n",
      "Best: 534.9  Average: 548.5  Worst: 578.9 , run time= 24.0\n",
      "Results for rat99 ,m=5\n",
      "Best: 466.7  Average: 471.3  Worst: 476.4 , run time= 15.0\n",
      "Results for rat99 ,m=7\n",
      "Best: 438.9  Average: 443.5  Worst: 444.6 , run time= 9.0\n",
      "Results:  Best: 0.2  Average: 1.6  Worst: 3.1   run time: 89.9\n",
      "Results for eil51 ,m=2\n",
      "Best: 223.1  Average: 224.9  Worst: 227.2 , run time= 7.0\n",
      "Results for eil51 ,m=3\n",
      "Best: 160.9  Average: 165.8  Worst: 170.6 , run time= 6.0\n",
      "Results for eil51 ,m=5\n",
      "Best: 118.1  Average: 120.7  Worst: 124.7 , run time= 5.0\n",
      "Results for eil51 ,m=7\n",
      "Best: 112.1  Average: 112.1  Worst: 112.1 , run time= 2.0\n",
      "Results for berlin52 ,m=2\n",
      "Best: 4179.0  Average: 4203.8  Worst: 4233.6 , run time= 8.0\n",
      "Results for berlin52 ,m=3\n",
      "Best: 3191.2  Average: 3191.2  Worst: 3191.2 , run time= 4.0\n",
      "Results for berlin52 ,m=5\n",
      "Best: 2440.9  Average: 2441.0  Worst: 2441.4 , run time= 3.0\n",
      "Results for berlin52 ,m=7\n",
      "Best: 2440.9  Average: 2440.9  Worst: 2440.9 , run time= 1.0\n",
      "Results for eil76 ,m=2\n",
      "Best: 282.4  Average: 285.8  Worst: 289.2 , run time= 11.0\n",
      "Results for eil76 ,m=3\n",
      "Best: 197.7  Average: 206.8  Worst: 218.1 , run time= 10.0\n",
      "Results for eil76 ,m=5\n",
      "Best: 144.3  Average: 151.2  Worst: 155.5 , run time= 7.0\n",
      "Results for eil76 ,m=7\n",
      "Best: 127.6  Average: 129.6  Worst: 132.6 , run time= 7.0\n",
      "Results for rat99 ,m=2\n",
      "Best: 679.0  Average: 693.0  Worst: 704.9 , run time= 36.0\n",
      "Results for rat99 ,m=3\n",
      "Best: 523.3  Average: 548.4  Worst: 568.6 , run time= 26.0\n",
      "Results for rat99 ,m=5\n",
      "Best: 460.2  Average: 470.5  Worst: 478.2 , run time= 13.0\n",
      "Results for rat99 ,m=7\n",
      "Best: 437.8  Average: 442.7  Worst: 445.7 , run time= 11.0\n",
      "Results:  Best: -0.3  Average: 1.5  Worst: 3.3   run time: 98.7\n",
      "Results for eil51 ,m=2\n",
      "Best: 225.2  Average: 227.0  Worst: 229.5 , run time= 6.0\n",
      "Results for eil51 ,m=3\n",
      "Best: 163.0  Average: 166.3  Worst: 169.1 , run time= 6.0\n",
      "Results for eil51 ,m=5\n",
      "Best: 119.9  Average: 121.4  Worst: 124.7 , run time= 5.0\n",
      "Results for eil51 ,m=7\n",
      "Best: 112.1  Average: 112.1  Worst: 112.1 , run time= 2.0\n",
      "Results for berlin52 ,m=2\n",
      "Best: 4124.1  Average: 4191.9  Worst: 4233.6 , run time= 7.0\n",
      "Results for berlin52 ,m=3\n",
      "Best: 3191.2  Average: 3191.3  Worst: 3192.8 , run time= 4.0\n",
      "Results for berlin52 ,m=5\n",
      "Best: 2440.9  Average: 2457.7  Worst: 2607.9 , run time= 3.0\n",
      "Results for berlin52 ,m=7\n",
      "Best: 2440.9  Average: 2440.9  Worst: 2440.9 , run time= 1.0\n",
      "Results for eil76 ,m=2\n",
      "Best: 282.4  Average: 285.5  Worst: 289.9 , run time= 13.0\n",
      "Results for eil76 ,m=3\n",
      "Best: 196.7  Average: 206.4  Worst: 218.8 , run time= 11.0\n",
      "Results for eil76 ,m=5\n",
      "Best: 147.2  Average: 152.2  Worst: 157.5 , run time= 9.0\n",
      "Results for eil76 ,m=7\n",
      "Best: 127.6  Average: 129.5  Worst: 132.8 , run time= 8.0\n",
      "Results for rat99 ,m=2\n",
      "Best: 680.4  Average: 694.8  Worst: 707.6 , run time= 34.0\n",
      "Results for rat99 ,m=3\n",
      "Best: 520.2  Average: 551.8  Worst: 587.0 , run time= 33.0\n",
      "Results for rat99 ,m=5\n",
      "Best: 459.8  Average: 472.0  Worst: 475.7 , run time= 14.0\n",
      "Results for rat99 ,m=7\n",
      "Best: 438.9  Average: 443.7  Worst: 444.9 , run time= 9.0\n",
      "Results:  Best: -0.1  Average: 1.7  Worst: 4.0   run time: 103.6\n"
     ]
    }
   ],
   "source": [
    "function test()\n",
    "    mus = [30,40,50]\n",
    "    sigmas = [10,20,30,40,50]\n",
    "    h = 0.3\n",
    "    k_tournament = 6\n",
    "    num_nei = 2\n",
    "    crossover_functions = [5,7]\n",
    "    sheetnumber = 11\n",
    "    for mu in mus\n",
    "        for sigma in sigmas\n",
    "            test_parameters(mu, sigma, h, k_tournament, num_nei, crossover_functions, sheetnumber)\n",
    "            sheetnumber += 1\n",
    "        end\n",
    "    end\n",
    "end\n",
    "\n",
    "test()"
   ]
  },
  {
   "cell_type": "code",
   "execution_count": 2,
   "id": "fafbc4c0",
   "metadata": {},
   "outputs": [
    {
     "data": {
      "text/plain": [
       "test_parameters (generic function with 1 method)"
      ]
     },
     "execution_count": 2,
     "metadata": {},
     "output_type": "execute_result"
    }
   ],
   "source": [
    "function test_parameters(mu::Int, sigma::Int, h::Float64, k_tournament::Int, num_nei::Int, crossover_functions::Vector{Int}, sheetnumber::Int)\n",
    "    instances = [:eil51, :berlin52, :eil76, :rat99]\n",
    "    LKH3 = [[222.7, 159.6, 124.0, 112.1],[4110.2, 3184.2, 2440.9, 2440.9], [280.9, 196.7, 143.4, 128.2],[690.8, 523.3, 467.0,442.5]]\n",
    "    Ms = [2, 3, 5, 7]\n",
    "\n",
    "    best_v = Float64[]\n",
    "    Avg_v = Float64[]\n",
    "    worst_v = Float64[]\n",
    "\n",
    "    count = 0\n",
    "    best_ = 0.0\n",
    "    Avg_ = 0.0\n",
    "    worst_ = 0.0\n",
    "    time_ = 0.0\n",
    "    P = Chromosome[]\n",
    "    # best_chrm = Chromosome(Int[], 0.0, 0.0, Tour[])\n",
    "    # worst_chrm = Chromosome(Int[], 0.0, 0.0, Tour[])\n",
    "    # roullet_ = zeros(Int, 5)\n",
    "    # counter_n = zeros(Int, 25)\n",
    "    # counter_cr = zeros(Int, 7)\n",
    "    instance_count = 1\n",
    "    for (i,instance) in enumerate(instances)\n",
    "        for (j,K) in enumerate(Ms)\n",
    "            \n",
    "            count += 1\n",
    "            T = Read_TSPLIB_instance(instance, 1)\n",
    "            n = size(T)[1]-2\n",
    "            demands = ones(Int, n)\n",
    "            W = 150\n",
    "            popsize = (mu, sigma)\n",
    "            num_iter = 2000\n",
    "            Mutation_Chance = 0.0\n",
    "            num_runs = 10\n",
    "            avg = 0.0\n",
    "            best = Inf\n",
    "            worst = 0.0\n",
    "            t1 = time() \n",
    "            P = Chromosome[]\n",
    "            for i=1:num_runs\n",
    "                P, roullet = Perform_Genetic_Algorithm(T, demands,K, W, h, popsize, \n",
    "                    k_tournament, num_iter, Mutation_Chance, num_nei, crossover_functions);\n",
    "    #             roullet_ = roullet_ + roullet\n",
    "                avg += P[1].fitness\n",
    "                if P[1].fitness < best\n",
    "                    best = P[1].fitness\n",
    "                    best_chrm = P[1]\n",
    "                end\n",
    "                if P[1].fitness > worst\n",
    "                    worst = P[1].fitness\n",
    "                    worst_chrm = P[1]\n",
    "                end\n",
    "            end\n",
    "            t2 = time()\n",
    "            println(\"Results for \", instance, \" ,m=\", K)\n",
    "            println(\"Best: \", round(best, digits = 1), \"  Average: \", round(avg/num_runs, digits = 1), \n",
    "                \"  Worst: \", round(worst, digits = 1), \" , run time= \", round((t2-t1)/num_runs, digits=0))\n",
    "            best_ += 100*(best-LKH3[i][j])/LKH3[i][j]\n",
    "            worst_ += 100*(worst-LKH3[i][j])/LKH3[i][j]\n",
    "            Avg_ += 100*(avg/num_runs-LKH3[i][j])/LKH3[i][j]\n",
    "            time_ += t2-t1\n",
    "            Write_to_excel(\"popsize.xlsx\", sheetnumber, instance_count, instance, K, best, avg/num_runs, worst, (t2-t1)/num_runs)\n",
    "            instance_count += 1\n",
    "        end\n",
    "    end\n",
    "    Write_to_excel(\"popsize.xlsx\", sheetnumber, instance_count, \"summary\", \"\", best_/count, Avg_/count, worst_/count, time_/count)\n",
    "    println(\"Results:  Best: \", round(best_/count, digits=1), \"  Average: \", round(Avg_/count, digits=1), \"  Worst: \", round(worst_/count, digits=1), \"   run time: \", round(time_/count, digits=1))\n",
    "end"
   ]
  },
  {
   "cell_type": "code",
   "execution_count": 163,
   "id": "b6fad01a",
   "metadata": {},
   "outputs": [
    {
     "data": {
      "text/plain": [
       "1-element Vector{Float64}:\n",
       " 4.221414418100858"
      ]
     },
     "execution_count": 163,
     "metadata": {},
     "output_type": "execute_result"
    }
   ],
   "source": [
    "Avg_v"
   ]
  },
  {
   "cell_type": "code",
   "execution_count": 157,
   "id": "5c57d1d8",
   "metadata": {},
   "outputs": [
    {
     "data": {
      "text/plain": [
       "4-element Vector{Tour}:\n",
       " Tour([15, 49, 20, 28, 19, 34, 35, 2, 27, 30, 25, 7, 21, 1, 37, 31], 164.032979029429)\n",
       " Tour([26, 47, 4, 36, 41, 39, 18, 17, 8, 33, 29, 9, 38, 32, 44, 14, 43, 16], 263.79734812967604)\n",
       " Tour([45, 11, 46, 3, 40, 12, 24, 13, 23, 42, 6, 22], 140.1044183646207)\n",
       " Tour([5, 10, 48, 50], 88.44695698759188)"
      ]
     },
     "execution_count": 157,
     "metadata": {},
     "output_type": "execute_result"
    }
   ],
   "source": [
    "include(\"Crossover.jl\")\n",
    "c = tour_crossover3(parent1, parent2, T, n)"
   ]
  },
  {
   "cell_type": "code",
   "execution_count": 158,
   "id": "6bd3d4ee",
   "metadata": {},
   "outputs": [
    {
     "name": "stdout",
     "output_type": "stream",
     "text": [
      "164.032979029429   16\n",
      "263.79734812967604   18\n",
      "140.10441836462073   12\n",
      "88.44695698759186   4\n",
      "50\n"
     ]
    }
   ],
   "source": [
    "nodes = Int[]\n",
    "for tour in c\n",
    "    println(find_tour_length(tour.Sequence, T), \"   \", length(tour.Sequence))\n",
    "    for i in tour.Sequence\n",
    "        push!(nodes, i)\n",
    "    end\n",
    "end\n",
    "\n",
    "println(length(nodes))"
   ]
  },
  {
   "cell_type": "code",
   "execution_count": 120,
   "id": "5b88713a",
   "metadata": {},
   "outputs": [
    {
     "data": {
      "text/plain": [
       "13-element Vector{Int64}:\n",
       "  3\n",
       "  6\n",
       " 11\n",
       " 12\n",
       " 13\n",
       " 22\n",
       " 23\n",
       " 24\n",
       " 40\n",
       " 42\n",
       " 45\n",
       " 46\n",
       " 47"
      ]
     },
     "execution_count": 120,
     "metadata": {},
     "output_type": "execute_result"
    }
   ],
   "source": [
    "outsiders"
   ]
  },
  {
   "cell_type": "code",
   "execution_count": 121,
   "id": "24361fea",
   "metadata": {},
   "outputs": [
    {
     "data": {
      "text/plain": [
       "Int64[]"
      ]
     },
     "execution_count": 121,
     "metadata": {},
     "output_type": "execute_result"
    }
   ],
   "source": [
    "intersect(nodes, outsiders)"
   ]
  },
  {
   "cell_type": "code",
   "execution_count": 52,
   "id": "71e930c8",
   "metadata": {},
   "outputs": [
    {
     "data": {
      "text/plain": [
       "1-element Vector{Vector{Int64}}:\n",
       " [1]"
      ]
     },
     "execution_count": 52,
     "metadata": {},
     "output_type": "execute_result"
    }
   ],
   "source": [
    "cities = [1]\n",
    "index = 1\n",
    "i = 1\n",
    "seq = Int[]\n",
    "seqs = Vector{Vector{Int}}()\n",
    "while i <= cities[length(cities)]\n",
    "    if i == cities[index]\n",
    "        push!(seq, i)\n",
    "        if i == cities[length(cities)]\n",
    "            push!(seqs, seq)\n",
    "        end\n",
    "        i += 1\n",
    "        index += 1\n",
    "    else\n",
    "        if length(seq)>0\n",
    "            push!(seqs, seq)\n",
    "            seq = Int[]\n",
    "        end\n",
    "        i += 1\n",
    "    end\n",
    "end\n",
    "seqs"
   ]
  },
  {
   "cell_type": "code",
   "execution_count": 50,
   "id": "58e04b80",
   "metadata": {},
   "outputs": [
    {
     "data": {
      "text/plain": [
       "Tour([10, 48, 8, 33, 29, 9, 38, 32, 44, 14, 43, 16, 50], 141.15021864047716)"
      ]
     },
     "execution_count": 50,
     "metadata": {},
     "output_type": "execute_result"
    }
   ],
   "source": [
    "tour = deepcopy(P[2].tours[1])"
   ]
  },
  {
   "cell_type": "code",
   "execution_count": 94,
   "id": "53de8f10",
   "metadata": {},
   "outputs": [
    {
     "data": {
      "text/plain": [
       "117.6247269601199"
      ]
     },
     "execution_count": 94,
     "metadata": {},
     "output_type": "execute_result"
    }
   ],
   "source": [
    "include(\"Crossover.jl\")\n",
    "t = deepcopy(P[2].tours[1])\n",
    "Remove_cities_from_one_tour(t, [1,2,4,5,12,13], T, n)"
   ]
  },
  {
   "cell_type": "code",
   "execution_count": 96,
   "id": "b4c28cbe",
   "metadata": {},
   "outputs": [
    {
     "data": {
      "text/plain": [
       "Tour([10, 48, 8, 33, 29, 9, 38, 32, 44, 14, 43, 16, 50], 117.6247269601199)"
      ]
     },
     "execution_count": 96,
     "metadata": {},
     "output_type": "execute_result"
    }
   ],
   "source": [
    "t"
   ]
  },
  {
   "cell_type": "code",
   "execution_count": 95,
   "id": "2d8cd8a9",
   "metadata": {},
   "outputs": [
    {
     "data": {
      "text/plain": [
       "117.62472696011989"
      ]
     },
     "execution_count": 95,
     "metadata": {},
     "output_type": "execute_result"
    }
   ],
   "source": [
    "t1 = [10, 48, 8, 33, 29, 9, 38, 32, 44, 14, 43, 16, 50]\n",
    "t2 = [1,2,4,5,12,13]\n",
    "deleteat!(t1, t2)\n",
    "find_tour_length(t1, T)"
   ]
  },
  {
   "cell_type": "code",
   "execution_count": 80,
   "id": "698051cb",
   "metadata": {},
   "outputs": [
    {
     "name": "stdout",
     "output_type": "stream",
     "text": [
      "B\n",
      "141.1501091684944\n",
      "132.55355476801103\n"
     ]
    }
   ],
   "source": [
    "seqs = [[1,2]]\n",
    "tour = t.Sequence\n",
    "cost = t.cost\n",
    "for seq in seqs\n",
    "\n",
    "    ns = length(seq)\n",
    "    if seq[1] == 1\n",
    "        if ns == 1\n",
    "            println(\"A\")\n",
    "            println(cost)\n",
    "            cost = cost - T[1, tour[1]+1] - T[tour[1]+1, tour[2]+1] + T[1, tour[2]+1]\n",
    "            print(cost)\n",
    "        else\n",
    "            println(\"B\")\n",
    "            println(cost)\n",
    "            cost = cost - T[1, tour[1]+1] - sum(T[tour[seq[i]]+1, tour[seq[i+1]]+1] for i=1:ns-1)- T[tour[seq[ns]]+1, tour[seq[ns]+1]+1] + T[1, tour[seq[ns]+1]+1]\n",
    "            println(cost)\n",
    "        end\n",
    "    elseif seq[ns] == nt\n",
    "        if ns == 1\n",
    "            cost = cost - T[tour[nt]+1, n_nodes+2] - T[tour[nt-1]+1, tour[nt]+1] + T[tour[nt-1]+1, n_nodes+2]\n",
    "        else\n",
    "            cost = cost - T[tour[nt]+1, n_nodes+2] - sum(T[tour[seq[i]]+1, tour[seq[i+1]]+1] for i=1:ns-1) - T[tour[seq[1]-1]+1, tour[seq[1]]+1] + T[tour[seq[1]-1]+1, n_nodes+2] \n",
    "        end\n",
    "    else\n",
    "        if ns == 1\n",
    "            cost = cost - T[tour[seq[1]-1]+1, tour[seq[1]]+1] - T[tour[seq[1]]+1, tour[seq[1]+1]+1] + T[tour[seq[1]-1]+1, tour[seq[1]+1]+1]\n",
    "        else\n",
    "            cost = cost - T[tour[seq[1]-1]+1, tour[seq[1]]+1] - sum(T[tour[seq[i]]+1, tour[seq[i+1]]+1] for i=1:ns-1) \n",
    "            - T[tour[seq[ns]]+1, tour[seq[ns]+1]+1] + T[tour[seq[1]-1]+1, tour[seq[ns]+1]+1]\n",
    "        end\n",
    "    end\n",
    "end "
   ]
  },
  {
   "cell_type": "code",
   "execution_count": 56,
   "id": "18d47c8e",
   "metadata": {},
   "outputs": [
    {
     "data": {
      "text/plain": [
       "141.14999969651163"
      ]
     },
     "execution_count": 56,
     "metadata": {},
     "output_type": "execute_result"
    }
   ],
   "source": [
    "cost\n"
   ]
  },
  {
   "cell_type": "code",
   "execution_count": 62,
   "id": "b3c473f5",
   "metadata": {},
   "outputs": [
    {
     "data": {
      "text/plain": [
       "141.15021864047714"
      ]
     },
     "execution_count": 62,
     "metadata": {},
     "output_type": "execute_result"
    }
   ],
   "source": [
    "t1 = [10, 48, 8, 33, 29, 9, 38, 32, 44, 14, 43, 16, 50]\n",
    "find_tour_length(t1, T)"
   ]
  },
  {
   "cell_type": "code",
   "execution_count": 69,
   "id": "5645d9fe",
   "metadata": {},
   "outputs": [
    {
     "data": {
      "text/plain": [
       "132.5536642399938"
      ]
     },
     "execution_count": 69,
     "metadata": {},
     "output_type": "execute_result"
    }
   ],
   "source": [
    "t1 = [8, 33, 29, 9, 38, 32, 44, 14, 43, 16, 50]\n",
    "find_tour_length(t1, T)"
   ]
  },
  {
   "cell_type": "code",
   "execution_count": 79,
   "id": "68d12e2e",
   "metadata": {},
   "outputs": [
    {
     "name": "stdout",
     "output_type": "stream",
     "text": [
      "12.083045973594572\n",
      "14.317821063276353\n",
      "6.4031242374328485\n",
      "24.20743687382041\n"
     ]
    },
    {
     "data": {
      "text/plain": [
       "-8.596554400483367"
      ]
     },
     "execution_count": 79,
     "metadata": {},
     "output_type": "execute_result"
    }
   ],
   "source": [
    "seq = [1,2]\n",
    "tour = [10, 48, 8, 33, 29, 9, 38, 32, 44, 14, 43, 16, 50]\n",
    "println(T[1, tour[1]+1])\n",
    "ns = length(seq)\n",
    "println(sum(T[tour[seq[i]]+1, tour[seq[i+1]]+1] for i=1:ns-1))\n",
    "println(T[tour[seq[ns]]+1, tour[seq[ns]+1]+1])\n",
    "println(T[1, tour[seq[ns]+1]+1])\n",
    "cost = 0\n",
    "cost = cost - T[1, tour[1]+1] - sum(T[tour[seq[i]]+1, tour[seq[i+1]]+1] for i=1:ns-1)- T[tour[seq[ns]]+1, tour[seq[ns]+1]+1] + T[1, tour[seq[ns]+1]+1]"
   ]
  },
  {
   "cell_type": "code",
   "execution_count": 74,
   "id": "2f9c9b56",
   "metadata": {},
   "outputs": [
    {
     "data": {
      "text/plain": [
       "12.083045973594572"
      ]
     },
     "execution_count": 74,
     "metadata": {},
     "output_type": "execute_result"
    }
   ],
   "source": [
    "T[1,11]"
   ]
  },
  {
   "cell_type": "code",
   "execution_count": 75,
   "id": "77f75636",
   "metadata": {},
   "outputs": [
    {
     "data": {
      "text/plain": [
       "14.317821063276353"
      ]
     },
     "execution_count": 75,
     "metadata": {},
     "output_type": "execute_result"
    }
   ],
   "source": [
    "T[11,49]"
   ]
  },
  {
   "cell_type": "code",
   "execution_count": 76,
   "id": "b20864f0",
   "metadata": {},
   "outputs": [
    {
     "data": {
      "text/plain": [
       "6.4031242374328485"
      ]
     },
     "execution_count": 76,
     "metadata": {},
     "output_type": "execute_result"
    }
   ],
   "source": [
    "T[49,9]"
   ]
  },
  {
   "cell_type": "code",
   "execution_count": 77,
   "id": "f3c04a0f",
   "metadata": {},
   "outputs": [
    {
     "data": {
      "text/plain": [
       "24.20743687382041"
      ]
     },
     "execution_count": 77,
     "metadata": {},
     "output_type": "execute_result"
    }
   ],
   "source": [
    "T[1,9]"
   ]
  },
  {
   "cell_type": "code",
   "execution_count": 130,
   "id": "442d30f5",
   "metadata": {},
   "outputs": [
    {
     "data": {
      "text/plain": [
       "2-element Vector{Int64}:\n",
       " 4\n",
       " 6"
      ]
     },
     "execution_count": 130,
     "metadata": {},
     "output_type": "execute_result"
    }
   ],
   "source": [
    "sort(sample(1:10, 2, replace=false))"
   ]
  },
  {
   "cell_type": "code",
   "execution_count": null,
   "id": "8f847feb",
   "metadata": {},
   "outputs": [],
   "source": []
  }
 ],
 "metadata": {
  "kernelspec": {
   "display_name": "Julia 1.6.3",
   "language": "julia",
   "name": "julia-1.6"
  },
  "language_info": {
   "file_extension": ".jl",
   "mimetype": "application/julia",
   "name": "julia",
   "version": "1.6.3"
  }
 },
 "nbformat": 4,
 "nbformat_minor": 5
}

{
 "cells": [
  {
   "cell_type": "code",
   "execution_count": null,
   "id": "55f56b52",
   "metadata": {},
   "outputs": [],
   "source": [
    "function N1(Chrm::Chromosome, TT::Matrix{Float64}, demands::Vector{Int}, W::Int)\n",
    "    r1 = argmax([Chrm.tours[i].cost for i=1:length(Chrm.tours)])\n",
    "    routes = [i for i=1:length(Chrm.tours)]\n",
    "    r2 = setdiff(routes, r1)[rand(1:length(Chrm.tours)-1)]\n",
    "    "
   ]
  }
 ],
 "metadata": {
  "kernelspec": {
   "display_name": "Julia 1.6.3",
   "language": "julia",
   "name": "julia-1.6"
  },
  "language_info": {
   "file_extension": ".jl",
   "mimetype": "application/julia",
   "name": "julia",
   "version": "1.6.3"
  }
 },
 "nbformat": 4,
 "nbformat_minor": 5
}

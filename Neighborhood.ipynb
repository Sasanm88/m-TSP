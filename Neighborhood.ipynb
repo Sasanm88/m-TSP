{
 "cells": [
  {
   "cell_type": "code",
   "execution_count": 42,
   "id": "fd03a13c",
   "metadata": {},
   "outputs": [
    {
     "data": {
      "text/plain": [
       "Calculate_new_cost_3_permute (generic function with 1 method)"
      ]
     },
     "execution_count": 42,
     "metadata": {},
     "output_type": "execute_result"
    }
   ],
   "source": [
    "include(\"Create_Sample.jl\")\n",
    "include(\"MIP_SPLIT.jl\")\n",
    "include(\"Split.jl\")\n",
    "include(\"GA.jl\")\n",
    "include(\"Initial.jl\")\n",
    "include(\"Mutation.jl\")\n",
    "include(\"Crossover.jl\")\n",
    "include(\"Neighborhood.jl\")\n",
    "include(\"Neighborhood_intra.jl\")\n",
    "include(\"costs.jl\")"
   ]
  },
  {
   "cell_type": "code",
   "execution_count": 50,
   "id": "fe196e26",
   "metadata": {},
   "outputs": [],
   "source": [
    "T = Read_TSPLIB_instance(:berlin52, 1)\n",
    "n_nodes = size(T)[1]-2\n",
    "demands = ones(Int, n_nodes)\n",
    "W = 150\n",
    "h = 0.3\n",
    "K = 3\n",
    "tsp_tour = find_tsp_tour1(T[1:n_nodes+1, 1:n_nodes+1])\n",
    "penalty = 1.1\n",
    "max_inf = 3\n",
    "mu = 20\n",
    "P, f = Generate_initial_population(T, demands, K, W, mu, tsp_tour, penalty, max_inf);"
   ]
  },
  {
   "cell_type": "code",
   "execution_count": 51,
   "id": "c1c52331",
   "metadata": {},
   "outputs": [
    {
     "data": {
      "text/plain": [
       "3110.882241808066"
      ]
     },
     "execution_count": 51,
     "metadata": {},
     "output_type": "execute_result"
    }
   ],
   "source": [
    "f"
   ]
  },
  {
   "cell_type": "code",
   "execution_count": 52,
   "id": "4eb0d0c7",
   "metadata": {
    "scrolled": true
   },
   "outputs": [
    {
     "data": {
      "text/plain": [
       "Chromosome([9, 41, 42, 19, 28, 22, 31, 8, 3, 7  …  12, 23, 51, 50, 18, 11, 1, 30, 46, 34], false, 9639.75281778642, 0.0, Tour[Tour([9, 41, 42, 19, 28, 22, 31, 8, 3, 7, 14, 17, 2, 49], 7372.987920295538), Tour([6, 47, 4, 16, 37, 29, 13, 36, 38, 26, 32, 45, 33], 8239.220412352088), Tour([27, 39, 15, 24, 48, 35, 40, 25, 44, 10, 20, 5, 21, 43], 8344.366526825046), Tour([12, 23, 51, 50, 18, 11, 1, 30, 46, 34], 8489.373689678056)])"
      ]
     },
     "execution_count": 52,
     "metadata": {},
     "output_type": "execute_result"
    }
   ],
   "source": [
    "p1 = deepcopy(P[35])"
   ]
  },
  {
   "cell_type": "code",
   "execution_count": 53,
   "id": "45f0043d",
   "metadata": {},
   "outputs": [],
   "source": [
    "Diversify(P, T, demands, K, W, mu, tsp_tour, penalty, max_inf)"
   ]
  },
  {
   "cell_type": "code",
   "execution_count": 54,
   "id": "5e02e8ab",
   "metadata": {
    "scrolled": true
   },
   "outputs": [
    {
     "data": {
      "text/plain": [
       "Chromosome([19, 3, 10, 25, 30, 22, 29, 50, 33, 16  …  44, 41, 40, 14, 1, 42, 18, 9, 28, 43], false, 6082.139979556951, 0.0, Tour[Tour([19, 3, 10, 25, 30, 22, 29, 50, 33], 4935.36502488842), Tour([16, 8, 21, 37, 6, 45, 23, 17, 4], 4975.378747549967), Tour([11, 5, 36, 20, 2, 7, 47, 34, 13], 5005.821554371104), Tour([26, 31, 15, 32, 27, 49], 4489.497472534836), Tour([48, 39, 24, 51, 46, 12, 35, 38, 44, 41], 4659.478258480136), Tour([40, 14, 1, 42, 18, 9, 28, 43], 5026.561966575992)])"
      ]
     },
     "execution_count": 54,
     "metadata": {},
     "output_type": "execute_result"
    }
   ],
   "source": [
    "p2 = deepcopy(P[35])"
   ]
  },
  {
   "cell_type": "code",
   "execution_count": 32,
   "id": "39441426",
   "metadata": {},
   "outputs": [
    {
     "data": {
      "text/plain": [
       "11657.252965351272"
      ]
     },
     "execution_count": 32,
     "metadata": {},
     "output_type": "execute_result"
    }
   ],
   "source": [
    "p1.fitness"
   ]
  },
  {
   "cell_type": "code",
   "execution_count": 33,
   "id": "7f687fff",
   "metadata": {},
   "outputs": [
    {
     "data": {
      "text/plain": [
       "11657.252965351272"
      ]
     },
     "execution_count": 33,
     "metadata": {},
     "output_type": "execute_result"
    }
   ],
   "source": [
    "p2.fitness"
   ]
  },
  {
   "cell_type": "code",
   "execution_count": 35,
   "id": "bfa72cd2",
   "metadata": {},
   "outputs": [
    {
     "data": {
      "text/plain": [
       "true"
      ]
     },
     "execution_count": 35,
     "metadata": {},
     "output_type": "execute_result"
    }
   ],
   "source": [
    "p1.genes == p2.genes"
   ]
  },
  {
   "cell_type": "code",
   "execution_count": null,
   "id": "a958bf52",
   "metadata": {},
   "outputs": [],
   "source": []
  }
 ],
 "metadata": {
  "kernelspec": {
   "display_name": "Julia 1.6.3",
   "language": "julia",
   "name": "julia-1.6"
  },
  "language_info": {
   "file_extension": ".jl",
   "mimetype": "application/julia",
   "name": "julia",
   "version": "1.6.3"
  }
 },
 "nbformat": 4,
 "nbformat_minor": 5
}

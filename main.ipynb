{
 "cells": [
  {
   "cell_type": "code",
   "execution_count": 60,
   "id": "d948d962",
   "metadata": {},
   "outputs": [
    {
     "data": {
      "text/plain": [
       "Improve_chromosome (generic function with 1 method)"
      ]
     },
     "execution_count": 60,
     "metadata": {},
     "output_type": "execute_result"
    }
   ],
   "source": [
    "include(\"Create_Sample.jl\")\n",
    "include(\"MIP_SPLIT.jl\")\n",
    "include(\"Split.jl\")\n",
    "include(\"GA.jl\")\n",
    "include(\"Initial.jl\")\n",
    "include(\"Mutation.jl\")\n",
    "include(\"Crossover.jl\")\n",
    "include(\"Neighborhood.jl\")"
   ]
  },
  {
   "cell_type": "code",
   "execution_count": 2,
   "id": "832e22fe",
   "metadata": {},
   "outputs": [
    {
     "name": "stdout",
     "output_type": "stream",
     "text": [
      "done"
     ]
    }
   ],
   "source": [
    "# n = 50\n",
    "# length_of_area = 10\n",
    "# tspeed = 40\n",
    "# TT = Creat_Sample(n, length_of_area, tspeed)\n",
    "# chrm = shuffle!([i for i = 1:n])\n",
    "# demands = rand(1:10, n)\n",
    "T = Read_TSPLIB_instance(:berlin52, 1)\n",
    "n = size(T)[1]-2\n",
    "demands = ones(Int, n)\n",
    "print(\"done\")"
   ]
  },
  {
   "cell_type": "code",
   "execution_count": null,
   "id": "08030fa1",
   "metadata": {
    "scrolled": true
   },
   "outputs": [
    {
     "name": "stdout",
     "output_type": "stream",
     "text": [
      "Generation 0 the best objective is: 6071.403190594569\n",
      "N4  N4  N4  N4  N4  N4  N4  N4  N4  N4  N4  N4  N4  N4  N4  N4  N4  N4  N4  N4  N4  N4  N4  N4  N4  N4  N4  N4  N4  N4  N4  N4  N4  N4  N4  N4  N4  N4  N4  N4  N4  N4  N4  N4  N4  N4  N4  N4  N4  N4  N4  N4  N4  N4  N4  N4  N4  N4  N4  N4  N4  N4  N4  N4  N4  N4  N4  N4  N4  N4  N4  N4  N4  Generation 10000 the best objective is: 2936.863727210601\n",
      "N4  N4  N4  N4  N4  N4  N4  N4  N4  N4  N4  N4  N4  N4  N4  N4  N4  N4  N4  N4  N4  N4  N4  N4  N4  N4  N4  N4  N4  N4  N4  N4  N4  N4  N4  N4  N4  N4  N4  N4  N4  N4  N4  N4  N4  N4  N4  N4  N4  N4  N4  N4  N4  N4  N4  N4  N4  N4  N4  N4  Generation 20000 the best objective is: 2930.9732725930357\n",
      "N4  N4  N4  N4  N4  N4  N4  N4  N4  N4  N4  N4  N4  N4  N4  N4  N4  N4  N4  N4  N4  N4  N4  N4  N4  N4  N4  N4  N4  N4  N4  N4  N4  N4  N4  N4  N4  N4  N4  N4  N4  N4  N4  N4  N4  N4  N4  N4  N4  N4  N4  N4  N4  N4  N4  N4  N4  N4  N4  N4  Generation 30000 the best objective is: 2728.808229684647\n",
      "N4  N4  N4  N4  N4  N4  N4  N4  N4  N4  N4  N4  N4  N4  N4  N4  N4  N4  N4  N4  N4  N4  N4  N4  N4  N4  N4  N4  N4  N4  N4  N4  N4  N4  N4  N4  N4  N4  N4  N4  N4  N4  N4  N4  N4  N4  N4  N4  N4  N4  Generation 40000 the best objective is: 2728.808229684647\n",
      "N4  N4  N4  N4  N4  N4  N4  N4  N4  N4  N4  N4  N4  N4  N4  N4  N4  N4  N4  N4  N4  N4  N4  N4  N4  N4  N4  N4  N4  N4  N4  N4  N4  N4  N4  N4  N4  N4  N4  N4  N4  N4  N4  N4  N4  N4  N4  N4  N4  N4  N4  N4  N4  N4  N4  N4  N4  N4  N4  N4  N4  N4  N4  N4  N4  N4  N4  N4  N4  N4  N4  N4  Generation 50000 the best objective is: 2726.513963731672\n",
      "N4  N4  N4  N4  N4  N4  N4  N4  N4  N4  N4  N4  N4  N4  N4  N4  N4  N4  N4  N4  N4  N4  N4  N4  N4  N4  N4  N4  N4  N4  N4  N4  N4  N4  N4  N4  N4  N4  N4  N4  N4  N4  N4  N4  N4  N4  N4  N4  N4  N4  N4  N4  N4  N4  N4  N4  N4  N4  N4  N4  N4  Generation 60000 the best objective is: 2666.191971887188\n",
      "N4  N4  N4  N4  N4  N4  N4  N4  N4  N4  N4  N4  N4  N4  N4  N4  N4  N4  N4  N4  N4  N4  N4  N4  N4  N4  N4  N4  N4  N4  N4  N4  N4  N4  N4  N4  N4  N4  N4  N4  N4  N4  N4  N4  N4  N4  N4  N4  Generation 70000 the best objective is: 2666.191971887188\n",
      "N4  N4  N4  N4  N4  N4  N4  N4  N4  N4  N4  N4  N4  N4  N4  N4  N4  N4  N4  N4  N4  N4  N4  N4  N4  N4  N4  N4  N4  N4  N4  N4  N4  N4  N4  N4  N4  N4  N4  N4  N4  N4  N4  N4  N4  N4  N4  N4  The best objective achieved in 78241 generations is: 2666.181399181364 and it took 10.460999965667725 seconds.\n",
      "Generation 0 the best objective is: 6113.043767684462\n",
      "N4  N4  N4  N4  N4  N4  N4  N4  N4  N4  N4  N4  N4  N4  N4  N4  N4  N4  N4  N4  N4  N4  N4  N4  N4  N4  N4  N4  N4  N4  N4  N4  N4  N4  N4  N4  N4  N4  N4  N4  N4  N4  N4  N4  N4  N4  N4  N4  N4  N4  N4  N4  N4  N4  N4  N4  N4  N4  N4  N4  N4  N4  N4  N4  N4  N4  N4  N4  N4  N4  N4  Generation 10000 the best objective is: 2744.6471236685265\n",
      "N4  N4  N4  N4  N4  N4  N4  N4  N4  N4  N4  N4  N4  N4  N4  N4  N4  "
     ]
    }
   ],
   "source": [
    "K = 5\n",
    "W = 35\n",
    "h = 0.2\n",
    "popsize = (10,50)\n",
    "k_tournament = 3\n",
    "num_iter = 20000\n",
    "Mutation_Chance = 0.1\n",
    "num_runs = 10\n",
    "avg = 0.0\n",
    "\n",
    "P = Chromosome[]\n",
    "for i=1:num_runs\n",
    "    P = Perform_Genetic_Algorithm(T, demands,K, W, h, popsize, k_tournament, num_iter, Mutation_Chance);\n",
    "    avg += P[1].fitness\n",
    "end\n",
    "\n",
    "println(\"Average: \", avg/num_runs)"
   ]
  },
  {
   "cell_type": "code",
   "execution_count": 79,
   "id": "d4f739a3",
   "metadata": {},
   "outputs": [
    {
     "name": "stdout",
     "output_type": "stream",
     "text": [
      "113.45550293624518   112.3730770471811   108.41078762966708   112.8628368803599   108.18099492780492   113.02427753484231   107.63527207331506   "
     ]
    }
   ],
   "source": [
    "for tour in P[1].tours\n",
    "    t1 = copy(tour);\n",
    "    pushfirst!(t1, 0)\n",
    "    push!(t1, n+1)\n",
    "\n",
    "    z1 = 0.0\n",
    "    for i=1:length(t1)-1\n",
    "        z1 += T[t1[i]+1, t1[i+1]+1]\n",
    "    end\n",
    "\n",
    "    print(z1, \"   \")\n",
    "end"
   ]
  },
  {
   "cell_type": "code",
   "execution_count": 29,
   "id": "24772d26",
   "metadata": {},
   "outputs": [
    {
     "data": {
      "text/plain": [
       "4"
      ]
     },
     "execution_count": 29,
     "metadata": {},
     "output_type": "execute_result"
    }
   ],
   "source": [
    "r1 = argmax([P[1].tours[i].cost for i=1:length(P[1].tours)])\n",
    "routes = [i for i=1:length(P[1].tours)]\n",
    "r2 = setdiff(routes, r1)[rand(1:length(P[1].tours)-1)]"
   ]
  },
  {
   "cell_type": "code",
   "execution_count": 10,
   "id": "60e6bdfb",
   "metadata": {},
   "outputs": [
    {
     "data": {
      "text/plain": [
       "2693.3316949626014"
      ]
     },
     "execution_count": 10,
     "metadata": {},
     "output_type": "execute_result"
    }
   ],
   "source": [
    "maximum([P[1].tours[i].cost for i=1:length(P[1].tours)])"
   ]
  },
  {
   "cell_type": "code",
   "execution_count": 8,
   "id": "97999ba1",
   "metadata": {},
   "outputs": [
    {
     "name": "stdout",
     "output_type": "stream",
     "text": [
      "39 37 47 23 24 11 50 10 25 46 18 38 36 4 42 32 9 8 7 40 13 51 12 26 27 44 29 41 1 6 20 16 2 30 17 48 21 34 35 31 43 45 3 14 5 33 15 49 19 22 28 "
     ]
    }
   ],
   "source": [
    "for i in P[1].genes\n",
    "    print(i,\" \")\n",
    "end"
   ]
  },
  {
   "cell_type": "code",
   "execution_count": 10,
   "id": "6694ee76",
   "metadata": {},
   "outputs": [
    {
     "name": "stdout",
     "output_type": "stream",
     "text": [
      "2557.7022429650438\n",
      "2516.602068167163\n",
      "2507.8846234183943\n",
      "2594.0315040190276\n",
      "2609.487351461127\n"
     ]
    }
   ],
   "source": [
    "for tour in P[1].tours\n",
    "    cost = 0.0\n",
    "    seq = copy(tour.Sequence)\n",
    "    pushfirst!(seq, 0)\n",
    "    push!(seq, n+1)\n",
    "    for i=1:length(seq)-1\n",
    "        cost += T[seq[i]+1,seq[i+1]+1]\n",
    "    end\n",
    "    println(cost)\n",
    "end"
   ]
  },
  {
   "cell_type": "code",
   "execution_count": 9,
   "id": "73d22a21",
   "metadata": {},
   "outputs": [
    {
     "data": {
      "text/plain": [
       "2294.1478554084824"
      ]
     },
     "execution_count": 9,
     "metadata": {},
     "output_type": "execute_result"
    }
   ],
   "source": [
    "T[1,51]+T[51,46]+T[46,52]"
   ]
  },
  {
   "cell_type": "code",
   "execution_count": 29,
   "id": "b3e819bc",
   "metadata": {},
   "outputs": [
    {
     "data": {
      "text/plain": [
       "Find_Closeness (generic function with 1 method)"
      ]
     },
     "execution_count": 29,
     "metadata": {},
     "output_type": "execute_result"
    }
   ],
   "source": [
    "function Find_Closeness(TT::Matrix{Float64}, h::Float64)\n",
    "    n_nodes = size(TT)[1]-2\n",
    "    num = Int(ceil(h*n_nodes))\n",
    "    ClosenessT = zeros(Int, n_nodes,num)\n",
    "    for i=2:n_nodes+1\n",
    "        a = copy(TT[i,2:n_nodes+1])\n",
    "        b = sortperm(a)\n",
    "        ClosenessT[i-1,:] = b[2:num+1]\n",
    "    end\n",
    "    return ClosenessT\n",
    "end"
   ]
  },
  {
   "cell_type": "code",
   "execution_count": 21,
   "id": "067a9a3e",
   "metadata": {},
   "outputs": [
    {
     "data": {
      "text/plain": [
       "52×11 Matrix{Int64}:\n",
       "  6  41  29  20  16  22  30  19  17  49  28\n",
       " 17  18  30  16  44  21  31  40  48  20   7\n",
       "  5  14   4  24  23  47  37  39  36  38  45\n",
       " 14  23   5  47  37  39  36   3  38  24  33\n",
       "  4  14  23   3  47  37  39  36  24  38  45\n",
       "  1  41  20  29  16  22  30  19  17  49  21\n",
       " 40  18   9   8  44   2  31  42  17  48  38\n",
       "  9   7  40  18  44  42   2  31  48  39  38\n",
       "  8   7  40  18  42  44  31   2  14  39  38\n",
       " 50  11  51  26  27  12  25  13  24   3  46\n",
       " 27  50  24  26   3  25   5   4  10  23  14\n",
       " 26  13  25  51  27  46  10  11  50  24  45\n",
       " 12  51  46  26  25  27  10  11  50  24  45\n",
       "  ⋮                   ⋮                   ⋮\n",
       "  6   1  20  29  16  22  30  19  17  49  21\n",
       " 14   3   5   4  37  39  23   9  47  38  36\n",
       " 33  34  35  36  45  15  38  48  39  47  37\n",
       " 18  31  40   7  48   2  17  21  35  38  34\n",
       " 47  43  36  23  15  33  37   4  24  39   5\n",
       " 25  26  12  27  13  11  28  15  45  24  51\n",
       " 23   4  37  36   5  14  39  38  45  33   3\n",
       " 31  35  34  21  33  38  39  43  36  17  37\n",
       " 19  22  15  43  28  29  21  33  34  30  48\n",
       " 11  10  27  24   3  26   5  32  25  14   4\n",
       " 12  13  10  26  27  25  46  11  50  24   3\n",
       " 48  31  34  35  33  30  43  17  38  22  36"
      ]
     },
     "execution_count": 21,
     "metadata": {},
     "output_type": "execute_result"
    }
   ],
   "source": [
    "Find_Closeness(T, 0.2)"
   ]
  },
  {
   "cell_type": "code",
   "execution_count": 38,
   "id": "73ece0fc",
   "metadata": {},
   "outputs": [
    {
     "data": {
      "text/plain": [
       "3"
      ]
     },
     "execution_count": 38,
     "metadata": {},
     "output_type": "execute_result"
    }
   ],
   "source": [
    "T[]"
   ]
  },
  {
   "cell_type": "code",
   "execution_count": 12,
   "id": "672223af",
   "metadata": {},
   "outputs": [
    {
     "data": {
      "text/plain": [
       "test (generic function with 1 method)"
      ]
     },
     "execution_count": 12,
     "metadata": {},
     "output_type": "execute_result"
    }
   ],
   "source": [
    "function test(a::Int)\n",
    "    a += 1\n",
    "    return a\n",
    "end\n"
   ]
  },
  {
   "cell_type": "code",
   "execution_count": 13,
   "id": "7d69189b",
   "metadata": {},
   "outputs": [
    {
     "data": {
      "text/plain": [
       "6"
      ]
     },
     "execution_count": 13,
     "metadata": {},
     "output_type": "execute_result"
    }
   ],
   "source": [
    "x = 5\n",
    "\n",
    "test(x)"
   ]
  },
  {
   "cell_type": "code",
   "execution_count": 22,
   "id": "2f14b336",
   "metadata": {},
   "outputs": [
    {
     "data": {
      "text/plain": [
       "7-element Vector{Any}:\n",
       "     1\n",
       "     2\n",
       "     4\n",
       "     7\n",
       "   100\n",
       "  1000\n",
       " 10000"
      ]
     },
     "execution_count": 22,
     "metadata": {},
     "output_type": "execute_result"
    }
   ],
   "source": [
    "x = []\n",
    "a = [1,2]\n",
    "b = [4,7]\n",
    "c = [100, 1000, 10000]\n",
    "x = vcat(x,a)\n",
    "x = vcat(x,b)\n",
    "x = vcat(x,c)\n"
   ]
  },
  {
   "cell_type": "code",
   "execution_count": 26,
   "id": "bf67e263",
   "metadata": {},
   "outputs": [
    {
     "data": {
      "text/plain": [
       "7-element Vector{Int64}:\n",
       "    1\n",
       "    2\n",
       "    3\n",
       "    4\n",
       "    5\n",
       "  100\n",
       " 1000"
      ]
     },
     "execution_count": 26,
     "metadata": {},
     "output_type": "execute_result"
    }
   ],
   "source": [
    "a = [1,2,3,4,5]\n",
    "k = 6\n",
    "insert!(a, k, 100)\n",
    "insert!(a, k+1, 1000)"
   ]
  },
  {
   "cell_type": "code",
   "execution_count": null,
   "id": "b2248f21",
   "metadata": {},
   "outputs": [],
   "source": []
  }
 ],
 "metadata": {
  "kernelspec": {
   "display_name": "Julia 1.6.3",
   "language": "julia",
   "name": "julia-1.6"
  },
  "language_info": {
   "file_extension": ".jl",
   "mimetype": "application/julia",
   "name": "julia",
   "version": "1.6.3"
  }
 },
 "nbformat": 4,
 "nbformat_minor": 5
}

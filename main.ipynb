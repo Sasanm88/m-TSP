{
 "cells": [
  {
   "cell_type": "code",
   "execution_count": 1,
   "id": "d948d962",
   "metadata": {},
   "outputs": [
    {
     "data": {
      "text/plain": [
       "Crossover_HX (generic function with 1 method)"
      ]
     },
     "execution_count": 1,
     "metadata": {},
     "output_type": "execute_result"
    }
   ],
   "source": [
    "include(\"Create_Sample.jl\")\n",
    "include(\"MIP_SPLIT.jl\")\n",
    "include(\"Split.jl\")\n",
    "include(\"GA.jl\")\n",
    "include(\"Initial.jl\")\n",
    "include(\"Mutation.jl\")\n",
    "include(\"Crossover.jl\")"
   ]
  },
  {
   "cell_type": "code",
   "execution_count": 3,
   "id": "832e22fe",
   "metadata": {},
   "outputs": [
    {
     "name": "stdout",
     "output_type": "stream",
     "text": [
      "done"
     ]
    }
   ],
   "source": [
    "# n = 50\n",
    "# length_of_area = 10\n",
    "# tspeed = 40\n",
    "# TT = Creat_Sample(n, length_of_area, tspeed)\n",
    "# chrm = shuffle!([i for i = 1:n])\n",
    "# demands = rand(1:10, n)\n",
    "T = Read_TSPLIB_instance(:berlin52, 1)\n",
    "n = size(T)[1]-2\n",
    "demands = ones(Int, n)\n",
    "print(\"done\")"
   ]
  },
  {
   "cell_type": "code",
   "execution_count": 4,
   "id": "08030fa1",
   "metadata": {
    "scrolled": true
   },
   "outputs": [
    {
     "name": "stdout",
     "output_type": "stream",
     "text": [
      "Generation 0 the best objective is: 5811.718862724704\n",
      "Generation 1000 the best objective is: 3007.8117588079854\n",
      "Generation 2000 the best objective is: 2874.791727911045\n",
      "Generation 3000 the best objective is: 2874.791727911045\n",
      "Generation 4000 the best objective is: 2874.791727911045\n",
      "Generation 5000 the best objective is: 2874.791727911045\n",
      "Generation 6000 the best objective is: 2874.791727911045\n",
      "Generation 7000 the best objective is: 2874.791727911045\n",
      "Generation 8000 the best objective is: 2874.791727911045\n",
      "Generation 9000 the best objective is: 2874.791727911045\n",
      "Generation 10000 the best objective is: 2874.791727911045\n",
      "Generation 11000 the best objective is: 2874.791727911045\n",
      "Generation 12000 the best objective is: 2874.791727911045\n",
      "Generation 13000 the best objective is: 2874.791727911045\n",
      "Generation 14000 the best objective is: 2874.791727911045\n",
      "Generation 15000 the best objective is: 2874.791727911045\n",
      "Generation 16000 the best objective is: 2874.791727911045\n",
      "Generation 17000 the best objective is: 2846.7194686099033\n",
      "Generation 18000 the best objective is: 2709.379779846116\n",
      "Generation 19000 the best objective is: 2693.4474126178548\n",
      "Generation 20000 the best objective is: 2693.4474126178548\n",
      "Generation 21000 the best objective is: 2693.4474126178548\n",
      "Generation 22000 the best objective is: 2693.4474126178548\n",
      "Generation 23000 the best objective is: 2693.4474126178548\n",
      "Generation 24000 the best objective is: 2693.4474126178548\n",
      "Generation 25000 the best objective is: 2693.4474126178548\n",
      "Generation 26000 the best objective is: 2693.4474126178548\n",
      "Generation 27000 the best objective is: 2693.4474126178548\n",
      "Generation 28000 the best objective is: 2693.4474126178548\n",
      "Generation 29000 the best objective is: 2693.4474126178548\n",
      "Generation 30000 the best objective is: 2693.4474126178548\n",
      "Generation 31000 the best objective is: 2693.4474126178548\n",
      "Generation 32000 the best objective is: 2693.4474126178548\n",
      "Generation 33000 the best objective is: 2693.4474126178548\n",
      "Generation 34000 the best objective is: 2693.4474126178548\n",
      "Generation 35000 the best objective is: 2678.1495269052484\n",
      "Generation 36000 the best objective is: 2678.1495269052484\n",
      "Generation 37000 the best objective is: 2678.1495269052484\n",
      "Generation 38000 the best objective is: 2678.1495269052484\n",
      "Generation 39000 the best objective is: 2678.1495269052484\n",
      "Generation 40000 the best objective is: 2673.770367265673\n",
      "Generation 41000 the best objective is: 2673.770367265673\n",
      "Generation 42000 the best objective is: 2673.770367265673\n",
      "Generation 43000 the best objective is: 2673.770367265673\n",
      "Generation 44000 the best objective is: 2673.770367265673\n",
      "Generation 45000 the best objective is: 2673.770367265673\n",
      "Generation 46000 the best objective is: 2673.770367265673\n",
      "Generation 47000 the best objective is: 2659.9939885890135\n",
      "Generation 48000 the best objective is: 2659.9939885890135\n",
      "Generation 49000 the best objective is: 2659.9939885890135\n",
      "Generation 50000 the best objective is: 2659.9939885890135\n",
      "Generation 51000 the best objective is: 2659.9939885890135\n",
      "Generation 52000 the best objective is: 2659.9939885890135\n",
      "Generation 53000 the best objective is: 2659.9939885890135\n",
      "Generation 54000 the best objective is: 2633.595008951287\n",
      "Generation 55000 the best objective is: 2633.595008951287\n",
      "Generation 56000 the best objective is: 2633.595008951287\n",
      "Generation 57000 the best objective is: 2633.595008951287\n",
      "Generation 58000 the best objective is: 2617.745316696942\n",
      "Generation 59000 the best objective is: 2617.745316696942\n",
      "Generation 60000 the best objective is: 2617.745316696942\n",
      "Generation 61000 the best objective is: 2617.745316696942\n",
      "Generation 62000 the best objective is: 2617.745316696942\n",
      "Generation 63000 the best objective is: 2617.745316696942\n",
      "Generation 64000 the best objective is: 2617.745316696942\n",
      "Generation 65000 the best objective is: 2617.745316696942\n",
      "Generation 66000 the best objective is: 2617.745316696942\n",
      "Generation 67000 the best objective is: 2609.487351461127\n",
      "Generation 68000 the best objective is: 2609.487351461127\n",
      "Generation 69000 the best objective is: 2609.487351461127\n",
      "Generation 70000 the best objective is: 2609.487351461127\n",
      "Generation 71000 the best objective is: 2609.487351461127\n",
      "Generation 72000 the best objective is: 2609.487351461127\n",
      "Generation 73000 the best objective is: 2609.487351461127\n",
      "Generation 74000 the best objective is: 2609.487351461127\n",
      "Generation 75000 the best objective is: 2609.487351461127\n",
      "Generation 76000 the best objective is: 2609.487351461127\n",
      "Generation 77000 the best objective is: 2609.487351461127\n",
      "Generation 78000 the best objective is: 2609.487351461127\n",
      "Generation 79000 the best objective is: 2609.487351461127\n",
      "Generation 80000 the best objective is: 2609.487351461127\n",
      "Generation 81000 the best objective is: 2609.487351461127\n",
      "Generation 82000 the best objective is: 2609.487351461127\n",
      "Generation 83000 the best objective is: 2609.487351461127\n",
      "Generation 84000 the best objective is: 2609.487351461127\n",
      "Generation 85000 the best objective is: 2609.487351461127\n",
      "Generation 86000 the best objective is: 2609.487351461127\n",
      "The best objective achieved in 86883 generations is: 2609.487351461127 and it took 8.887999773025513 seconds.\n",
      "And the best route is: \n",
      "34, 33, 39, 37, 47, 36, 23, 14, 5, 3, 42, 32, 9, 8, 7, 40, 18, 44, 48, 21, \n",
      "31, 30, 20, 17, 2, 16, 6, 1, 41, 29, 19, 49, 15, \n",
      "35, 38, 4, 24, 11, 27, 26, 12, 13, 25, 45, 43, \n",
      "22, 28, 10, 50, \n",
      "51, 46, \n",
      "Average: 2609.487351461127\n"
     ]
    }
   ],
   "source": [
    "K = 5\n",
    "W = 35\n",
    "h = 0.3\n",
    "popsize = (10,50)\n",
    "k_tournament = 3\n",
    "num_iter = 20000\n",
    "Mutation_Chance = 0.1\n",
    "num_runs = 1\n",
    "avg = 0.0\n",
    "\n",
    "P = Chromosome[]\n",
    "for i=1:num_runs\n",
    "    P = Perform_Genetic_Algorithm(T, demands,K, W, h, popsize, k_tournament, num_iter, Mutation_Chance);\n",
    "    avg += P[1].fitness\n",
    "end\n",
    "\n",
    "println(\"Average: \", avg/num_runs)"
   ]
  },
  {
   "cell_type": "code",
   "execution_count": 79,
   "id": "d4f739a3",
   "metadata": {},
   "outputs": [
    {
     "name": "stdout",
     "output_type": "stream",
     "text": [
      "113.45550293624518   112.3730770471811   108.41078762966708   112.8628368803599   108.18099492780492   113.02427753484231   107.63527207331506   "
     ]
    }
   ],
   "source": [
    "for tour in P[1].tours\n",
    "    t1 = copy(tour);\n",
    "    pushfirst!(t1, 0)\n",
    "    push!(t1, n+1)\n",
    "\n",
    "    z1 = 0.0\n",
    "    for i=1:length(t1)-1\n",
    "        z1 += T[t1[i]+1, t1[i+1]+1]\n",
    "    end\n",
    "\n",
    "    print(z1, \"   \")\n",
    "end"
   ]
  },
  {
   "cell_type": "code",
   "execution_count": 29,
   "id": "24772d26",
   "metadata": {},
   "outputs": [
    {
     "data": {
      "text/plain": [
       "4"
      ]
     },
     "execution_count": 29,
     "metadata": {},
     "output_type": "execute_result"
    }
   ],
   "source": [
    "r1 = argmax([P[1].tours[i].cost for i=1:length(P[1].tours)])\n",
    "routes = [i for i=1:length(P[1].tours)]\n",
    "r2 = setdiff(routes, r1)[rand(1:length(P[1].tours)-1)]"
   ]
  },
  {
   "cell_type": "code",
   "execution_count": 18,
   "id": "60e6bdfb",
   "metadata": {},
   "outputs": [
    {
     "data": {
      "text/plain": [
       "5"
      ]
     },
     "execution_count": 18,
     "metadata": {},
     "output_type": "execute_result"
    }
   ],
   "source": [
    "r1"
   ]
  },
  {
   "cell_type": "code",
   "execution_count": 6,
   "id": "97999ba1",
   "metadata": {},
   "outputs": [
    {
     "data": {
      "text/plain": [
       "5-element Vector{Tour}:\n",
       " Tour([34, 33, 39, 37, 47, 36, 23, 14, 5, 3, 42, 32, 9, 8, 7, 40, 18, 44, 48, 21], 2557.7022429650438)\n",
       " Tour([31, 30, 20, 17, 2, 16, 6, 1, 41, 29, 19, 49, 15], 2516.602068167163)\n",
       " Tour([35, 38, 4, 24, 11, 27, 26, 12, 13, 25, 45, 43], 2507.8846234183943)\n",
       " Tour([22, 28, 10, 50], 2594.031504019028)\n",
       " Tour([51, 46], 2609.487351461127)"
      ]
     },
     "execution_count": 6,
     "metadata": {},
     "output_type": "execute_result"
    }
   ],
   "source": [
    "P[1].tours"
   ]
  },
  {
   "cell_type": "code",
   "execution_count": 10,
   "id": "6694ee76",
   "metadata": {},
   "outputs": [
    {
     "name": "stdout",
     "output_type": "stream",
     "text": [
      "2557.7022429650438\n",
      "2516.602068167163\n",
      "2507.8846234183943\n",
      "2594.0315040190276\n",
      "2609.487351461127\n"
     ]
    }
   ],
   "source": [
    "for tour in P[1].tours\n",
    "    cost = 0.0\n",
    "    seq = copy(tour.Sequence)\n",
    "    pushfirst!(seq, 0)\n",
    "    push!(seq, n+1)\n",
    "    for i=1:length(seq)-1\n",
    "        cost += T[seq[i]+1,seq[i+1]+1]\n",
    "    end\n",
    "    println(cost)\n",
    "end"
   ]
  },
  {
   "cell_type": "code",
   "execution_count": 9,
   "id": "73d22a21",
   "metadata": {},
   "outputs": [
    {
     "data": {
      "text/plain": [
       "2294.1478554084824"
      ]
     },
     "execution_count": 9,
     "metadata": {},
     "output_type": "execute_result"
    }
   ],
   "source": [
    "T[1,51]+T[51,46]+T[46,52]"
   ]
  },
  {
   "cell_type": "code",
   "execution_count": 61,
   "id": "b3e819bc",
   "metadata": {},
   "outputs": [
    {
     "name": "stdout",
     "output_type": "stream",
     "text": [
      "1 6 2 3 10 4 5 7 8 9 "
     ]
    }
   ],
   "source": [
    "Scramble_mutation(child, n)\n",
    "\n",
    "for i in child \n",
    "    print(i, \" \")\n",
    "end"
   ]
  },
  {
   "cell_type": "code",
   "execution_count": 105,
   "id": "067a9a3e",
   "metadata": {},
   "outputs": [
    {
     "data": {
      "text/plain": [
       "4"
      ]
     },
     "execution_count": 105,
     "metadata": {},
     "output_type": "execute_result"
    }
   ],
   "source": [
    "rand(1:5)"
   ]
  },
  {
   "cell_type": "code",
   "execution_count": 61,
   "id": "73ece0fc",
   "metadata": {},
   "outputs": [
    {
     "data": {
      "text/plain": [
       "51"
      ]
     },
     "execution_count": 61,
     "metadata": {},
     "output_type": "execute_result"
    }
   ],
   "source": [
    "n"
   ]
  },
  {
   "cell_type": "code",
   "execution_count": null,
   "id": "672223af",
   "metadata": {},
   "outputs": [],
   "source": []
  }
 ],
 "metadata": {
  "kernelspec": {
   "display_name": "Julia 1.6.3",
   "language": "julia",
   "name": "julia-1.6"
  },
  "language_info": {
   "file_extension": ".jl",
   "mimetype": "application/julia",
   "name": "julia",
   "version": "1.6.3"
  }
 },
 "nbformat": 4,
 "nbformat_minor": 5
}

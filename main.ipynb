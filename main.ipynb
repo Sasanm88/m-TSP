{
 "cells": [
  {
   "cell_type": "code",
   "execution_count": 5,
   "id": "d948d962",
   "metadata": {},
   "outputs": [
    {
     "data": {
      "text/plain": [
       "Calculate_new_cost_3_permute (generic function with 1 method)"
      ]
     },
     "execution_count": 5,
     "metadata": {},
     "output_type": "execute_result"
    }
   ],
   "source": [
    "include(\"Create_Sample.jl\")\n",
    "include(\"MIP_SPLIT.jl\")\n",
    "include(\"Split.jl\")\n",
    "include(\"GA.jl\")\n",
    "include(\"Initial.jl\")\n",
    "include(\"Mutation.jl\")\n",
    "include(\"Crossover.jl\")\n",
    "include(\"Neighborhood.jl\")\n",
    "include(\"Neighborhood_intra.jl\")\n",
    "include(\"costs.jl\")"
   ]
  },
  {
   "cell_type": "code",
   "execution_count": 6,
   "id": "08030fa1",
   "metadata": {
    "scrolled": false
   },
   "outputs": [
    {
     "name": "stdout",
     "output_type": "stream",
     "text": [
      "maximum infeasible: 1\n",
      "Results for eil51 ,m=2\n",
      "Best: 225.2  Average: 230.9  Worst: 239.0 , run time= 1.0\n",
      "Results for eil51 ,m=3\n",
      "Best: 162.0  Average: 169.7  Worst: 174.2 , run time= 2.0\n",
      "Results for eil51 ,m=5\n",
      "Best: 122.7  Average: 125.1  Worst: 127.5 , run time= 3.0\n",
      "Results for eil51 ,m=7\n",
      "Best: 112.1  Average: 112.1  Worst: 112.5 , run time= 1.0\n",
      "Results for berlin52 ,m=2\n",
      "Best: 4206.7  Average: 4242.5  Worst: 4270.7 , run time= 1.0\n",
      "Results for berlin52 ,m=3\n",
      "Best: 3189.6  Average: 3196.4  Worst: 3212.4 , run time= 2.0\n",
      "Results for berlin52 ,m=5\n",
      "Best: 2440.9  Average: 2466.7  Worst: 2485.6 , run time= 2.0\n",
      "Results for berlin52 ,m=7\n",
      "Best: 2440.9  Average: 2440.9  Worst: 2440.9 , run time= 1.0\n",
      "Results for eil76 ,m=2\n",
      "Best: 290.8  Average: 294.9  Worst: 300.8 , run time= 2.0\n",
      "Results for eil76 ,m=3\n",
      "Best: 201.3  Average: 212.2  Worst: 221.0 , run time= 5.0\n",
      "Results for eil76 ,m=5\n",
      "Best: 152.7  Average: 156.5  Worst: 161.4 , run time= 8.0\n",
      "Results for eil76 ,m=7\n",
      "Best: 132.1  Average: 135.6  Worst: 140.5 , run time= 5.0\n",
      "Results for rat99 ,m=2\n",
      "Best: 696.5  Average: 711.2  Worst: 738.8 , run time= 7.0\n",
      "Results for rat99 ,m=3\n",
      "Best: 550.9  Average: 565.9  Worst: 587.9 , run time= 10.0\n",
      "Results for rat99 ,m=5\n",
      "Best: 468.3  Average: 480.1  Worst: 490.4 , run time= 9.0\n",
      "Results for rat99 ,m=7\n",
      "Best: 444.4  Average: 452.1  Worst: 458.5 , run time= 8.0\n",
      "Overall Results:  Best: 1.6  Average: 3.7  Worst: 6.0   run time: 4.3\n",
      "maximum infeasible: 2\n",
      "Results for eil51 ,m=2\n",
      "Best: 225.2  Average: 229.9  Worst: 235.7 , run time= 2.0\n",
      "Results for eil51 ,m=3\n",
      "Best: 165.8  Average: 171.9  Worst: 175.2 , run time= 1.0\n",
      "Results for eil51 ,m=5\n",
      "Best: 123.0  Average: 126.2  Worst: 128.2 , run time= 3.0\n",
      "Results for eil51 ,m=7\n",
      "Best: 112.1  Average: 112.1  Worst: 112.1 , run time= 2.0\n",
      "Results for berlin52 ,m=2\n",
      "Best: 4214.4  Average: 4240.2  Worst: 4268.3 , run time= 1.0\n",
      "Results for berlin52 ,m=3\n",
      "Best: 3191.2  Average: 3199.3  Worst: 3231.5 , run time= 1.0\n",
      "Results for berlin52 ,m=5\n",
      "Best: 2441.4  Average: 2493.3  Worst: 2607.9 , run time= 3.0\n",
      "Results for berlin52 ,m=7\n",
      "Best: 2440.9  Average: 2440.9  Worst: 2440.9 , run time= 1.0\n",
      "Results for eil76 ,m=2\n",
      "Best: 285.4  Average: 293.1  Worst: 298.8 , run time= 2.0\n",
      "Results for eil76 ,m=3\n",
      "Best: 205.3  Average: 216.6  Worst: 222.0 , run time= 2.0\n",
      "Results for eil76 ,m=5\n",
      "Best: 154.7  Average: 158.2  Worst: 161.4 , run time= 6.0\n",
      "Results for eil76 ,m=7\n",
      "Best: 131.6  Average: 135.3  Worst: 140.5 , run time= 9.0\n",
      "Results for rat99 ,m=2\n",
      "Best: 713.3  Average: 731.1  Worst: 756.3 , run time= 4.0\n",
      "Results for rat99 ,m=3\n",
      "Best: 518.6  Average: 559.0  Worst: 606.4 , run time= 10.0\n",
      "Results for rat99 ,m=5\n",
      "Best: 464.9  Average: 481.1  Worst: 500.0 , run time= 13.0\n",
      "Results for rat99 ,m=7\n",
      "Best: 444.2  Average: 451.7  Worst: 459.3 , run time= 13.0\n",
      "Overall Results:  Best: 1.6  Average: 4.2  Worst: 6.8   run time: 4.6\n",
      "maximum infeasible: 3\n",
      "Results for eil51 ,m=2\n",
      "Best: 225.2  Average: 231.7  Worst: 234.9 , run time= 2.0\n",
      "Results for eil51 ,m=3\n",
      "Best: 168.0  Average: 173.3  Worst: 175.2 , run time= 1.0\n",
      "Results for eil51 ,m=5\n",
      "Best: 122.7  Average: 125.7  Worst: 128.0 , run time= 4.0\n",
      "Results for eil51 ,m=7\n",
      "Best: 112.1  Average: 112.1  Worst: 112.5 , run time= 2.0\n",
      "Results for berlin52 ,m=2\n",
      "Best: 4200.8  Average: 4230.4  Worst: 4272.5 , run time= 2.0\n",
      "Results for berlin52 ,m=3\n",
      "Best: 3191.2  Average: 3196.8  Worst: 3214.1 , run time= 2.0\n",
      "Results for berlin52 ,m=5\n",
      "Best: 2441.4  Average: 2477.3  Worst: 2607.9 , run time= 4.0\n",
      "Results for berlin52 ,m=7\n",
      "Best: 2440.9  Average: 2440.9  Worst: 2440.9 , run time= 2.0\n",
      "Results for eil76 ,m=2\n",
      "Best: 284.5  Average: 293.3  Worst: 296.8 , run time= 3.0\n",
      "Results for eil76 ,m=3\n",
      "Best: 207.3  Average: 216.1  Worst: 222.6 , run time= 2.0\n",
      "Results for eil76 ,m=5\n",
      "Best: 151.5  Average: 158.3  Worst: 163.6 , run time= 5.0\n",
      "Results for eil76 ,m=7\n",
      "Best: 132.4  Average: 135.3  Worst: 140.5 , run time= 9.0\n",
      "Results for rat99 ,m=2\n",
      "Best: 717.9  Average: 732.2  Worst: 746.1 , run time= 4.0\n",
      "Results for rat99 ,m=3\n",
      "Best: 536.9  Average: 569.2  Worst: 618.7 , run time= 12.0\n",
      "Results for rat99 ,m=5\n",
      "Best: 471.2  Average: 479.2  Worst: 488.1 , run time= 14.0\n",
      "Results for rat99 ,m=7\n",
      "Best: 447.3  Average: 454.8  Worst: 459.3 , run time= 12.0\n",
      "Overall Results:  Best: 2.0  Average: 4.3  Worst: 6.7   run time: 5.0\n"
     ]
    }
   ],
   "source": [
    "instances = [:eil51, :berlin52, :eil76, :rat99]\n",
    "LKH3 = [[222.7, 159.6, 124.0, 112.1],[4110.2, 3184.2, 2440.9, 2440.9], [280.9, 196.7, 143.4, 128.2],[690.8, 523.3, 467.0,442.5]]\n",
    "Ms = [2,3,5,7]\n",
    "max_infs = [1,2,3]\n",
    "# best_v = Float64[]\n",
    "# Avg_v = Float64[]\n",
    "# worst_v = Float64[]\n",
    "\n",
    "for max_inf in max_infs\n",
    "    count = 0\n",
    "    best_ = 0.0\n",
    "    Avg_ = 0.0\n",
    "    worst_ = 0.0\n",
    "    time_ = 0.0\n",
    "    println(\"maximum infeasible: \", max_inf)\n",
    "    for (i,instance) in enumerate(instances)\n",
    "        for (j,K) in enumerate(Ms)\n",
    "            count += 1\n",
    "            T = Read_TSPLIB_instance(instance, 1)\n",
    "            n = size(T)[1]-2\n",
    "            demands = ones(Int, n)\n",
    "            W = 150\n",
    "            h = 0.3\n",
    "            num_nei = 2\n",
    "            popsize = (20,50)\n",
    "            k_tournament = 3\n",
    "            num_iter = 2000\n",
    "            Mutation_Chance = 0.0\n",
    "            num_runs = 10\n",
    "            targetFeasible = 0.2\n",
    "            avg = 0.0\n",
    "            best = Inf\n",
    "            worst = 0.0\n",
    "            t1 = time() \n",
    "            P = Chromosome[]\n",
    "            for i=1:num_runs\n",
    "                P = Perform_Genetic_Algorithm(T, demands,K, W, h, popsize, k_tournament, num_iter, Mutation_Chance, num_nei, targetFeasible, max_inf);\n",
    "                solution = best_objective(P)\n",
    "                avg += solution\n",
    "                if solution < best\n",
    "                    best = solution\n",
    "                end\n",
    "                if solution > worst\n",
    "                    worst = solution\n",
    "                end\n",
    "            end\n",
    "            t2 = time()\n",
    "            println(\"Results for \", instance, \" ,m=\", K)\n",
    "            println(\"Best: \", round(best, digits = 1), \"  Average: \", round(avg/num_runs, digits = 1), \n",
    "                \"  Worst: \", round(worst, digits = 1), \" , run time= \", round((t2-t1)/num_runs, digits=0))\n",
    "            best_ += 100*(best-LKH3[i][j])/LKH3[i][j]\n",
    "            worst_ += 100*(worst-LKH3[i][j])/LKH3[i][j]\n",
    "            Avg_ += 100*(avg/num_runs-LKH3[i][j])/LKH3[i][j]\n",
    "            time_ += (t2-t1)/num_runs\n",
    "        end\n",
    "    end\n",
    "    #     push!(best_v, best_/count)\n",
    "    #     push!(worst_v, worst_/count)\n",
    "    #     push!(Avg_v, Avg_/count)\n",
    "    println(\"Overall Results:  Best: \", round(best_/count, digits=1), \"  Average: \", round(Avg_/count, digits=1), \"  Worst: \", round(worst_/count, digits=1), \"   run time: \", round(time_/count, digits=1))\n",
    "end\n",
    "    "
   ]
  },
  {
   "cell_type": "code",
   "execution_count": 119,
   "id": "d4f739a3",
   "metadata": {},
   "outputs": [
    {
     "ename": "LoadError",
     "evalue": "BoundsError: attempt to access 0-element Vector{Chromosome} at index [1]",
     "output_type": "error",
     "traceback": [
      "BoundsError: attempt to access 0-element Vector{Chromosome} at index [1]",
      "",
      "Stacktrace:",
      " [1] getindex(A::Vector{Chromosome}, i1::Int64)",
      "   @ Base .\\array.jl:805",
      " [2] top-level scope",
      "   @ .\\In[119]:1",
      " [3] eval",
      "   @ .\\boot.jl:360 [inlined]",
      " [4] include_string(mapexpr::typeof(REPL.softscope), mod::Module, code::String, filename::String)",
      "   @ Base .\\loading.jl:1116"
     ]
    }
   ],
   "source": [
    "for tour in P[1].tours\n",
    "    t1 = copy(tour.Sequence);\n",
    "    pushfirst!(t1, 0)\n",
    "    push!(t1, n+1)\n",
    "\n",
    "    z1 = 0.0\n",
    "    for i=1:length(t1)-1\n",
    "        z1 += T[t1[i]+1, t1[i+1]+1]\n",
    "    end\n",
    "\n",
    "    println(z1, \" ,  \", tour.cost)\n",
    "end"
   ]
  },
  {
   "cell_type": "code",
   "execution_count": 83,
   "id": "a6f04ba1",
   "metadata": {},
   "outputs": [
    {
     "data": {
      "text/plain": [
       "Calculate_new_cost_3_permute2 (generic function with 1 method)"
      ]
     },
     "execution_count": 83,
     "metadata": {},
     "output_type": "execute_result"
    }
   ],
   "source": [
    "function Calculate_new_cost_3_permute1(tour::Vector{Int}, cost::Float64, S1::Vector{Int}, S2::Vector{Int}\n",
    "        ,k1::Int, T::Matrix{Float64}, n_nodes::Int)\n",
    "    if S1 == S2 \n",
    "        return cost\n",
    "    end\n",
    "    nt = length(tour)\n",
    "    cost = cost - T[S1[1]+1, S1[2]+1] - T[S1[2]+1, S1[3]+1] + T[S2[1]+1, S2[2]+1] + T[S2[2]+1, S2[3]+1]\n",
    "    \n",
    "    if k1 == 1\n",
    "        cost = cost - T[1, S1[1]+1] + T[1, S2[1]+1] - T[S1[3]+1, tour[4]+1] + T[S2[3]+1, tour[4]+1] \n",
    "    elseif k1 == nt-2\n",
    "        cost = cost - T[S1[3]+1, n_nodes+2] + T[S2[3]+1, n_nodes+2] - T[tour[nt-3]+1, S1[1]+1] + T[tour[nt-3]+1, S2[1]+1]\n",
    "    else\n",
    "        cost = cost - T[tour[k1-1]+1, S1[1]+1] + T[tour[k1-1]+1, S2[1]+1] - T[S1[3]+1, tour[k1+3]+1] + T[S2[3]+1, tour[k1+3]+1] \n",
    "    end\n",
    "    return cost\n",
    "end\n",
    "\n",
    "\n",
    "\n",
    "function Calculate_new_cost_3_permute2(tour::Vector{Int}, cost::Float64, S1::Vector{Int}, S2::Vector{Int}\n",
    "        ,k1::Int, T::Matrix{Float64}, n_nodes::Int)\n",
    "\n",
    "    nt = length(tour)\n",
    "    \n",
    "    t1 = copy(tour)\n",
    "    t1[k1:k1+2] = S2\n",
    "    pushfirst!(t1, 0)\n",
    "    push!(t1, n_nodes+1)\n",
    "    z1 = 0.0\n",
    "    for i=1:length(t1)-1\n",
    "        z1 += T[t1[i]+1, t1[i+1]+1]\n",
    "    end\n",
    "    \n",
    "    return z1\n",
    "end"
   ]
  },
  {
   "cell_type": "code",
   "execution_count": 38,
   "id": "8e8bbffa",
   "metadata": {},
   "outputs": [],
   "source": [
    "instance = :rat99\n",
    "T = Read_TSPLIB_instance(instance, 1)\n",
    "n_nodes = size(T)[1]-2\n",
    "tsp_tour = find_tsp_tour1(T)\n",
    "demands = ones(Int, n_nodes)\n",
    "W = 150\n",
    "K = 2\n",
    "mu = 10\n",
    "P, _ = Generate_initial_population(T, demands, K, W, mu, tsp_tour);"
   ]
  },
  {
   "cell_type": "code",
   "execution_count": 39,
   "id": "d920bfb7",
   "metadata": {},
   "outputs": [
    {
     "data": {
      "text/plain": [
       "2-element Vector{Tour}:\n",
       " Tour([9, 10, 11, 12, 21, 20, 19, 18, 27, 36  …  82, 90, 91, 92, 93, 94, 95, 96, 97, 98], 823.6584356071808)\n",
       " Tour([89, 88, 78, 87, 86, 85, 84, 83, 75, 76  …  17, 8, 7, 6, 5, 4, 13, 3, 2, 1], 806.3918274353607)"
      ]
     },
     "execution_count": 39,
     "metadata": {},
     "output_type": "execute_result"
    }
   ],
   "source": [
    "P[1].tours"
   ]
  },
  {
   "cell_type": "code",
   "execution_count": 74,
   "id": "d3b514b1",
   "metadata": {},
   "outputs": [
    {
     "data": {
      "text/plain": [
       "823.6584356071808"
      ]
     },
     "execution_count": 74,
     "metadata": {},
     "output_type": "execute_result"
    }
   ],
   "source": [
    "tour1 = copy(P[1].tours[1].Sequence)\n",
    "tour2 = copy(P[1].tours[1].Sequence)\n",
    "cost1 = P[1].tours[1].cost\n",
    "cost2 = P[1].tours[1].cost\n",
    "\n"
   ]
  },
  {
   "cell_type": "code",
   "execution_count": 85,
   "id": "5560fee9",
   "metadata": {},
   "outputs": [
    {
     "name": "stdout",
     "output_type": "stream",
     "text": [
      "time for 1:4.017000198364258\n",
      "time for 2:9.663999795913696\n"
     ]
    }
   ],
   "source": [
    "include(\"Neighborhood.jl\")\n",
    "\n",
    "tt1 = 0.0\n",
    "tt2 = 0.0\n",
    "t1 = time()\n",
    "for i=1:10000000\n",
    "    k1 = rand(1:length(tour1)-2)\n",
    "    S1 = copy(tour1[k1:k1+2])\n",
    "    S2 = shuffle(S1)\n",
    "\n",
    "    new_cost1 = Calculate_new_cost_3_permute1(tour1, cost1, S1, S2, k1, T, n_nodes)\n",
    "#     z1 = Calculate_new_cost_3_permute2(tour1, cost1, S1, S2, k1, T, n_nodes)\n",
    "\n",
    "#     if round(new_cost1, digits = 6) != round(z1, digits = 6)\n",
    "#         println(k1)\n",
    "#         println(round(new_cost1, digits = 6), \"   \", round(z1, digits = 6))\n",
    "#     end\n",
    "end\n",
    "\n",
    "println(\"time for 1:\", time()- t1)\n",
    "\n",
    "t2 = time()\n",
    "for i=1:10000000\n",
    "    k1 = rand(1:length(tour1)-2)\n",
    "    S1 = copy(tour1[k1:k1+2])\n",
    "    S2 = shuffle(S1)\n",
    "\n",
    "    z1 = Calculate_new_cost_3_permute2(tour1, cost1, S1, S2, k1, T, n_nodes)\n",
    "\n",
    "end\n",
    "\n",
    "println(\"time for 2:\", time()- t2)\n"
   ]
  },
  {
   "cell_type": "code",
   "execution_count": 42,
   "id": "50d62d17",
   "metadata": {},
   "outputs": [
    {
     "data": {
      "text/plain": [
       "49"
      ]
     },
     "execution_count": 42,
     "metadata": {},
     "output_type": "execute_result"
    }
   ],
   "source": [
    "length(tour1)"
   ]
  },
  {
   "cell_type": "code",
   "execution_count": 2,
   "id": "56af0825",
   "metadata": {},
   "outputs": [
    {
     "data": {
      "text/plain": [
       "find_neighbors (generic function with 1 method)"
      ]
     },
     "execution_count": 2,
     "metadata": {},
     "output_type": "execute_result"
    }
   ],
   "source": [
    "function find_neighbors(a::Int, i::Int, m::Int)\n",
    "    \n",
    "    neighbors = Int[]\n",
    "    for j=max(1, i-m):i-1\n",
    "        push!(neighbors, j)\n",
    "    end\n",
    "    for j=i+1:min(a, i+m)\n",
    "        push!(neighbors, j)\n",
    "    end\n",
    "    return neighbors\n",
    "end"
   ]
  },
  {
   "cell_type": "code",
   "execution_count": 5,
   "id": "190261bf",
   "metadata": {},
   "outputs": [
    {
     "data": {
      "text/plain": [
       "19-element Vector{Int64}:\n",
       "  1\n",
       "  2\n",
       "  3\n",
       "  5\n",
       "  6\n",
       "  7\n",
       "  8\n",
       "  9\n",
       " 10\n",
       " 11\n",
       " 12\n",
       " 13\n",
       " 14\n",
       " 15\n",
       " 16\n",
       " 17\n",
       " 18\n",
       " 19\n",
       " 20"
      ]
     },
     "execution_count": 5,
     "metadata": {},
     "output_type": "execute_result"
    }
   ],
   "source": [
    "find_neighbors(20, 4, 50)"
   ]
  },
  {
   "cell_type": "code",
   "execution_count": 68,
   "id": "380e84bb",
   "metadata": {},
   "outputs": [
    {
     "data": {
      "text/plain": [
       "true"
      ]
     },
     "execution_count": 68,
     "metadata": {},
     "output_type": "execute_result"
    }
   ],
   "source": [
    "a == b"
   ]
  },
  {
   "cell_type": "code",
   "execution_count": null,
   "id": "af5be388",
   "metadata": {},
   "outputs": [],
   "source": []
  }
 ],
 "metadata": {
  "kernelspec": {
   "display_name": "Julia 1.6.3",
   "language": "julia",
   "name": "julia-1.6"
  },
  "language_info": {
   "file_extension": ".jl",
   "mimetype": "application/julia",
   "name": "julia",
   "version": "1.6.3"
  }
 },
 "nbformat": 4,
 "nbformat_minor": 5
}

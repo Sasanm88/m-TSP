{
 "cells": [
  {
   "cell_type": "code",
   "execution_count": 29,
   "id": "d948d962",
   "metadata": {},
   "outputs": [
    {
     "data": {
      "text/plain": [
       "Ni7 (generic function with 1 method)"
      ]
     },
     "execution_count": 29,
     "metadata": {},
     "output_type": "execute_result"
    }
   ],
   "source": [
    "include(\"Create_Sample.jl\")\n",
    "include(\"MIP_SPLIT.jl\")\n",
    "include(\"Split.jl\")\n",
    "include(\"GA.jl\")\n",
    "include(\"Initial.jl\")\n",
    "include(\"Mutation.jl\")\n",
    "include(\"Crossover.jl\")\n",
    "include(\"Neighborhood.jl\")\n",
    "include(\"Neighborhood_intra.jl\")"
   ]
  },
  {
   "cell_type": "code",
   "execution_count": 211,
   "id": "832e22fe",
   "metadata": {},
   "outputs": [
    {
     "name": "stdout",
     "output_type": "stream",
     "text": [
      "done"
     ]
    }
   ],
   "source": [
    "# n = 50\n",
    "# length_of_area = 10\n",
    "# tspeed = 40\n",
    "# TT = Creat_Sample(n, length_of_area, tspeed)\n",
    "# chrm = shuffle!([i for i = 1:n])\n",
    "# demands = rand(1:10, n)\n",
    "T = Read_TSPLIB_instance(:eil51, 1)\n",
    "n = size(T)[1]-2\n",
    "demands = ones(Int, n)\n",
    "print(\"done\")"
   ]
  },
  {
   "cell_type": "code",
   "execution_count": null,
   "id": "08030fa1",
   "metadata": {
    "scrolled": true
   },
   "outputs": [
    {
     "name": "stdout",
     "output_type": "stream",
     "text": [
      "The best objective achieved in 22144 generations is: 225.2333319859696 and it took 6.190999984741211 seconds.\n",
      "The best objective achieved in 22090 generations is: 225.2333319859696 and it took 4.491999864578247 seconds.\n",
      "The best objective achieved in 22302 generations is: 225.2333319859696 and it took 4.209000110626221 seconds.\n",
      "The best objective achieved in 38251 generations is: 225.2333319859696 and it took 7.246999979019165 seconds.\n",
      "The best objective achieved in 30207 generations is: 226.3840426890465 and it took 5.713000059127808 seconds.\n",
      "The best objective achieved in 20866 generations is: 225.2333319859696 and it took 4.128000020980835 seconds.\n"
     ]
    }
   ],
   "source": [
    "instances = [:eil51, :berlin52]\n",
    "Ms = [2,3,5,7]\n",
    "\n",
    "for instance in instances\n",
    "    for K in Ms\n",
    "# K = 2\n",
    "        T = Read_TSPLIB_instance(instance, 1)\n",
    "        n = size(T)[1]-2\n",
    "        demands = ones(Int, n)\n",
    "        W = 150\n",
    "        h = 1.0\n",
    "        popsize = (10,50)\n",
    "        k_tournament = 3\n",
    "        num_iter = 20000\n",
    "        Mutation_Chance = 0.1\n",
    "        num_runs = 10\n",
    "        avg = 0.0\n",
    "        best = Inf\n",
    "        worst = 0.0\n",
    "        t1 = time() \n",
    "        P = Chromosome[]\n",
    "        for i=1:num_runs\n",
    "            P = Perform_Genetic_Algorithm(T, demands,K, W, h, popsize, k_tournament, num_iter, Mutation_Chance);\n",
    "            avg += P[1].fitness\n",
    "            if P[1].fitness < best\n",
    "                best = P[1].fitness\n",
    "            end\n",
    "            if P[1].fitness > worst\n",
    "                worst = P[1].fitness\n",
    "            end\n",
    "        end\n",
    "        t2 = time()\n",
    "        println(\"Results for \", instance, \" ,m=\", K)\n",
    "        println(\"Best: \", round(best, digits = 1), \"  Average: \", round(avg/num_runs, digits = 1), \n",
    "            \"  Worst: \", round(worst, digits = 1), \" , run time= \", round((t2-t1)/num_runs, digits=0))\n",
    "    end\n",
    "end"
   ]
  },
  {
   "cell_type": "code",
   "execution_count": 119,
   "id": "d4f739a3",
   "metadata": {},
   "outputs": [
    {
     "ename": "LoadError",
     "evalue": "BoundsError: attempt to access 0-element Vector{Chromosome} at index [1]",
     "output_type": "error",
     "traceback": [
      "BoundsError: attempt to access 0-element Vector{Chromosome} at index [1]",
      "",
      "Stacktrace:",
      " [1] getindex(A::Vector{Chromosome}, i1::Int64)",
      "   @ Base .\\array.jl:805",
      " [2] top-level scope",
      "   @ .\\In[119]:1",
      " [3] eval",
      "   @ .\\boot.jl:360 [inlined]",
      " [4] include_string(mapexpr::typeof(REPL.softscope), mod::Module, code::String, filename::String)",
      "   @ Base .\\loading.jl:1116"
     ]
    }
   ],
   "source": [
    "for tour in P[1].tours\n",
    "    t1 = copy(tour.Sequence);\n",
    "    pushfirst!(t1, 0)\n",
    "    push!(t1, n+1)\n",
    "\n",
    "    z1 = 0.0\n",
    "    for i=1:length(t1)-1\n",
    "        z1 += T[t1[i]+1, t1[i+1]+1]\n",
    "    end\n",
    "\n",
    "    println(z1, \" ,  \", tour.cost)\n",
    "end"
   ]
  },
  {
   "cell_type": "code",
   "execution_count": 215,
   "id": "24772d26",
   "metadata": {},
   "outputs": [
    {
     "name": "stdout",
     "output_type": "stream",
     "text": [
      "berlin52"
     ]
    }
   ],
   "source": [
    "print(:berlin52)"
   ]
  },
  {
   "cell_type": "code",
   "execution_count": 10,
   "id": "60e6bdfb",
   "metadata": {},
   "outputs": [
    {
     "data": {
      "text/plain": [
       "2693.3316949626014"
      ]
     },
     "execution_count": 10,
     "metadata": {},
     "output_type": "execute_result"
    }
   ],
   "source": [
    "maximum([P[1].tours[i].cost for i=1:length(P[1].tours)])"
   ]
  },
  {
   "cell_type": "code",
   "execution_count": 8,
   "id": "97999ba1",
   "metadata": {},
   "outputs": [
    {
     "name": "stdout",
     "output_type": "stream",
     "text": [
      "39 37 47 23 24 11 50 10 25 46 18 38 36 4 42 32 9 8 7 40 13 51 12 26 27 44 29 41 1 6 20 16 2 30 17 48 21 34 35 31 43 45 3 14 5 33 15 49 19 22 28 "
     ]
    }
   ],
   "source": [
    "for i in P[1].genes\n",
    "    print(i,\" \")\n",
    "end"
   ]
  },
  {
   "cell_type": "code",
   "execution_count": 10,
   "id": "6694ee76",
   "metadata": {},
   "outputs": [
    {
     "name": "stdout",
     "output_type": "stream",
     "text": [
      "2557.7022429650438\n",
      "2516.602068167163\n",
      "2507.8846234183943\n",
      "2594.0315040190276\n",
      "2609.487351461127\n"
     ]
    }
   ],
   "source": [
    "for tour in P[1].tours\n",
    "    cost = 0.0\n",
    "    seq = copy(tour.Sequence)\n",
    "    pushfirst!(seq, 0)\n",
    "    push!(seq, n+1)\n",
    "    for i=1:length(seq)-1\n",
    "        cost += T[seq[i]+1,seq[i+1]+1]\n",
    "    end\n",
    "    println(cost)\n",
    "end"
   ]
  },
  {
   "cell_type": "code",
   "execution_count": 9,
   "id": "73d22a21",
   "metadata": {},
   "outputs": [
    {
     "data": {
      "text/plain": [
       "2294.1478554084824"
      ]
     },
     "execution_count": 9,
     "metadata": {},
     "output_type": "execute_result"
    }
   ],
   "source": [
    "T[1,51]+T[51,46]+T[46,52]"
   ]
  },
  {
   "cell_type": "code",
   "execution_count": 29,
   "id": "b3e819bc",
   "metadata": {},
   "outputs": [
    {
     "data": {
      "text/plain": [
       "Find_Closeness (generic function with 1 method)"
      ]
     },
     "execution_count": 29,
     "metadata": {},
     "output_type": "execute_result"
    }
   ],
   "source": [
    "function Find_Closeness(TT::Matrix{Float64}, h::Float64)\n",
    "    n_nodes = size(TT)[1]-2\n",
    "    num = Int(ceil(h*n_nodes))\n",
    "    ClosenessT = zeros(Int, n_nodes,num)\n",
    "    for i=2:n_nodes+1\n",
    "        a = copy(TT[i,2:n_nodes+1])\n",
    "        b = sortperm(a)\n",
    "        ClosenessT[i-1,:] = b[2:num+1]\n",
    "    end\n",
    "    return ClosenessT\n",
    "end"
   ]
  },
  {
   "cell_type": "code",
   "execution_count": 21,
   "id": "067a9a3e",
   "metadata": {},
   "outputs": [
    {
     "data": {
      "text/plain": [
       "52×11 Matrix{Int64}:\n",
       "  6  41  29  20  16  22  30  19  17  49  28\n",
       " 17  18  30  16  44  21  31  40  48  20   7\n",
       "  5  14   4  24  23  47  37  39  36  38  45\n",
       " 14  23   5  47  37  39  36   3  38  24  33\n",
       "  4  14  23   3  47  37  39  36  24  38  45\n",
       "  1  41  20  29  16  22  30  19  17  49  21\n",
       " 40  18   9   8  44   2  31  42  17  48  38\n",
       "  9   7  40  18  44  42   2  31  48  39  38\n",
       "  8   7  40  18  42  44  31   2  14  39  38\n",
       " 50  11  51  26  27  12  25  13  24   3  46\n",
       " 27  50  24  26   3  25   5   4  10  23  14\n",
       " 26  13  25  51  27  46  10  11  50  24  45\n",
       " 12  51  46  26  25  27  10  11  50  24  45\n",
       "  ⋮                   ⋮                   ⋮\n",
       "  6   1  20  29  16  22  30  19  17  49  21\n",
       " 14   3   5   4  37  39  23   9  47  38  36\n",
       " 33  34  35  36  45  15  38  48  39  47  37\n",
       " 18  31  40   7  48   2  17  21  35  38  34\n",
       " 47  43  36  23  15  33  37   4  24  39   5\n",
       " 25  26  12  27  13  11  28  15  45  24  51\n",
       " 23   4  37  36   5  14  39  38  45  33   3\n",
       " 31  35  34  21  33  38  39  43  36  17  37\n",
       " 19  22  15  43  28  29  21  33  34  30  48\n",
       " 11  10  27  24   3  26   5  32  25  14   4\n",
       " 12  13  10  26  27  25  46  11  50  24   3\n",
       " 48  31  34  35  33  30  43  17  38  22  36"
      ]
     },
     "execution_count": 21,
     "metadata": {},
     "output_type": "execute_result"
    }
   ],
   "source": [
    "Find_Closeness(T, 0.2)"
   ]
  },
  {
   "cell_type": "code",
   "execution_count": 38,
   "id": "73ece0fc",
   "metadata": {},
   "outputs": [
    {
     "data": {
      "text/plain": [
       "3"
      ]
     },
     "execution_count": 38,
     "metadata": {},
     "output_type": "execute_result"
    }
   ],
   "source": [
    "T[]"
   ]
  },
  {
   "cell_type": "code",
   "execution_count": 12,
   "id": "672223af",
   "metadata": {},
   "outputs": [
    {
     "data": {
      "text/plain": [
       "test (generic function with 1 method)"
      ]
     },
     "execution_count": 12,
     "metadata": {},
     "output_type": "execute_result"
    }
   ],
   "source": [
    "function test(a::Int)\n",
    "    a += 1\n",
    "    return a\n",
    "end\n"
   ]
  },
  {
   "cell_type": "code",
   "execution_count": 13,
   "id": "7d69189b",
   "metadata": {},
   "outputs": [
    {
     "data": {
      "text/plain": [
       "6"
      ]
     },
     "execution_count": 13,
     "metadata": {},
     "output_type": "execute_result"
    }
   ],
   "source": [
    "x = 5\n",
    "\n",
    "test(x)"
   ]
  },
  {
   "cell_type": "code",
   "execution_count": 22,
   "id": "2f14b336",
   "metadata": {},
   "outputs": [
    {
     "data": {
      "text/plain": [
       "7-element Vector{Any}:\n",
       "     1\n",
       "     2\n",
       "     4\n",
       "     7\n",
       "   100\n",
       "  1000\n",
       " 10000"
      ]
     },
     "execution_count": 22,
     "metadata": {},
     "output_type": "execute_result"
    }
   ],
   "source": [
    "x = []\n",
    "a = [1,2]\n",
    "b = [4,7]\n",
    "c = [100, 1000, 10000]\n",
    "x = vcat(x,a)\n",
    "x = vcat(x,b)\n",
    "x = vcat(x,c)\n"
   ]
  },
  {
   "cell_type": "code",
   "execution_count": 83,
   "id": "bf67e263",
   "metadata": {},
   "outputs": [
    {
     "data": {
      "text/plain": [
       "7-element Vector{Int64}:\n",
       "    1\n",
       "    2\n",
       "  100\n",
       " 1000\n",
       "    3\n",
       "    4\n",
       "    5"
      ]
     },
     "execution_count": 83,
     "metadata": {},
     "output_type": "execute_result"
    }
   ],
   "source": [
    "a = [1,2,3,4,5]\n",
    "k = 3\n",
    "insert!(a, k, 100)\n",
    "insert!(a, k+1, 1000)"
   ]
  },
  {
   "cell_type": "code",
   "execution_count": 87,
   "id": "b2248f21",
   "metadata": {},
   "outputs": [
    {
     "data": {
      "text/plain": [
       "3-element Vector{Int64}:\n",
       "  3\n",
       "  8\n",
       " 10"
      ]
     },
     "execution_count": 87,
     "metadata": {},
     "output_type": "execute_result"
    }
   ],
   "source": [
    "sort!(sample(1:10, 3, replace=false))"
   ]
  },
  {
   "cell_type": "code",
   "execution_count": 97,
   "id": "85d1952b",
   "metadata": {},
   "outputs": [
    {
     "data": {
      "text/plain": [
       "7-element Vector{Int64}:\n",
       "    1\n",
       "    2\n",
       "  100\n",
       " 1000\n",
       "    3\n",
       "    4\n",
       "    5"
      ]
     },
     "execution_count": 97,
     "metadata": {},
     "output_type": "execute_result"
    }
   ],
   "source": [
    "a"
   ]
  },
  {
   "cell_type": "code",
   "execution_count": 103,
   "id": "f86dcc73",
   "metadata": {},
   "outputs": [
    {
     "data": {
      "text/plain": [
       "4-element Vector{Int64}:\n",
       "    3\n",
       " 1000\n",
       "    2\n",
       "  100"
      ]
     },
     "execution_count": 103,
     "metadata": {},
     "output_type": "execute_result"
    }
   ],
   "source": [
    "a[2:5] = shuffle!(a[2:5])"
   ]
  },
  {
   "cell_type": "code",
   "execution_count": 157,
   "id": "52ca42f9",
   "metadata": {},
   "outputs": [
    {
     "data": {
      "text/plain": [
       "53×53 Matrix{Float64}:\n",
       "    0.0      666.108   281.114   395.601   …   789.383  1220.46      0.0\n",
       "  666.108      0.0     649.327  1047.09       1421.56   1716.05    666.108\n",
       "  281.114    649.327     0.0     603.511       995.314  1483.59    281.114\n",
       "  395.601   1047.09    603.511     0.0         397.02    908.639   395.601\n",
       "  291.204    945.145   508.945   104.403       499.925   984.441   291.204\n",
       "  326.267    978.085   542.517    69.6419  …   464.57    954.895   326.267\n",
       "  640.8       45.0     610.574  1026.36       1405.08   1715.07    640.8\n",
       "  426.878    956.151   308.058   525.0         860.145  1430.47    426.878\n",
       "  600.187   1134.96    485.644   611.003       883.233  1486.78    600.187\n",
       "  561.471   1132.98    487.263   533.901       800.078  1404.04    561.471\n",
       " 1040.97    1638.79   1266.69    663.193   …   285.044   398.56   1040.97\n",
       "  655.019   1258.59    891.361   294.364       188.215   618.567   655.019\n",
       "  975.0     1440.08   1247.76    711.073       539.676   278.657   975.0\n",
       "    ⋮                                      ⋱     ⋮                \n",
       "  565.796    102.591   550.091   950.329      1329.0    1645.07    565.796\n",
       "  463.816   1123.71    556.597   245.204       504.232  1097.2     463.816\n",
       "  154.434    744.883   434.195   307.002       678.399  1070.81    154.434\n",
       "  240.208    823.286   219.829   411.096       790.142  1314.96    240.208\n",
       "  279.866    859.084   552.675   230.705   …   563.649   941.116   279.866\n",
       "  791.281   1151.27   1072.31    659.564       681.542   597.746   791.281\n",
       "  267.301    910.302   504.802   137.295       522.805   980.472   267.301\n",
       "   64.0312   728.011   288.487   345.254       741.772  1196.92     64.0312\n",
       "  217.083    596.259   463.249   477.624       829.608  1150.76    217.083\n",
       "  789.383   1421.56    995.314   397.02    …     0.0     624.82    789.383\n",
       " 1220.46    1716.05   1483.59    908.639       624.82      0.0    1220.46\n",
       "    0.0      666.108   281.114   395.601       789.383  1220.46      0.0"
      ]
     },
     "execution_count": 157,
     "metadata": {},
     "output_type": "execute_result"
    }
   ],
   "source": [
    "T"
   ]
  },
  {
   "cell_type": "code",
   "execution_count": 190,
   "id": "4076be76",
   "metadata": {},
   "outputs": [
    {
     "data": {
      "text/plain": [
       "find_tsp_tour1 (generic function with 1 method)"
      ]
     },
     "execution_count": 190,
     "metadata": {},
     "output_type": "execute_result"
    }
   ],
   "source": [
    "function find_tsp_tour1(Ct::Matrix{Float64})\n",
    "    scale_factor = 1000\n",
    "    dist_mtx = round.(Int, Ct .* scale_factor)\n",
    "\n",
    "    # tsp_tour, tsp_tour_len = Concorde.solve_tsp(dist_mtx)\n",
    "    tsp_tour, tsp_tour_len = Concorde.solve_tsp(dist_mtx)\n",
    "\n",
    "    @assert tsp_tour[1] == 1\n",
    "\n",
    "    return tsp_tour[2:length(tsp_tour)].-1, tsp_tour_len/1000\n",
    "end"
   ]
  },
  {
   "cell_type": "code",
   "execution_count": 199,
   "id": "dffaf601",
   "metadata": {},
   "outputs": [
    {
     "data": {
      "text/plain": [
       "51-element Vector{Int64}:\n",
       " 21\n",
       " 30\n",
       " 17\n",
       "  2\n",
       " 16\n",
       " 20\n",
       " 41\n",
       "  6\n",
       "  1\n",
       " 29\n",
       " 22\n",
       " 19\n",
       " 49\n",
       "  ⋮\n",
       " 10\n",
       " 50\n",
       " 32\n",
       " 42\n",
       "  9\n",
       "  8\n",
       "  7\n",
       " 40\n",
       " 18\n",
       " 44\n",
       " 31\n",
       " 48"
      ]
     },
     "execution_count": 199,
     "metadata": {},
     "output_type": "execute_result"
    }
   ],
   "source": [
    "using Concorde\n",
    "tour, _ = find_tsp_tour1(T[1:52, 1:52])"
   ]
  },
  {
   "cell_type": "code",
   "execution_count": 200,
   "id": "eb88d7b0",
   "metadata": {},
   "outputs": [
    {
     "data": {
      "text/plain": [
       "51"
      ]
     },
     "execution_count": 200,
     "metadata": {},
     "output_type": "execute_result"
    }
   ],
   "source": [
    "length(demands)"
   ]
  },
  {
   "cell_type": "code",
   "execution_count": 194,
   "id": "a9520845",
   "metadata": {},
   "outputs": [
    {
     "data": {
      "text/plain": [
       "7544.36590190409"
      ]
     },
     "execution_count": 194,
     "metadata": {},
     "output_type": "execute_result"
    }
   ],
   "source": [
    "pushfirst!(tour, 0)\n",
    "push!(tour, 52)\n",
    "z1 = 0.0\n",
    "for i=1:length(tour)-1\n",
    "    z1 += T[tour[i]+1, tour[i+1]+1]\n",
    "end \n",
    "z1"
   ]
  },
  {
   "cell_type": "code",
   "execution_count": 163,
   "id": "7b77f9f6",
   "metadata": {},
   "outputs": [
    {
     "name": "stdout",
     "output_type": "stream",
     "text": [
      "3  50  10  32  42  9  8  7  40  18  44  \n",
      "38  39  36  37  47  23  4  14  5  24  11  27  26  12  51  13  46  25  \n",
      "21  31  48  35  34  33  43  45  15  28  29  6  1  41  20  16  2  17  30  22  19  49  \n"
     ]
    }
   ],
   "source": [
    "for tour in P[1].tours\n",
    "    for i in tour.Sequence \n",
    "        print(i,\"  \")\n",
    "    end\n",
    "    println()\n",
    "end"
   ]
  },
  {
   "cell_type": "code",
   "execution_count": 166,
   "id": "ddcd03f4",
   "metadata": {},
   "outputs": [
    {
     "data": {
      "text/plain": [
       "TSP(\"berlin52\", 52, \"EUC_2D\", [0.0 666.0 … 789.0 1220.0; 666.0 0.0 … 1422.0 1716.0; … ; 789.0 1422.0 … 0.0 625.0; 1220.0 1716.0 … 625.0 0.0], [565.0 575.0; 25.0 185.0; … ; 1340.0 725.0; 1740.0 245.0], false, TSPLIB.var\"#fFit#19\"{Matrix{Float64}, Int64}([0.0 666.0 … 789.0 1220.0; 666.0 0.0 … 1422.0 1716.0; … ; 789.0 1422.0 … 0.0 625.0; 1220.0 1716.0 … 625.0 0.0], 52), TSPLIB.var\"#pFit#20\"{Matrix{Float64}, Int64}([0.0 666.0 … 789.0 1220.0; 666.0 0.0 … 1422.0 1716.0; … ; 789.0 1422.0 … 0.0 625.0; 1220.0 1716.0 … 625.0 0.0], 52), 7542.0)"
      ]
     },
     "execution_count": 166,
     "metadata": {},
     "output_type": "execute_result"
    }
   ],
   "source": [
    "tsp = readTSPLIB(:berlin52)"
   ]
  },
  {
   "cell_type": "code",
   "execution_count": 169,
   "id": "2ea6c169",
   "metadata": {
    "scrolled": false
   },
   "outputs": [
    {
     "data": {
      "text/plain": [
       "52×2 Matrix{Float64}:\n",
       "  565.0   575.0\n",
       "   25.0   185.0\n",
       "  345.0   750.0\n",
       "  945.0   685.0\n",
       "  845.0   655.0\n",
       "  880.0   660.0\n",
       "   25.0   230.0\n",
       "  525.0  1000.0\n",
       "  580.0  1175.0\n",
       "  650.0  1130.0\n",
       " 1605.0   620.0\n",
       " 1220.0   580.0\n",
       " 1465.0   200.0\n",
       "    ⋮    \n",
       "  475.0   960.0\n",
       "   95.0   260.0\n",
       "  875.0   920.0\n",
       "  700.0   500.0\n",
       "  555.0   815.0\n",
       "  830.0   485.0\n",
       " 1170.0    65.0\n",
       "  830.0   610.0\n",
       "  605.0   625.0\n",
       "  595.0   360.0\n",
       " 1340.0   725.0\n",
       " 1740.0   245.0"
      ]
     },
     "execution_count": 169,
     "metadata": {},
     "output_type": "execute_result"
    }
   ],
   "source": [
    "tsp.nodes"
   ]
  },
  {
   "cell_type": "code",
   "execution_count": 182,
   "id": "31e6eafc",
   "metadata": {},
   "outputs": [
    {
     "data": {
      "text/plain": [
       "945.1454914456292"
      ]
     },
     "execution_count": 182,
     "metadata": {},
     "output_type": "execute_result"
    }
   ],
   "source": [
    "i1 = 2\n",
    "i2 = 5\n",
    "\n",
    "euclidean(tsp.nodes[i1,:], tsp.nodes[i2,:])"
   ]
  },
  {
   "cell_type": "code",
   "execution_count": 183,
   "id": "feb41520",
   "metadata": {},
   "outputs": [
    {
     "data": {
      "text/plain": [
       "945.1454914456292"
      ]
     },
     "execution_count": 183,
     "metadata": {},
     "output_type": "execute_result"
    }
   ],
   "source": [
    "T[2,5]"
   ]
  },
  {
   "cell_type": "code",
   "execution_count": 174,
   "id": "ec9a1ef6",
   "metadata": {},
   "outputs": [],
   "source": [
    "allNodes = tsp.nodes\n",
    "tspeed = 1\n",
    "num_of_nodes = size(allNodes)[1] - 1\n",
    "T = Matrix{Float64}(undef, num_of_nodes + 2, num_of_nodes + 2)\n",
    "depot = allNodes[1, :]\n",
    "Nodes = allNodes[2:num_of_nodes+1, :]\n",
    "\n",
    "T[1, 1] = 0.0\n",
    "T[num_of_nodes+2, num_of_nodes+2] = 0.0\n",
    "T[1, num_of_nodes+2] = 0.0\n",
    "T[num_of_nodes+2, 1] = 0.0\n",
    "@inbounds for i in 1:num_of_nodes\n",
    "    T[1, i+1] = euclidean(depot, Nodes[i, :]) / tspeed\n",
    "    T[i+1, 1] = T[1, i+1]\n",
    "    T[num_of_nodes+2, i+1] = T[1, i+1]\n",
    "    T[i+1, num_of_nodes+2] = T[1, i+1]\n",
    "    @inbounds for j in 1:num_of_nodes\n",
    "        T[i+1, j+1] = euclidean(Nodes[i, :], Nodes[j, :]) / tspeed\n",
    "        T[j+1, i+1] = T[i+1, j+1]\n",
    "    end\n",
    "end"
   ]
  },
  {
   "cell_type": "code",
   "execution_count": 176,
   "id": "36e3d632",
   "metadata": {},
   "outputs": [
    {
     "data": {
      "text/plain": [
       "2-element Vector{Float64}:\n",
       " 565.0\n",
       " 575.0"
      ]
     },
     "execution_count": 176,
     "metadata": {},
     "output_type": "execute_result"
    }
   ],
   "source": [
    "depot"
   ]
  },
  {
   "cell_type": "code",
   "execution_count": 178,
   "id": "31b2103f",
   "metadata": {},
   "outputs": [
    {
     "data": {
      "text/plain": [
       "2-element Vector{Float64}:\n",
       "  25.0\n",
       " 185.0"
      ]
     },
     "execution_count": 178,
     "metadata": {},
     "output_type": "execute_result"
    }
   ],
   "source": [
    "Nodes[1,:]"
   ]
  },
  {
   "cell_type": "code",
   "execution_count": 179,
   "id": "2d271516",
   "metadata": {},
   "outputs": [
    {
     "data": {
      "text/plain": [
       "666.1080993352356"
      ]
     },
     "execution_count": 179,
     "metadata": {},
     "output_type": "execute_result"
    }
   ],
   "source": [
    "euclidean(depot, Nodes[1,:])"
   ]
  },
  {
   "cell_type": "code",
   "execution_count": null,
   "id": "5161e3c1",
   "metadata": {},
   "outputs": [],
   "source": []
  }
 ],
 "metadata": {
  "kernelspec": {
   "display_name": "Julia 1.6.3",
   "language": "julia",
   "name": "julia-1.6"
  },
  "language_info": {
   "file_extension": ".jl",
   "mimetype": "application/julia",
   "name": "julia",
   "version": "1.6.3"
  }
 },
 "nbformat": 4,
 "nbformat_minor": 5
}

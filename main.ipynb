{
 "cells": [
  {
   "cell_type": "code",
   "execution_count": 5,
   "id": "d948d962",
   "metadata": {},
   "outputs": [
    {
     "data": {
      "text/plain": [
       "Calculate_new_cost_3_permute (generic function with 1 method)"
      ]
     },
     "execution_count": 5,
     "metadata": {},
     "output_type": "execute_result"
    }
   ],
   "source": [
    "include(\"Create_Sample.jl\")\n",
    "include(\"MIP_SPLIT.jl\")\n",
    "include(\"Split.jl\")\n",
    "include(\"GA.jl\")\n",
    "include(\"Initial.jl\")\n",
    "include(\"Mutation.jl\")\n",
    "include(\"Crossover.jl\")\n",
    "include(\"Neighborhood.jl\")\n",
    "include(\"Neighborhood_intra.jl\")\n",
    "include(\"costs.jl\")"
   ]
  },
  {
   "cell_type": "code",
   "execution_count": 211,
   "id": "832e22fe",
   "metadata": {},
   "outputs": [
    {
     "name": "stdout",
     "output_type": "stream",
     "text": [
      "done"
     ]
    }
   ],
   "source": [
    "# n = 50\n",
    "# length_of_area = 10\n",
    "# tspeed = 40\n",
    "# TT = Creat_Sample(n, length_of_area, tspeed)\n",
    "# chrm = shuffle!([i for i = 1:n])\n",
    "# demands = rand(1:10, n)\n",
    "T = Read_TSPLIB_instance(:eil51, 1)\n",
    "n = size(T)[1]-2\n",
    "demands = ones(Int, n)\n",
    "print(\"done\")"
   ]
  },
  {
   "cell_type": "code",
   "execution_count": null,
   "id": "08030fa1",
   "metadata": {
    "scrolled": true
   },
   "outputs": [
    {
     "name": "stdout",
     "output_type": "stream",
     "text": [
      "The best objective achieved in 59213 generations is: 761.5708070715754 and it took 29.733999967575073 seconds.\n",
      "The best objective achieved in 37955 generations is: 748.8738223345592 and it took 18.24500012397766 seconds.\n",
      "The best objective achieved in 78773 generations is: 745.9943186711325 and it took 36.90700006484985 seconds.\n"
     ]
    }
   ],
   "source": [
    "instances = [:rat99]\n",
    "Ms = [2,3,5,7]\n",
    "\n",
    "for instance in instances\n",
    "    for K in Ms\n",
    "# K = 2\n",
    "        T = Read_TSPLIB_instance(instance, 1)\n",
    "        n = size(T)[1]-2\n",
    "        demands = ones(Int, n)\n",
    "        W = 150\n",
    "        h = 0.3\n",
    "        popsize = (10,50)\n",
    "        k_tournament = 3\n",
    "        num_iter = 20000\n",
    "        Mutation_Chance = 0.1\n",
    "        num_runs = 10\n",
    "        avg = 0.0\n",
    "        best = Inf\n",
    "        worst = 0.0\n",
    "        t1 = time() \n",
    "        P = Chromosome[]\n",
    "        for i=1:num_runs\n",
    "            P = Perform_Genetic_Algorithm(T, demands,K, W, h, popsize, k_tournament, num_iter, Mutation_Chance);\n",
    "            avg += P[1].fitness\n",
    "            if P[1].fitness < best\n",
    "                best = P[1].fitness\n",
    "            end\n",
    "            if P[1].fitness > worst\n",
    "                worst = P[1].fitness\n",
    "            end\n",
    "        end\n",
    "        t2 = time()\n",
    "        println(\"Results for \", instance, \" ,m=\", K)\n",
    "        println(\"Best: \", round(best, digits = 1), \"  Average: \", round(avg/num_runs, digits = 1), \n",
    "            \"  Worst: \", round(worst, digits = 1), \" , run time= \", round((t2-t1)/num_runs, digits=0))\n",
    "    end\n",
    "end"
   ]
  },
  {
   "cell_type": "code",
   "execution_count": 119,
   "id": "d4f739a3",
   "metadata": {},
   "outputs": [
    {
     "ename": "LoadError",
     "evalue": "BoundsError: attempt to access 0-element Vector{Chromosome} at index [1]",
     "output_type": "error",
     "traceback": [
      "BoundsError: attempt to access 0-element Vector{Chromosome} at index [1]",
      "",
      "Stacktrace:",
      " [1] getindex(A::Vector{Chromosome}, i1::Int64)",
      "   @ Base .\\array.jl:805",
      " [2] top-level scope",
      "   @ .\\In[119]:1",
      " [3] eval",
      "   @ .\\boot.jl:360 [inlined]",
      " [4] include_string(mapexpr::typeof(REPL.softscope), mod::Module, code::String, filename::String)",
      "   @ Base .\\loading.jl:1116"
     ]
    }
   ],
   "source": [
    "for tour in P[1].tours\n",
    "    t1 = copy(tour.Sequence);\n",
    "    pushfirst!(t1, 0)\n",
    "    push!(t1, n+1)\n",
    "\n",
    "    z1 = 0.0\n",
    "    for i=1:length(t1)-1\n",
    "        z1 += T[t1[i]+1, t1[i+1]+1]\n",
    "    end\n",
    "\n",
    "    println(z1, \" ,  \", tour.cost)\n",
    "end"
   ]
  },
  {
   "cell_type": "code",
   "execution_count": 83,
   "id": "86a19ce0",
   "metadata": {},
   "outputs": [
    {
     "data": {
      "text/plain": [
       "Calculate_new_cost_3_permute2 (generic function with 1 method)"
      ]
     },
     "execution_count": 83,
     "metadata": {},
     "output_type": "execute_result"
    }
   ],
   "source": [
    "function Calculate_new_cost_3_permute1(tour::Vector{Int}, cost::Float64, S1::Vector{Int}, S2::Vector{Int}\n",
    "        ,k1::Int, T::Matrix{Float64}, n_nodes::Int)\n",
    "    if S1 == S2 \n",
    "        return cost\n",
    "    end\n",
    "    nt = length(tour)\n",
    "    cost = cost - T[S1[1]+1, S1[2]+1] - T[S1[2]+1, S1[3]+1] + T[S2[1]+1, S2[2]+1] + T[S2[2]+1, S2[3]+1]\n",
    "    \n",
    "    if k1 == 1\n",
    "        cost = cost - T[1, S1[1]+1] + T[1, S2[1]+1] - T[S1[3]+1, tour[4]+1] + T[S2[3]+1, tour[4]+1] \n",
    "    elseif k1 == nt-2\n",
    "        cost = cost - T[S1[3]+1, n_nodes+2] + T[S2[3]+1, n_nodes+2] - T[tour[nt-3]+1, S1[1]+1] + T[tour[nt-3]+1, S2[1]+1]\n",
    "    else\n",
    "        cost = cost - T[tour[k1-1]+1, S1[1]+1] + T[tour[k1-1]+1, S2[1]+1] - T[S1[3]+1, tour[k1+3]+1] + T[S2[3]+1, tour[k1+3]+1] \n",
    "    end\n",
    "    return cost\n",
    "end\n",
    "\n",
    "\n",
    "\n",
    "function Calculate_new_cost_3_permute2(tour::Vector{Int}, cost::Float64, S1::Vector{Int}, S2::Vector{Int}\n",
    "        ,k1::Int, T::Matrix{Float64}, n_nodes::Int)\n",
    "\n",
    "    nt = length(tour)\n",
    "    \n",
    "    t1 = copy(tour)\n",
    "    t1[k1:k1+2] = S2\n",
    "    pushfirst!(t1, 0)\n",
    "    push!(t1, n_nodes+1)\n",
    "    z1 = 0.0\n",
    "    for i=1:length(t1)-1\n",
    "        z1 += T[t1[i]+1, t1[i+1]+1]\n",
    "    end\n",
    "    \n",
    "    return z1\n",
    "end"
   ]
  },
  {
   "cell_type": "code",
   "execution_count": 38,
   "id": "8da2153a",
   "metadata": {},
   "outputs": [],
   "source": [
    "instance = :rat99\n",
    "T = Read_TSPLIB_instance(instance, 1)\n",
    "n_nodes = size(T)[1]-2\n",
    "tsp_tour = find_tsp_tour1(T)\n",
    "demands = ones(Int, n_nodes)\n",
    "W = 150\n",
    "K = 2\n",
    "mu = 10\n",
    "P, _ = Generate_initial_population(T, demands, K, W, mu, tsp_tour);"
   ]
  },
  {
   "cell_type": "code",
   "execution_count": 39,
   "id": "702b4a79",
   "metadata": {},
   "outputs": [
    {
     "data": {
      "text/plain": [
       "2-element Vector{Tour}:\n",
       " Tour([9, 10, 11, 12, 21, 20, 19, 18, 27, 36  …  82, 90, 91, 92, 93, 94, 95, 96, 97, 98], 823.6584356071808)\n",
       " Tour([89, 88, 78, 87, 86, 85, 84, 83, 75, 76  …  17, 8, 7, 6, 5, 4, 13, 3, 2, 1], 806.3918274353607)"
      ]
     },
     "execution_count": 39,
     "metadata": {},
     "output_type": "execute_result"
    }
   ],
   "source": [
    "P[1].tours"
   ]
  },
  {
   "cell_type": "code",
   "execution_count": 74,
   "id": "769277cf",
   "metadata": {},
   "outputs": [
    {
     "data": {
      "text/plain": [
       "823.6584356071808"
      ]
     },
     "execution_count": 74,
     "metadata": {},
     "output_type": "execute_result"
    }
   ],
   "source": [
    "tour1 = copy(P[1].tours[1].Sequence)\n",
    "tour2 = copy(P[1].tours[1].Sequence)\n",
    "cost1 = P[1].tours[1].cost\n",
    "cost2 = P[1].tours[1].cost\n",
    "\n"
   ]
  },
  {
   "cell_type": "code",
   "execution_count": 85,
   "id": "ffb9109f",
   "metadata": {},
   "outputs": [
    {
     "name": "stdout",
     "output_type": "stream",
     "text": [
      "time for 1:4.017000198364258\n",
      "time for 2:9.663999795913696\n"
     ]
    }
   ],
   "source": [
    "include(\"Neighborhood.jl\")\n",
    "\n",
    "tt1 = 0.0\n",
    "tt2 = 0.0\n",
    "t1 = time()\n",
    "for i=1:10000000\n",
    "    k1 = rand(1:length(tour1)-2)\n",
    "    S1 = copy(tour1[k1:k1+2])\n",
    "    S2 = shuffle(S1)\n",
    "\n",
    "    new_cost1 = Calculate_new_cost_3_permute1(tour1, cost1, S1, S2, k1, T, n_nodes)\n",
    "#     z1 = Calculate_new_cost_3_permute2(tour1, cost1, S1, S2, k1, T, n_nodes)\n",
    "\n",
    "#     if round(new_cost1, digits = 6) != round(z1, digits = 6)\n",
    "#         println(k1)\n",
    "#         println(round(new_cost1, digits = 6), \"   \", round(z1, digits = 6))\n",
    "#     end\n",
    "end\n",
    "\n",
    "println(\"time for 1:\", time()- t1)\n",
    "\n",
    "t2 = time()\n",
    "for i=1:10000000\n",
    "    k1 = rand(1:length(tour1)-2)\n",
    "    S1 = copy(tour1[k1:k1+2])\n",
    "    S2 = shuffle(S1)\n",
    "\n",
    "    z1 = Calculate_new_cost_3_permute2(tour1, cost1, S1, S2, k1, T, n_nodes)\n",
    "\n",
    "end\n",
    "\n",
    "println(\"time for 2:\", time()- t2)\n"
   ]
  },
  {
   "cell_type": "code",
   "execution_count": 42,
   "id": "112ed035",
   "metadata": {},
   "outputs": [
    {
     "data": {
      "text/plain": [
       "49"
      ]
     },
     "execution_count": 42,
     "metadata": {},
     "output_type": "execute_result"
    }
   ],
   "source": [
    "length(tour1)"
   ]
  },
  {
   "cell_type": "code",
   "execution_count": 63,
   "id": "c0cc4daf",
   "metadata": {},
   "outputs": [
    {
     "data": {
      "text/plain": [
       "4-element Vector{Int64}:\n",
       " 2\n",
       " 3\n",
       " 1\n",
       " 4"
      ]
     },
     "execution_count": 63,
     "metadata": {},
     "output_type": "execute_result"
    }
   ],
   "source": [
    "a = [1,2,3,4]\n",
    "\n",
    "b = shuffle(a)"
   ]
  },
  {
   "cell_type": "code",
   "execution_count": 67,
   "id": "bd7d883f",
   "metadata": {},
   "outputs": [
    {
     "data": {
      "text/plain": [
       "4-element Vector{Int64}:\n",
       " 1\n",
       " 2\n",
       " 3\n",
       " 4"
      ]
     },
     "execution_count": 67,
     "metadata": {},
     "output_type": "execute_result"
    }
   ],
   "source": [
    "b =copy(a)"
   ]
  },
  {
   "cell_type": "code",
   "execution_count": 68,
   "id": "2b772a5e",
   "metadata": {},
   "outputs": [
    {
     "data": {
      "text/plain": [
       "true"
      ]
     },
     "execution_count": 68,
     "metadata": {},
     "output_type": "execute_result"
    }
   ],
   "source": [
    "a == b"
   ]
  },
  {
   "cell_type": "code",
   "execution_count": null,
   "id": "706fd151",
   "metadata": {},
   "outputs": [],
   "source": []
  }
 ],
 "metadata": {
  "kernelspec": {
   "display_name": "Julia 1.6.3",
   "language": "julia",
   "name": "julia-1.6"
  },
  "language_info": {
   "file_extension": ".jl",
   "mimetype": "application/julia",
   "name": "julia",
   "version": "1.6.3"
  }
 },
 "nbformat": 4,
 "nbformat_minor": 5
}

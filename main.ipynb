{
 "cells": [
  {
   "cell_type": "code",
   "execution_count": 7,
   "id": "d948d962",
   "metadata": {},
   "outputs": [
    {
     "data": {
      "text/plain": [
       "Calculate_new_cost_3_permute (generic function with 1 method)"
      ]
     },
     "execution_count": 7,
     "metadata": {},
     "output_type": "execute_result"
    }
   ],
   "source": [
    "include(\"Create_Sample.jl\")\n",
    "include(\"MIP_SPLIT.jl\")\n",
    "include(\"Split.jl\")\n",
    "include(\"GA.jl\")\n",
    "include(\"Initial.jl\")\n",
    "include(\"Mutation.jl\")\n",
    "include(\"Crossover.jl\")\n",
    "include(\"Neighborhood.jl\")\n",
    "include(\"Neighborhood_intra.jl\")\n",
    "include(\"costs.jl\")"
   ]
  },
  {
   "cell_type": "code",
   "execution_count": 211,
   "id": "832e22fe",
   "metadata": {},
   "outputs": [
    {
     "name": "stdout",
     "output_type": "stream",
     "text": [
      "done"
     ]
    }
   ],
   "source": [
    "# n = 50\n",
    "# length_of_area = 10\n",
    "# tspeed = 40\n",
    "# TT = Creat_Sample(n, length_of_area, tspeed)\n",
    "# chrm = shuffle!([i for i = 1:n])\n",
    "# demands = rand(1:10, n)\n",
    "T = Read_TSPLIB_instance(:eil51, 1)\n",
    "n = size(T)[1]-2\n",
    "demands = ones(Int, n)\n",
    "print(\"done\")"
   ]
  },
  {
   "cell_type": "code",
   "execution_count": 8,
   "id": "08030fa1",
   "metadata": {
    "scrolled": false
   },
   "outputs": [
    {
     "name": "stdout",
     "output_type": "stream",
     "text": [
      "Results for eil51 ,m=2\n",
      "Best: 223.1  Average: 228.4  Worst: 234.6 , run time= 3.0\n",
      "Results for eil51 ,m=3\n",
      "Best: 163.8  Average: 168.8  Worst: 175.2 , run time= 3.0\n",
      "Results for eil51 ,m=5\n",
      "Best: 120.0  Average: 123.8  Worst: 127.5 , run time= 2.0\n",
      "Results for eil51 ,m=7\n",
      "Best: 112.1  Average: 112.1  Worst: 112.1 , run time= 1.0\n",
      "Results for berlin52 ,m=2\n",
      "Best: 4179.0  Average: 4212.7  Worst: 4276.4 , run time= 4.0\n",
      "Results for berlin52 ,m=3\n",
      "Best: 3191.2  Average: 3192.8  Worst: 3199.5 , run time= 3.0\n",
      "Results for berlin52 ,m=5\n",
      "Best: 2440.9  Average: 2449.0  Worst: 2486.3 , run time= 2.0\n",
      "Results for berlin52 ,m=7\n",
      "Best: 2440.9  Average: 2440.9  Worst: 2440.9 , run time= 1.0\n",
      "Results for eil76 ,m=2\n",
      "Best: 284.5  Average: 290.0  Worst: 297.4 , run time= 7.0\n",
      "Results for eil76 ,m=3\n",
      "Best: 197.5  Average: 210.1  Worst: 218.6 , run time= 6.0\n",
      "Results for eil76 ,m=5\n",
      "Best: 149.1  Average: 154.4  Worst: 158.7 , run time= 5.0\n",
      "Results for eil76 ,m=7\n",
      "Best: 127.6  Average: 132.9  Worst: 138.0 , run time= 6.0\n",
      "Results for rat99 ,m=2\n",
      "Best: 689.6  Average: 709.4  Worst: 733.7 , run time= 10.0\n",
      "Results for rat99 ,m=3\n",
      "Best: 520.3  Average: 547.6  Worst: 582.2 , run time= 11.0\n",
      "Results for rat99 ,m=5\n",
      "Best: 469.4  Average: 474.3  Worst: 484.9 , run time= 8.0\n",
      "Results for rat99 ,m=7\n",
      "Best: 440.4  Average: 447.1  Worst: 454.4 , run time= 8.0\n",
      "Overall Results:  Best: 0.4  Average: 2.7  Worst: 5.2   run time: 5.1\n"
     ]
    }
   ],
   "source": [
    "instances = [:eil51, :berlin52, :eil76, :rat99]\n",
    "LKH3 = [[222.7, 159.6, 124.0, 112.1],[4110.2, 3184.2, 2440.9, 2440.9], [280.9, 196.7, 143.4, 128.2],[690.8, 523.3, 467.0,442.5]]\n",
    "Ms = [2,3,5,7]\n",
    "# mutation_functions = [1]\n",
    "# best_v = Float64[]\n",
    "# Avg_v = Float64[]\n",
    "# worst_v = Float64[]\n",
    "\n",
    "# for mutation_function in mutation_functions\n",
    "count = 0\n",
    "best_ = 0.0\n",
    "Avg_ = 0.0\n",
    "worst_ = 0.0\n",
    "time_ = 0.0\n",
    "#     println(\"Mutation function: \", mutation_function)\n",
    "for (i,instance) in enumerate(instances)\n",
    "    for (j,K) in enumerate(Ms)\n",
    "        count += 1\n",
    "        T = Read_TSPLIB_instance(instance, 1)\n",
    "        n = size(T)[1]-2\n",
    "        demands = ones(Int, n)\n",
    "        W = 150\n",
    "        h = 0.3\n",
    "        popsize = (20,50)\n",
    "        k_tournament = 3\n",
    "        num_iter = 3000\n",
    "        Mutation_Chance = 0.0\n",
    "        num_runs = 10\n",
    "        num_nei = 2\n",
    "        avg = 0.0\n",
    "        best = Inf\n",
    "        worst = 0.0\n",
    "        t1 = time() \n",
    "        P = Chromosome[]\n",
    "        for i=1:num_runs\n",
    "            P = Perform_Genetic_Algorithm(T, demands,K, W, h, popsize, k_tournament, num_iter, Mutation_Chance, num_nei);\n",
    "            avg += P[1].fitness\n",
    "            if P[1].fitness < best\n",
    "                best = P[1].fitness\n",
    "            end\n",
    "            if P[1].fitness > worst\n",
    "                worst = P[1].fitness\n",
    "            end\n",
    "        end\n",
    "        t2 = time()\n",
    "        println(\"Results for \", instance, \" ,m=\", K)\n",
    "        println(\"Best: \", round(best, digits = 1), \"  Average: \", round(avg/num_runs, digits = 1), \n",
    "            \"  Worst: \", round(worst, digits = 1), \" , run time= \", round((t2-t1)/num_runs, digits=0))\n",
    "        best_ += 100*(best-LKH3[i][j])/LKH3[i][j]\n",
    "        worst_ += 100*(worst-LKH3[i][j])/LKH3[i][j]\n",
    "        Avg_ += 100*(avg/num_runs-LKH3[i][j])/LKH3[i][j]\n",
    "        time_ += (t2-t1)/num_runs\n",
    "    end\n",
    "end\n",
    "#     push!(best_v, best_/count)\n",
    "#     push!(worst_v, worst_/count)\n",
    "#     push!(Avg_v, Avg_/count)\n",
    "println(\"Overall Results:  Best: \", round(best_/count, digits=1), \"  Average: \", round(Avg_/count, digits=1), \"  Worst: \", round(worst_/count, digits=1), \"   run time: \", round(time_/count, digits=1))\n",
    "# end"
   ]
  },
  {
   "cell_type": "code",
   "execution_count": 119,
   "id": "d4f739a3",
   "metadata": {},
   "outputs": [
    {
     "ename": "LoadError",
     "evalue": "BoundsError: attempt to access 0-element Vector{Chromosome} at index [1]",
     "output_type": "error",
     "traceback": [
      "BoundsError: attempt to access 0-element Vector{Chromosome} at index [1]",
      "",
      "Stacktrace:",
      " [1] getindex(A::Vector{Chromosome}, i1::Int64)",
      "   @ Base .\\array.jl:805",
      " [2] top-level scope",
      "   @ .\\In[119]:1",
      " [3] eval",
      "   @ .\\boot.jl:360 [inlined]",
      " [4] include_string(mapexpr::typeof(REPL.softscope), mod::Module, code::String, filename::String)",
      "   @ Base .\\loading.jl:1116"
     ]
    }
   ],
   "source": [
    "for tour in P[1].tours\n",
    "    t1 = copy(tour.Sequence);\n",
    "    pushfirst!(t1, 0)\n",
    "    push!(t1, n+1)\n",
    "\n",
    "    z1 = 0.0\n",
    "    for i=1:length(t1)-1\n",
    "        z1 += T[t1[i]+1, t1[i+1]+1]\n",
    "    end\n",
    "\n",
    "    println(z1, \" ,  \", tour.cost)\n",
    "end"
   ]
  },
  {
   "cell_type": "code",
   "execution_count": 83,
   "id": "a6f04ba1",
   "metadata": {},
   "outputs": [
    {
     "data": {
      "text/plain": [
       "Calculate_new_cost_3_permute2 (generic function with 1 method)"
      ]
     },
     "execution_count": 83,
     "metadata": {},
     "output_type": "execute_result"
    }
   ],
   "source": [
    "function Calculate_new_cost_3_permute1(tour::Vector{Int}, cost::Float64, S1::Vector{Int}, S2::Vector{Int}\n",
    "        ,k1::Int, T::Matrix{Float64}, n_nodes::Int)\n",
    "    if S1 == S2 \n",
    "        return cost\n",
    "    end\n",
    "    nt = length(tour)\n",
    "    cost = cost - T[S1[1]+1, S1[2]+1] - T[S1[2]+1, S1[3]+1] + T[S2[1]+1, S2[2]+1] + T[S2[2]+1, S2[3]+1]\n",
    "    \n",
    "    if k1 == 1\n",
    "        cost = cost - T[1, S1[1]+1] + T[1, S2[1]+1] - T[S1[3]+1, tour[4]+1] + T[S2[3]+1, tour[4]+1] \n",
    "    elseif k1 == nt-2\n",
    "        cost = cost - T[S1[3]+1, n_nodes+2] + T[S2[3]+1, n_nodes+2] - T[tour[nt-3]+1, S1[1]+1] + T[tour[nt-3]+1, S2[1]+1]\n",
    "    else\n",
    "        cost = cost - T[tour[k1-1]+1, S1[1]+1] + T[tour[k1-1]+1, S2[1]+1] - T[S1[3]+1, tour[k1+3]+1] + T[S2[3]+1, tour[k1+3]+1] \n",
    "    end\n",
    "    return cost\n",
    "end\n",
    "\n",
    "\n",
    "\n",
    "function Calculate_new_cost_3_permute2(tour::Vector{Int}, cost::Float64, S1::Vector{Int}, S2::Vector{Int}\n",
    "        ,k1::Int, T::Matrix{Float64}, n_nodes::Int)\n",
    "\n",
    "    nt = length(tour)\n",
    "    \n",
    "    t1 = copy(tour)\n",
    "    t1[k1:k1+2] = S2\n",
    "    pushfirst!(t1, 0)\n",
    "    push!(t1, n_nodes+1)\n",
    "    z1 = 0.0\n",
    "    for i=1:length(t1)-1\n",
    "        z1 += T[t1[i]+1, t1[i+1]+1]\n",
    "    end\n",
    "    \n",
    "    return z1\n",
    "end"
   ]
  },
  {
   "cell_type": "code",
   "execution_count": 38,
   "id": "8e8bbffa",
   "metadata": {},
   "outputs": [],
   "source": [
    "instance = :rat99\n",
    "T = Read_TSPLIB_instance(instance, 1)\n",
    "n_nodes = size(T)[1]-2\n",
    "tsp_tour = find_tsp_tour1(T)\n",
    "demands = ones(Int, n_nodes)\n",
    "W = 150\n",
    "K = 2\n",
    "mu = 10\n",
    "P, _ = Generate_initial_population(T, demands, K, W, mu, tsp_tour);"
   ]
  },
  {
   "cell_type": "code",
   "execution_count": 39,
   "id": "d920bfb7",
   "metadata": {},
   "outputs": [
    {
     "data": {
      "text/plain": [
       "2-element Vector{Tour}:\n",
       " Tour([9, 10, 11, 12, 21, 20, 19, 18, 27, 36  …  82, 90, 91, 92, 93, 94, 95, 96, 97, 98], 823.6584356071808)\n",
       " Tour([89, 88, 78, 87, 86, 85, 84, 83, 75, 76  …  17, 8, 7, 6, 5, 4, 13, 3, 2, 1], 806.3918274353607)"
      ]
     },
     "execution_count": 39,
     "metadata": {},
     "output_type": "execute_result"
    }
   ],
   "source": [
    "P[1].tours"
   ]
  },
  {
   "cell_type": "code",
   "execution_count": 74,
   "id": "d3b514b1",
   "metadata": {},
   "outputs": [
    {
     "data": {
      "text/plain": [
       "823.6584356071808"
      ]
     },
     "execution_count": 74,
     "metadata": {},
     "output_type": "execute_result"
    }
   ],
   "source": [
    "tour1 = copy(P[1].tours[1].Sequence)\n",
    "tour2 = copy(P[1].tours[1].Sequence)\n",
    "cost1 = P[1].tours[1].cost\n",
    "cost2 = P[1].tours[1].cost\n",
    "\n"
   ]
  },
  {
   "cell_type": "code",
   "execution_count": 85,
   "id": "5560fee9",
   "metadata": {},
   "outputs": [
    {
     "name": "stdout",
     "output_type": "stream",
     "text": [
      "time for 1:4.017000198364258\n",
      "time for 2:9.663999795913696\n"
     ]
    }
   ],
   "source": [
    "include(\"Neighborhood.jl\")\n",
    "\n",
    "tt1 = 0.0\n",
    "tt2 = 0.0\n",
    "t1 = time()\n",
    "for i=1:10000000\n",
    "    k1 = rand(1:length(tour1)-2)\n",
    "    S1 = copy(tour1[k1:k1+2])\n",
    "    S2 = shuffle(S1)\n",
    "\n",
    "    new_cost1 = Calculate_new_cost_3_permute1(tour1, cost1, S1, S2, k1, T, n_nodes)\n",
    "#     z1 = Calculate_new_cost_3_permute2(tour1, cost1, S1, S2, k1, T, n_nodes)\n",
    "\n",
    "#     if round(new_cost1, digits = 6) != round(z1, digits = 6)\n",
    "#         println(k1)\n",
    "#         println(round(new_cost1, digits = 6), \"   \", round(z1, digits = 6))\n",
    "#     end\n",
    "end\n",
    "\n",
    "println(\"time for 1:\", time()- t1)\n",
    "\n",
    "t2 = time()\n",
    "for i=1:10000000\n",
    "    k1 = rand(1:length(tour1)-2)\n",
    "    S1 = copy(tour1[k1:k1+2])\n",
    "    S2 = shuffle(S1)\n",
    "\n",
    "    z1 = Calculate_new_cost_3_permute2(tour1, cost1, S1, S2, k1, T, n_nodes)\n",
    "\n",
    "end\n",
    "\n",
    "println(\"time for 2:\", time()- t2)\n"
   ]
  },
  {
   "cell_type": "code",
   "execution_count": 42,
   "id": "50d62d17",
   "metadata": {},
   "outputs": [
    {
     "data": {
      "text/plain": [
       "49"
      ]
     },
     "execution_count": 42,
     "metadata": {},
     "output_type": "execute_result"
    }
   ],
   "source": [
    "length(tour1)"
   ]
  },
  {
   "cell_type": "code",
   "execution_count": 63,
   "id": "56af0825",
   "metadata": {},
   "outputs": [
    {
     "data": {
      "text/plain": [
       "4-element Vector{Int64}:\n",
       " 2\n",
       " 3\n",
       " 1\n",
       " 4"
      ]
     },
     "execution_count": 63,
     "metadata": {},
     "output_type": "execute_result"
    }
   ],
   "source": [
    "a = [1,2,3,4]\n",
    "\n",
    "b = shuffle(a)"
   ]
  },
  {
   "cell_type": "code",
   "execution_count": 67,
   "id": "190261bf",
   "metadata": {},
   "outputs": [
    {
     "data": {
      "text/plain": [
       "4-element Vector{Int64}:\n",
       " 1\n",
       " 2\n",
       " 3\n",
       " 4"
      ]
     },
     "execution_count": 67,
     "metadata": {},
     "output_type": "execute_result"
    }
   ],
   "source": [
    "b =copy(a)"
   ]
  },
  {
   "cell_type": "code",
   "execution_count": 68,
   "id": "380e84bb",
   "metadata": {},
   "outputs": [
    {
     "data": {
      "text/plain": [
       "true"
      ]
     },
     "execution_count": 68,
     "metadata": {},
     "output_type": "execute_result"
    }
   ],
   "source": [
    "a == b"
   ]
  },
  {
   "cell_type": "code",
   "execution_count": null,
   "id": "af5be388",
   "metadata": {},
   "outputs": [],
   "source": []
  }
 ],
 "metadata": {
  "kernelspec": {
   "display_name": "Julia 1.6.3",
   "language": "julia",
   "name": "julia-1.6"
  },
  "language_info": {
   "file_extension": ".jl",
   "mimetype": "application/julia",
   "name": "julia",
   "version": "1.6.3"
  }
 },
 "nbformat": 4,
 "nbformat_minor": 5
}

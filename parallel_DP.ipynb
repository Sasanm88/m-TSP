{
 "cells": [
  {
   "cell_type": "code",
   "execution_count": 1,
   "id": "afab8a4f",
   "metadata": {},
   "outputs": [],
   "source": [
    "import numpy as np\n",
    "\n"
   ]
  },
  {
   "cell_type": "code",
   "execution_count": 9,
   "id": "abc6adb4",
   "metadata": {},
   "outputs": [],
   "source": [
    "batch_size = 8\n",
    "n = 20\n",
    "\n",
    "allNodes = np.random.rand(batch_size, n, 2)"
   ]
  },
  {
   "cell_type": "code",
   "execution_count": 20,
   "id": "e3e4d116",
   "metadata": {},
   "outputs": [
    {
     "data": {
      "text/plain": [
       "array([[[8.31088726e-01, 8.32453744e-01],\n",
       "        [4.24645079e-01, 8.02142840e-01],\n",
       "        [6.68960787e-03, 4.21887517e-01],\n",
       "        [2.23469105e-01, 2.07066924e-01],\n",
       "        [8.47308828e-01, 7.82561564e-02],\n",
       "        [9.38871899e-01, 7.20815137e-01],\n",
       "        [7.54001568e-01, 8.92253214e-01],\n",
       "        [9.91375941e-01, 2.03454084e-01],\n",
       "        [8.55953562e-01, 1.83483751e-01],\n",
       "        [4.09207009e-01, 1.07109201e-01],\n",
       "        [4.49792410e-01, 3.38902332e-01],\n",
       "        [7.90242605e-01, 1.94816602e-01],\n",
       "        [2.49825924e-01, 7.84645019e-01],\n",
       "        [1.55950963e-01, 5.24030050e-01],\n",
       "        [2.74854115e-01, 5.06266524e-02],\n",
       "        [6.58620960e-02, 5.37065598e-01],\n",
       "        [3.77478262e-01, 2.75919842e-01],\n",
       "        [3.51902449e-01, 7.89349591e-01],\n",
       "        [8.70481626e-01, 6.87359704e-02],\n",
       "        [6.60427446e-01, 2.07631037e-01]],\n",
       "\n",
       "       [[1.34787942e-01, 8.95110411e-01],\n",
       "        [5.17808418e-01, 2.91138944e-02],\n",
       "        [9.11624588e-01, 8.93820867e-01],\n",
       "        [2.82077185e-01, 8.97605044e-01],\n",
       "        [4.17757373e-01, 4.10128822e-01],\n",
       "        [8.40011899e-01, 5.29189174e-01],\n",
       "        [4.98847822e-01, 1.98600483e-01],\n",
       "        [7.72975327e-01, 9.57224241e-01],\n",
       "        [5.56985005e-01, 9.13051051e-02],\n",
       "        [8.34883117e-03, 5.58222228e-01],\n",
       "        [7.00521152e-01, 9.41485854e-01],\n",
       "        [7.97441138e-01, 3.10491652e-01],\n",
       "        [9.78885096e-01, 5.79556412e-01],\n",
       "        [7.42831079e-03, 7.17030652e-01],\n",
       "        [5.61093227e-01, 2.49096922e-01],\n",
       "        [5.62687539e-01, 7.16766387e-01],\n",
       "        [8.50580837e-01, 3.16266423e-01],\n",
       "        [2.74521285e-01, 4.43993663e-01],\n",
       "        [3.02583185e-01, 2.43573774e-01],\n",
       "        [7.06567266e-01, 2.35995898e-01]],\n",
       "\n",
       "       [[7.99371904e-01, 2.38788656e-01],\n",
       "        [9.07420311e-01, 7.02659809e-02],\n",
       "        [3.56927909e-01, 2.32950338e-01],\n",
       "        [6.46218612e-02, 2.41712531e-01],\n",
       "        [9.28314821e-01, 3.51467480e-01],\n",
       "        [3.53898863e-01, 8.88622996e-01],\n",
       "        [1.43547609e-01, 2.38726015e-01],\n",
       "        [2.61370733e-02, 9.08002278e-01],\n",
       "        [5.08463008e-04, 5.71914170e-01],\n",
       "        [9.48123206e-01, 5.15368938e-01],\n",
       "        [8.03074548e-01, 8.24108660e-02],\n",
       "        [9.62729019e-01, 2.60667560e-01],\n",
       "        [6.48714069e-01, 6.36530814e-01],\n",
       "        [5.93874109e-01, 9.10396686e-01],\n",
       "        [2.81482115e-01, 7.87193639e-01],\n",
       "        [8.50579265e-01, 8.05663675e-01],\n",
       "        [1.99997113e-01, 5.36184267e-01],\n",
       "        [3.75643380e-01, 5.98747317e-02],\n",
       "        [6.83111791e-01, 7.35621188e-01],\n",
       "        [3.01926420e-01, 9.39214753e-02]],\n",
       "\n",
       "       [[1.91352064e-01, 6.48913247e-02],\n",
       "        [4.58875219e-02, 7.21316229e-01],\n",
       "        [5.17968234e-01, 4.34682334e-01],\n",
       "        [7.22964244e-01, 5.28923340e-01],\n",
       "        [5.72828224e-01, 2.07646719e-01],\n",
       "        [9.84374415e-01, 7.47468978e-01],\n",
       "        [8.24576018e-01, 7.12746842e-01],\n",
       "        [7.66241130e-01, 5.21806022e-01],\n",
       "        [8.76980887e-01, 1.60608080e-01],\n",
       "        [2.90233396e-01, 9.10939452e-01],\n",
       "        [1.48271303e-01, 4.36878464e-01],\n",
       "        [4.88618725e-01, 2.81423191e-01],\n",
       "        [3.45146029e-01, 6.31148723e-01],\n",
       "        [1.12772689e-01, 7.40330947e-01],\n",
       "        [3.14839790e-01, 5.14345634e-01],\n",
       "        [8.77669232e-01, 3.21183343e-01],\n",
       "        [4.81588977e-01, 8.53815366e-01],\n",
       "        [6.51225054e-01, 5.10614908e-01],\n",
       "        [4.22700985e-01, 3.93530116e-01],\n",
       "        [3.48661963e-01, 8.94646768e-02]],\n",
       "\n",
       "       [[4.66616687e-01, 1.65719198e-01],\n",
       "        [4.77561714e-01, 6.17099817e-01],\n",
       "        [7.25529451e-01, 4.42188182e-01],\n",
       "        [3.87921179e-01, 7.67403381e-01],\n",
       "        [9.84428723e-01, 9.02948625e-01],\n",
       "        [3.85462157e-01, 7.84450510e-01],\n",
       "        [6.77088220e-01, 6.34297068e-01],\n",
       "        [7.31477925e-02, 4.06415813e-01],\n",
       "        [7.42641334e-01, 4.09169685e-01],\n",
       "        [5.86677133e-01, 7.49332154e-01],\n",
       "        [1.78747165e-01, 7.26776416e-01],\n",
       "        [5.22514204e-01, 7.04946908e-01],\n",
       "        [2.55521072e-01, 2.66787682e-01],\n",
       "        [4.80725560e-01, 2.88564744e-01],\n",
       "        [3.40085496e-01, 4.73429272e-01],\n",
       "        [9.26226022e-01, 8.73068401e-01],\n",
       "        [2.12260561e-01, 8.12862004e-01],\n",
       "        [6.74315444e-01, 3.38578175e-01],\n",
       "        [2.73759459e-02, 6.28914613e-01],\n",
       "        [9.42598961e-01, 7.82104736e-01]],\n",
       "\n",
       "       [[9.09745517e-01, 6.02404469e-01],\n",
       "        [8.96088943e-03, 9.71663531e-01],\n",
       "        [4.47509393e-01, 6.11251645e-01],\n",
       "        [1.20108886e-01, 8.82795392e-01],\n",
       "        [2.82913711e-01, 8.11264282e-01],\n",
       "        [8.96075965e-01, 6.34426854e-01],\n",
       "        [6.66600901e-02, 9.97049896e-01],\n",
       "        [6.25314540e-01, 6.61615078e-01],\n",
       "        [8.14925399e-01, 6.01168015e-01],\n",
       "        [6.26670235e-01, 1.06708475e-01],\n",
       "        [9.55885027e-01, 6.86415026e-01],\n",
       "        [4.18035259e-01, 9.95296913e-01],\n",
       "        [6.84054022e-01, 3.33182955e-01],\n",
       "        [8.59248645e-01, 4.34246473e-01],\n",
       "        [8.99810141e-01, 2.55780147e-01],\n",
       "        [9.10380482e-01, 4.22276282e-01],\n",
       "        [1.70416947e-01, 5.28519752e-02],\n",
       "        [3.14716631e-01, 6.76576390e-02],\n",
       "        [9.04073687e-02, 4.60752048e-01],\n",
       "        [2.04530900e-01, 1.27021031e-01]],\n",
       "\n",
       "       [[2.53975256e-02, 5.70434010e-01],\n",
       "        [8.94941067e-01, 9.59053703e-01],\n",
       "        [3.35945233e-01, 3.24246690e-01],\n",
       "        [1.77400004e-01, 3.10132097e-01],\n",
       "        [6.02820468e-01, 8.15485492e-02],\n",
       "        [5.27703456e-01, 2.34410017e-02],\n",
       "        [4.73484582e-01, 6.80977536e-01],\n",
       "        [4.78821414e-01, 3.94680049e-01],\n",
       "        [7.50875083e-01, 1.33322260e-01],\n",
       "        [6.41788131e-01, 3.44763709e-01],\n",
       "        [8.16900998e-01, 6.14597867e-02],\n",
       "        [2.13506495e-01, 2.82880467e-01],\n",
       "        [2.58115904e-01, 4.65817071e-01],\n",
       "        [1.38840616e-01, 1.60672721e-01],\n",
       "        [1.44437506e-01, 6.66843443e-01],\n",
       "        [3.04656412e-02, 8.78534282e-01],\n",
       "        [9.83020145e-01, 7.40611259e-01],\n",
       "        [4.44048759e-01, 2.89780944e-01],\n",
       "        [8.84280204e-01, 9.11167555e-01],\n",
       "        [8.50530379e-01, 5.26905477e-01]],\n",
       "\n",
       "       [[3.68294196e-01, 6.89378058e-01],\n",
       "        [9.23128611e-01, 3.37546661e-01],\n",
       "        [1.18286622e-01, 2.93226691e-01],\n",
       "        [5.74171069e-01, 7.89726026e-01],\n",
       "        [6.72604876e-01, 6.90719553e-01],\n",
       "        [2.31704666e-01, 2.38179537e-02],\n",
       "        [9.61403906e-01, 8.88810184e-01],\n",
       "        [2.29763449e-01, 6.04366912e-01],\n",
       "        [4.64104190e-01, 5.61439712e-02],\n",
       "        [6.88463434e-01, 4.38848229e-01],\n",
       "        [4.55222027e-01, 9.67163807e-01],\n",
       "        [9.11817310e-01, 7.80895101e-02],\n",
       "        [3.13688511e-01, 6.61395087e-01],\n",
       "        [4.08485989e-01, 1.31194682e-01],\n",
       "        [9.05772750e-01, 5.46382954e-01],\n",
       "        [1.75548910e-02, 7.94416279e-01],\n",
       "        [9.48320783e-01, 6.10585479e-01],\n",
       "        [9.86919923e-01, 3.19090099e-01],\n",
       "        [1.63595354e-01, 3.36513565e-01],\n",
       "        [3.46010385e-01, 5.52704836e-01]]])"
      ]
     },
     "execution_count": 20,
     "metadata": {},
     "output_type": "execute_result"
    }
   ],
   "source": [
    "allNodes"
   ]
  },
  {
   "cell_type": "code",
   "execution_count": 38,
   "id": "b33d800e",
   "metadata": {},
   "outputs": [
    {
     "data": {
      "text/plain": [
       "array([[4, 4, 4],\n",
       "       [4, 4, 4]])"
      ]
     },
     "execution_count": 38,
     "metadata": {},
     "output_type": "execute_result"
    }
   ],
   "source": [
    "np.full((2, 3), 4)"
   ]
  },
  {
   "cell_type": "code",
   "execution_count": 19,
   "id": "6ecaf301",
   "metadata": {},
   "outputs": [],
   "source": [
    "def distance_matrix(coords):\n",
    "    # coords is a numpy array of shape (batch_size, n, 2)\n",
    "    batch_size, n, _ = coords.shape\n",
    "\n",
    "    # Repeat the coordinates along a new axis to compute distances between all pairs of coordinates\n",
    "    coords_expanded = np.repeat(coords[:, np.newaxis, :, :], n, axis=1)\n",
    "    \n",
    "    # Compute the pairwise distances between all pairs of coordinates\n",
    "    distances = np.linalg.norm(coords_expanded - np.transpose(coords_expanded, (0, 2, 1, 3)), axis=-1)\n",
    "\n",
    "    return distances"
   ]
  },
  {
   "cell_type": "code",
   "execution_count": 22,
   "id": "3bb7a101",
   "metadata": {},
   "outputs": [],
   "source": [
    "T = distance_matrix(allNodes)"
   ]
  },
  {
   "cell_type": "code",
   "execution_count": 59,
   "id": "68e0aaa3",
   "metadata": {},
   "outputs": [
    {
     "data": {
      "text/plain": [
       "array([[ 5, 10, 15,  2,  6,  7, 17, 19, 16,  1, 18, 14,  4,  8, 12,  3,\n",
       "        11,  9, 13],\n",
       "       [15,  9, 18,  8,  1,  3,  4,  2,  6, 13, 12, 14, 16, 19,  7, 11,\n",
       "         5, 10, 17],\n",
       "       [ 4,  2, 16, 13, 12,  9, 19, 10,  7,  1, 11,  6, 14, 15,  5, 17,\n",
       "        18,  8,  3],\n",
       "       [ 8,  2, 14, 19,  1,  5,  6, 10,  9, 11, 17,  4, 16, 12, 13,  7,\n",
       "         3, 18, 15],\n",
       "       [12,  1,  8, 19, 13, 16, 18,  2,  5,  6, 14,  4,  3, 17, 10, 11,\n",
       "        15,  9,  7],\n",
       "       [ 2, 16,  9,  8, 19,  3, 17, 18, 10,  1, 15, 11,  7,  4, 14, 13,\n",
       "         6,  5, 12],\n",
       "       [ 5,  3, 10, 11, 19, 18, 12,  8,  1, 17, 14, 15,  9, 13,  6,  2,\n",
       "         7, 16,  4],\n",
       "       [19, 12, 11,  1,  2,  6, 18, 10, 14,  5,  7, 17, 16, 15,  9,  8,\n",
       "        13,  3,  4]])"
      ]
     },
     "execution_count": 59,
     "metadata": {},
     "output_type": "execute_result"
    }
   ],
   "source": []
  },
  {
   "cell_type": "code",
   "execution_count": 60,
   "id": "7a585ef6",
   "metadata": {},
   "outputs": [],
   "source": [
    "n = 19\n",
    "K = 8\n",
    "arr = np.tile(np.arange(1, n+1), K).reshape(K,n)\n",
    "tsp_tour = np.apply_along_axis(np.random.permutation, 1, arr)"
   ]
  },
  {
   "cell_type": "code",
   "execution_count": 63,
   "id": "055b4aef",
   "metadata": {},
   "outputs": [
    {
     "data": {
      "text/plain": [
       "array([14, 12, 14, 14,  9, 16, 10, 12])"
      ]
     },
     "execution_count": 63,
     "metadata": {},
     "output_type": "execute_result"
    }
   ],
   "source": [
    "tsp_tour[:,0]"
   ]
  },
  {
   "cell_type": "code",
   "execution_count": 67,
   "id": "7dbfb236",
   "metadata": {},
   "outputs": [
    {
     "data": {
      "text/plain": [
       "array([2, 2, 2])"
      ]
     },
     "execution_count": 67,
     "metadata": {},
     "output_type": "execute_result"
    }
   ],
   "source": [
    "np.full(3, 2)"
   ]
  },
  {
   "cell_type": "code",
   "execution_count": 66,
   "id": "614daeb7",
   "metadata": {},
   "outputs": [
    {
     "data": {
      "text/plain": [
       "array([0.95950536, 0.90115167, 0.75429295, 0.46610985, 0.59583437,\n",
       "       0.92120284, 0.94102737, 0.06135819])"
      ]
     },
     "execution_count": 66,
     "metadata": {},
     "output_type": "execute_result"
    }
   ],
   "source": [
    "T[np.arange(K), 0, tsp_tour[:,0]]"
   ]
  },
  {
   "cell_type": "code",
   "execution_count": 78,
   "id": "a12f5a50",
   "metadata": {},
   "outputs": [],
   "source": [
    "m = 3\n",
    "batch_size, n1, _ = allNodes.shape\n",
    "n = n1 - 1\n",
    "T = distance_matrix(allNodes)\n",
    "V = np.full((batch_size, n, m), np.inf)\n",
    "P = np.full((batch_size, n, m), n+1)\n",
    "C = np.full((batch_size, n, m), np.inf)\n",
    "i = 0\n",
    "r = 0\n",
    "t = np.zeros(batch_size)\n",
    "j = i\n",
    "while j<n:\n",
    "    if i==j:\n",
    "        t = T[np.arange(batch_size), 0, tsp_tour[:,j]] * 2\n",
    "    else:\n",
    "        t = t - T[np.arange(batch_size), tsp_tour[:,j-1], 0] + T[np.arange(batch_size), tsp_tour[:,j-1], tsp_tour[:,j]] + T[np.arange(batch_size), tsp_tour[:,j], 0]\n",
    "    V[:, j, 0] = t\n",
    "    P[:, j, 0] = np.full(batch_size, -1)\n",
    "    C[:, j, 0] = t\n",
    "    j += 1"
   ]
  },
  {
   "cell_type": "code",
   "execution_count": 94,
   "id": "06ffc84a",
   "metadata": {},
   "outputs": [
    {
     "data": {
      "text/plain": [
       "array([1.94436018, 1.814423  , 1.75613019, 2.22139436, 1.33809317,\n",
       "       1.85332163, 1.93048503, 0.68936411])"
      ]
     },
     "execution_count": 94,
     "metadata": {},
     "output_type": "execute_result"
    }
   ],
   "source": [
    "V[:,1,0]"
   ]
  },
  {
   "cell_type": "code",
   "execution_count": 101,
   "id": "71fb6f1b",
   "metadata": {},
   "outputs": [
    {
     "data": {
      "text/plain": [
       "8"
      ]
     },
     "execution_count": 101,
     "metadata": {},
     "output_type": "execute_result"
    }
   ],
   "source": [
    "len(V[:,0,0] < V[:,1,0])"
   ]
  },
  {
   "cell_type": "code",
   "execution_count": 96,
   "id": "0fb3461f",
   "metadata": {},
   "outputs": [
    {
     "data": {
      "text/plain": [
       "array([2.33531206, 3.13021484, 2.63893416, 2.41156545, 2.31250565,\n",
       "       1.89538588, 2.37739856, 1.83972291])"
      ]
     },
     "execution_count": 96,
     "metadata": {},
     "output_type": "execute_result"
    }
   ],
   "source": [
    "np.maximum(V[:,1,0], V[:,2,0])"
   ]
  },
  {
   "cell_type": "code",
   "execution_count": null,
   "id": "83a8b7b2",
   "metadata": {},
   "outputs": [],
   "source": []
  },
  {
   "cell_type": "code",
   "execution_count": 159,
   "id": "12417791",
   "metadata": {},
   "outputs": [],
   "source": [
    "def SPLIT_mTSP_batch(allNodes, K, tsp_tour):\n",
    "    batch_size, n1, _ = allNodes.shape\n",
    "    n = n1 - 1\n",
    "    T = distance_matrix(allNodes)\n",
    "    V = np.full((batch_size, n, K), np.inf)\n",
    "    P = np.full((batch_size, n, K), n+1)\n",
    "    C = np.full((batch_size, n, K), np.inf)\n",
    "    i = 0\n",
    "    r = 0\n",
    "    t = np.zeros(batch_size)\n",
    "    j = i\n",
    "    while j<n:\n",
    "        if i==j:\n",
    "            t = T[np.arange(batch_size), 0, tsp_tour[:,j]] * 2\n",
    "        else:\n",
    "            t = t - T[np.arange(batch_size), tsp_tour[:,j-1], 0] + T[np.arange(batch_size), tsp_tour[:,j-1], tsp_tour[:,j]] + T[np.arange(batch_size), tsp_tour[:,j], 0]\n",
    "        V[:, j, 0] = t\n",
    "        P[:, j, 0] = np.full(batch_size, -1)\n",
    "        C[:, j, 0] = t\n",
    "        j += 1\n",
    "    \n",
    "    for i in range(1,n):\n",
    "        for r in range(K-1):\n",
    "            Current_V = V[:, i, r]\n",
    "            if Current_V[0] < np.inf:\n",
    "                t = np.zeros(batch_size)\n",
    "                j = i\n",
    "                while j<n:\n",
    "                    if i==j:\n",
    "                        t = T[np.arange(batch_size), 0, tsp_tour[:,j]] * 2\n",
    "                    else:\n",
    "                        t = t - T[np.arange(batch_size), tsp_tour[:,j-1], 0] + T[np.arange(batch_size), tsp_tour[:,j-1], tsp_tour[:,j]] + T[np.arange(batch_size), tsp_tour[:,j], 0]\n",
    "                    new_t = np.maximum(t, V[:, i-1, r])\n",
    "                    updated_samples = new_t < V[:, j, r+1]\n",
    "                    V[updated_samples, j, r+1] = new_t[updated_samples]\n",
    "                    P[updated_samples, j, r+1] = np.full(batch_size, i-1)[updated_samples]\n",
    "                    C[updated_samples, j, r+1] = t[updated_samples]\n",
    "                    j += 1\n",
    "    return V[:,n-1, K-1]"
   ]
  },
  {
   "cell_type": "code",
   "execution_count": 160,
   "id": "39046f0d",
   "metadata": {},
   "outputs": [],
   "source": [
    "V = SPLIT_mTSP_batch(allNodes, 3, tsp_tour)"
   ]
  },
  {
   "cell_type": "code",
   "execution_count": 161,
   "id": "bb39ecec",
   "metadata": {},
   "outputs": [
    {
     "data": {
      "text/plain": [
       "array([4.58182011, 4.54389378, 5.21223712, 3.95226357, 3.69878991,\n",
       "       4.3951455 , 4.11331123, 3.82549985])"
      ]
     },
     "execution_count": 161,
     "metadata": {},
     "output_type": "execute_result"
    }
   ],
   "source": [
    "V"
   ]
  },
  {
   "cell_type": "code",
   "execution_count": 168,
   "id": "f1b80178",
   "metadata": {},
   "outputs": [
    {
     "data": {
      "text/plain": [
       "'[[0.368294195731543 0.6893780577489007];[0.9231286113555104 0.33754666071380357];[0.11828662222505537 0.29322669079923724];[0.5741710693057782 0.7897260260222418];[0.6726048757771038 0.6907195533567281];[0.23170466632589226 0.023817953690009164];[0.9614039056107203 0.8888101842663625];[0.2297634494569698 0.6043669117733065];[0.46410419038559303 0.05614397116541037];[0.6884634336043619 0.4388482294589111];[0.45522202674222145 0.9671638066294278];[0.9118173101225008 0.07808951005527331];[0.31368851099484163 0.6613950871262277];[0.40848598851356777 0.13119468195116757];[0.9057727504704001 0.5463829539438629];[0.017554891018919383 0.7944162789463142];[0.9483207834672926 0.6105854789079275];[0.9869199230219388 0.3190900985631888];[0.16359535441559403 0.33651356493985696];[0.3460103845896648 0.5527048355293837]]'"
      ]
     },
     "execution_count": 168,
     "metadata": {},
     "output_type": "execute_result"
    }
   ],
   "source": [
    "sample = 7\n",
    "A = \"[\"\n",
    "for i in range(20):\n",
    "    A += \"[\"\n",
    "    A += str(allNodes[sample,i,0])\n",
    "    A += \" \"\n",
    "    A += str(allNodes[sample,i,1])\n",
    "    A +=\"]\"\n",
    "    if i < 19:\n",
    "        A += \";\"\n",
    "A += \"]\"\n",
    "\n",
    "A"
   ]
  },
  {
   "cell_type": "code",
   "execution_count": 169,
   "id": "59cd7a9e",
   "metadata": {},
   "outputs": [
    {
     "data": {
      "text/plain": [
       "array([12, 10,  1,  2, 18,  3, 19,  8,  5, 17, 16,  4, 15, 13,  7,  6,  9,\n",
       "       11, 14])"
      ]
     },
     "execution_count": 169,
     "metadata": {},
     "output_type": "execute_result"
    }
   ],
   "source": [
    "tsp_tour[sample,:]"
   ]
  },
  {
   "cell_type": "code",
   "execution_count": 1,
   "id": "d2c87266",
   "metadata": {},
   "outputs": [
    {
     "name": "stdout",
     "output_type": "stream",
     "text": [
      "Collecting ortools\n",
      "  Downloading ortools-9.6.2534-cp38-cp38-win_amd64.whl (43.5 MB)\n",
      "Collecting protobuf>=4.21.12\n",
      "  Downloading protobuf-4.22.3-cp38-cp38-win_amd64.whl (420 kB)\n",
      "Requirement already satisfied: absl-py>=0.13 in c:\\users\\sasanm\\anaconda3\\lib\\site-packages (from ortools) (0.15.0)\n",
      "Requirement already satisfied: numpy>=1.13.3 in c:\\users\\sasanm\\anaconda3\\lib\\site-packages (from ortools) (1.19.5)\n",
      "Collecting scipy>=1.10.0\n",
      "  Downloading scipy-1.10.1-cp38-cp38-win_amd64.whl (42.2 MB)\n",
      "Requirement already satisfied: six in c:\\users\\sasanm\\anaconda3\\lib\\site-packages (from absl-py>=0.13->ortools) (1.15.0)\n",
      "Installing collected packages: scipy, protobuf, ortools\n",
      "  Attempting uninstall: scipy\n",
      "    Found existing installation: scipy 1.6.2\n",
      "    Uninstalling scipy-1.6.2:\n",
      "      Successfully uninstalled scipy-1.6.2\n",
      "  Attempting uninstall: protobuf\n",
      "    Found existing installation: protobuf 3.18.1\n",
      "    Uninstalling protobuf-3.18.1:\n",
      "      Successfully uninstalled protobuf-3.18.1\n",
      "Successfully installed ortools-9.6.2534 protobuf-4.22.3 scipy-1.10.1\n",
      "Note: you may need to restart the kernel to use updated packages.\n"
     ]
    }
   ],
   "source": [
    "pip install ortools"
   ]
  },
  {
   "cell_type": "code",
   "execution_count": null,
   "id": "b9c69e44",
   "metadata": {},
   "outputs": [],
   "source": []
  }
 ],
 "metadata": {
  "kernelspec": {
   "display_name": "Python 3",
   "language": "python",
   "name": "python3"
  },
  "language_info": {
   "codemirror_mode": {
    "name": "ipython",
    "version": 3
   },
   "file_extension": ".py",
   "mimetype": "text/x-python",
   "name": "python",
   "nbconvert_exporter": "python",
   "pygments_lexer": "ipython3",
   "version": "3.8.8"
  }
 },
 "nbformat": 4,
 "nbformat_minor": 5
}

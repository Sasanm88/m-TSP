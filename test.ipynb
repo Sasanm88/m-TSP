{
 "cells": [
  {
   "cell_type": "code",
   "execution_count": 1,
   "id": "39740d65",
   "metadata": {},
   "outputs": [
    {
     "data": {
      "text/plain": [
       "Write_to_excel (generic function with 1 method)"
      ]
     },
     "execution_count": 1,
     "metadata": {},
     "output_type": "execute_result"
    }
   ],
   "source": [
    "include(\"Create_Sample.jl\")\n",
    "include(\"MIP_SPLIT.jl\")\n",
    "include(\"Split.jl\")\n",
    "include(\"GA.jl\")\n",
    "include(\"Initial.jl\")\n",
    "include(\"Mutation.jl\")\n",
    "include(\"Crossover.jl\")\n",
    "include(\"Neighborhood.jl\")\n",
    "include(\"Neighborhood_intra.jl\")\n",
    "include(\"costs.jl\")\n",
    "include(\"Draw.jl\")\n",
    "include(\"Escape.jl\")\n",
    "using XLSX\n",
    "\n",
    "function Write_to_excel(exfile, sheetnumber, instance_count, instance_name,m, best, avg, worst, run_time)\n",
    "    instance_count += 1\n",
    "    XLSX.openxlsx(exfile, mode=\"rw\") do xf\n",
    "        sheet = xf[sheetnumber]\n",
    "        sheet[\"A\"*string(instance_count)] = string(instance_name)\n",
    "        sheet[\"B\"*string(instance_count)] = m\n",
    "        sheet[\"C\"*string(instance_count)] = best\n",
    "        sheet[\"D\"*string(instance_count)] = avg\n",
    "        sheet[\"E\"*string(instance_count)] = worst\n",
    "        sheet[\"F\"*string(instance_count)] = run_time\n",
    "    end\n",
    "end"
   ]
  },
  {
   "cell_type": "code",
   "execution_count": 3,
   "id": "325cad0e",
   "metadata": {},
   "outputs": [
    {
     "name": "stdout",
     "output_type": "stream",
     "text": [
      "Results for eil51 ,m=2\n",
      "Best: 222.7  Average: 226.0  Worst: 230.7 , run time= 4.0\n",
      "Results for eil51 ,m=3\n",
      "Best: 164.1  Average: 167.1  Worst: 170.2 , run time= 3.0\n",
      "Results for eil51 ,m=5\n",
      "Best: 120.8  Average: 123.0  Worst: 128.2 , run time= 2.0\n",
      "Results for eil51 ,m=7\n",
      "Best: 112.1  Average: 112.1  Worst: 112.1 , run time= 1.0\n",
      "Results for berlin52 ,m=2\n",
      "Best: 4179.0  Average: 4195.7  Worst: 4223.7 , run time= 3.0\n",
      "Results for berlin52 ,m=3\n",
      "Best: 3191.2  Average: 3191.2  Worst: 3191.2 , run time= 1.0\n",
      "Results for berlin52 ,m=5\n",
      "Best: 2440.9  Average: 2457.9  Worst: 2607.9 , run time= 1.0\n",
      "Results for berlin52 ,m=7\n",
      "Best: 2440.9  Average: 2440.9  Worst: 2440.9 , run time= 1.0\n",
      "Results for eil76 ,m=2\n",
      "Best: 282.2  Average: 285.8  Worst: 291.7 , run time= 5.0\n",
      "Results for eil76 ,m=3\n",
      "Best: 205.4  Average: 209.3  Worst: 217.3 , run time= 5.0\n",
      "Results for eil76 ,m=5\n",
      "Best: 146.6  Average: 152.9  Worst: 158.7 , run time= 3.0\n",
      "Results for eil76 ,m=7\n",
      "Best: 127.7  Average: 130.4  Worst: 135.9 , run time= 4.0\n",
      "Results for rat99 ,m=2\n",
      "Best: 680.7  Average: 690.4  Worst: 707.3 , run time= 10.0\n",
      "Results for rat99 ,m=3\n",
      "Best: 526.6  Average: 547.4  Worst: 568.5 , run time= 10.0\n",
      "Results for rat99 ,m=5\n",
      "Best: 458.0  Average: 469.3  Worst: 478.3 , run time= 5.0\n",
      "Results for rat99 ,m=7\n",
      "Best: 437.9  Average: 443.7  Worst: 444.8 , run time= 4.0\n",
      "Results:  Best: 0.3  Average: 1.9  Worst: 4.3   run time: 38.2\n",
      "Results for eil51 ,m=2\n",
      "Best: 223.1  Average: 225.8  Worst: 228.9 , run time= 5.0\n",
      "Results for eil51 ,m=3\n",
      "Best: 162.4  Average: 166.8  Worst: 169.9 , run time= 3.0\n",
      "Results for eil51 ,m=5\n",
      "Best: 119.9  Average: 121.5  Worst: 124.4 , run time= 2.0\n",
      "Results for eil51 ,m=7\n",
      "Best: 112.1  Average: 112.1  Worst: 112.1 , run time= 1.0\n",
      "Results for berlin52 ,m=2\n",
      "Best: 4158.8  Average: 4195.2  Worst: 4233.6 , run time= 4.0\n",
      "Results for berlin52 ,m=3\n",
      "Best: 3184.5  Average: 3190.5  Worst: 3191.2 , run time= 2.0\n",
      "Results for berlin52 ,m=5\n",
      "Best: 2440.9  Average: 2451.9  Worst: 2482.6 , run time= 2.0\n",
      "Results for berlin52 ,m=7\n",
      "Best: 2440.9  Average: 2440.9  Worst: 2440.9 , run time= 1.0\n",
      "Results for eil76 ,m=2\n",
      "Best: 282.4  Average: 285.3  Worst: 290.4 , run time= 6.0\n",
      "Results for eil76 ,m=3\n",
      "Best: 196.1  Average: 209.9  Worst: 217.3 , run time= 7.0\n",
      "Results for eil76 ,m=5\n",
      "Best: 151.0  Average: 153.2  Worst: 155.3 , run time= 4.0\n",
      "Results for eil76 ,m=7\n",
      "Best: 127.6  Average: 131.3  Worst: 139.1 , run time= 4.0\n",
      "Results for rat99 ,m=2\n",
      "Best: 679.8  Average: 698.8  Worst: 710.4 , run time= 12.0\n",
      "Results for rat99 ,m=3\n",
      "Best: 523.1  Average: 538.8  Worst: 564.8 , run time= 12.0\n",
      "Results for rat99 ,m=5\n",
      "Best: 460.5  Average: 469.0  Worst: 476.5 , run time= 6.0\n",
      "Results for rat99 ,m=7\n",
      "Best: 442.5  Average: 444.0  Worst: 444.8 , run time= 5.0\n",
      "Results:  Best: 0.1  Average: 1.8  Worst: 3.7   run time: 47.0\n",
      "Results for eil51 ,m=2\n",
      "Best: 224.3  Average: 226.3  Worst: 229.3 , run time= 4.0\n",
      "Results for eil51 ,m=3\n",
      "Best: 162.4  Average: 166.4  Worst: 168.5 , run time= 3.0\n",
      "Results for eil51 ,m=5\n",
      "Best: 118.2  Average: 122.2  Worst: 124.8 , run time= 2.0\n",
      "Results for eil51 ,m=7\n",
      "Best: 112.1  Average: 112.1  Worst: 112.1 , run time= 1.0\n",
      "Results for berlin52 ,m=2\n",
      "Best: 4119.0  Average: 4202.0  Worst: 4233.6 , run time= 4.0\n",
      "Results for berlin52 ,m=3\n",
      "Best: 3191.2  Average: 3191.2  Worst: 3191.2 , run time= 2.0\n",
      "Results for berlin52 ,m=5\n",
      "Best: 2440.9  Average: 2452.3  Worst: 2482.6 , run time= 2.0\n",
      "Results for berlin52 ,m=7\n",
      "Best: 2440.9  Average: 2440.9  Worst: 2440.9 , run time= 1.0\n",
      "Results for eil76 ,m=2\n",
      "Best: 282.4  Average: 285.3  Worst: 291.2 , run time= 6.0\n",
      "Results for eil76 ,m=3\n",
      "Best: 199.4  Average: 209.0  Worst: 217.3 , run time= 6.0\n",
      "Results for eil76 ,m=5\n",
      "Best: 145.5  Average: 152.1  Worst: 155.0 , run time= 4.0\n",
      "Results for eil76 ,m=7\n",
      "Best: 127.6  Average: 130.4  Worst: 135.0 , run time= 5.0\n",
      "Results for rat99 ,m=2\n",
      "Best: 682.5  Average: 698.2  Worst: 712.8 , run time= 16.0\n",
      "Results for rat99 ,m=3\n",
      "Best: 532.5  Average: 553.4  Worst: 581.3 , run time= 15.0\n",
      "Results for rat99 ,m=5\n",
      "Best: 463.6  Average: 471.8  Worst: 476.2 , run time= 7.0\n",
      "Results for rat99 ,m=7\n",
      "Best: 438.1  Average: 444.3  Worst: 453.7 , run time= 6.0\n",
      "Results:  Best: -0.0  Average: 2.0  Worst: 3.8   run time: 53.1\n",
      "Results for eil51 ,m=2\n",
      "Best: 223.1  Average: 226.3  Worst: 229.9 , run time= 5.0\n",
      "Results for eil51 ,m=3\n",
      "Best: 162.0  Average: 166.4  Worst: 169.1 , run time= 4.0\n",
      "Results for eil51 ,m=5\n",
      "Best: 119.9  Average: 123.0  Worst: 127.5 , run time= 2.0\n",
      "Results for eil51 ,m=7\n",
      "Best: 112.1  Average: 112.1  Worst: 112.1 , run time= 1.0\n",
      "Results for berlin52 ,m=2\n",
      "Best: 4179.0  Average: 4203.9  Worst: 4233.6 , run time= 4.0\n",
      "Results for berlin52 ,m=3\n",
      "Best: 3191.2  Average: 3191.2  Worst: 3191.2 , run time= 2.0\n",
      "Results for berlin52 ,m=5\n",
      "Best: 2440.9  Average: 2486.6  Worst: 2660.0 , run time= 2.0\n",
      "Results for berlin52 ,m=7\n",
      "Best: 2440.9  Average: 2440.9  Worst: 2440.9 , run time= 1.0\n",
      "Results for eil76 ,m=2\n",
      "Best: 284.0  Average: 288.2  Worst: 290.6 , run time= 8.0\n",
      "Results for eil76 ,m=3\n",
      "Best: 203.1  Average: 211.6  Worst: 216.5 , run time= 7.0\n",
      "Results for eil76 ,m=5\n",
      "Best: 145.5  Average: 149.9  Worst: 154.4 , run time= 6.0\n",
      "Results for eil76 ,m=7\n",
      "Best: 127.6  Average: 132.4  Worst: 139.1 , run time= 4.0\n",
      "Results for rat99 ,m=2\n",
      "Best: 682.4  Average: 697.6  Worst: 718.7 , run time= 20.0\n",
      "Results for rat99 ,m=3\n",
      "Best: 534.2  Average: 549.4  Worst: 574.1 , run time= 15.0\n",
      "Results for rat99 ,m=5\n",
      "Best: 466.5  Average: 475.2  Worst: 488.1 , run time= 6.0\n",
      "Results for rat99 ,m=7\n",
      "Best: 440.4  Average: 444.2  Worst: 449.0 , run time= 6.0\n",
      "Results:  Best: 0.4  Average: 2.2  Worst: 4.6   run time: 59.2\n",
      "Results for eil51 ,m=2\n",
      "Best: 223.1  Average: 225.3  Worst: 228.1 , run time= 5.0\n",
      "Results for eil51 ,m=3\n",
      "Best: 164.3  Average: 167.9  Worst: 171.8 , run time= 4.0\n",
      "Results for eil51 ,m=5\n",
      "Best: 120.1  Average: 123.8  Worst: 126.2 , run time= 2.0\n",
      "Results for eil51 ,m=7\n",
      "Best: 112.1  Average: 112.1  Worst: 112.1 , run time= 1.0\n",
      "Results for berlin52 ,m=2\n",
      "Best: 4194.9  Average: 4218.9  Worst: 4245.1 , run time= 5.0\n",
      "Results for berlin52 ,m=3\n",
      "Best: 3191.2  Average: 3191.3  Worst: 3192.8 , run time= 2.0\n",
      "Results for berlin52 ,m=5\n",
      "Best: 2440.9  Average: 2466.8  Worst: 2660.0 , run time= 2.0\n",
      "Results for berlin52 ,m=7\n",
      "Best: 2440.9  Average: 2440.9  Worst: 2440.9 , run time= 1.0\n",
      "Results for eil76 ,m=2\n",
      "Best: 282.2  Average: 286.8  Worst: 289.3 , run time= 9.0\n",
      "Results for eil76 ,m=3\n",
      "Best: 202.5  Average: 211.8  Worst: 217.3 , run time= 7.0\n",
      "Results for eil76 ,m=5\n",
      "Best: 149.3  Average: 153.3  Worst: 158.4 , run time= 6.0\n",
      "Results for eil76 ,m=7\n",
      "Best: 128.4  Average: 131.8  Worst: 137.4 , run time= 5.0\n",
      "Results for rat99 ,m=2\n",
      "Best: 684.9  Average: 702.1  Worst: 721.4 , run time= 22.0\n",
      "Results for rat99 ,m=3\n",
      "Best: 526.6  Average: 554.6  Worst: 578.3 , run time= 18.0\n",
      "Results for rat99 ,m=5\n",
      "Best: 460.5  Average: 473.1  Worst: 490.5 , run time= 9.0\n",
      "Results for rat99 ,m=7\n",
      "Best: 439.0  Average: 445.7  Worst: 458.5 , run time= 7.0\n",
      "Results:  Best: 0.5  Average: 2.5  Worst: 4.9   run time: 64.8\n",
      "Results for eil51 ,m=2\n",
      "Best: 223.1  Average: 225.6  Worst: 229.0 , run time= 5.0\n",
      "Results for eil51 ,m=3\n",
      "Best: 163.9  Average: 168.6  Worst: 172.7 , run time= 3.0\n",
      "Results for eil51 ,m=5\n",
      "Best: 119.9  Average: 123.1  Worst: 124.8 , run time= 2.0\n",
      "Results for eil51 ,m=7\n",
      "Best: 112.1  Average: 112.1  Worst: 112.5 , run time= 1.0\n",
      "Results for berlin52 ,m=2\n",
      "Best: 4179.0  Average: 4208.6  Worst: 4233.6 , run time= 5.0\n",
      "Results for berlin52 ,m=3\n",
      "Best: 3182.3  Average: 3190.1  Worst: 3192.8 , run time= 3.0\n",
      "Results for berlin52 ,m=5\n",
      "Best: 2440.9  Average: 2445.2  Worst: 2482.6 , run time= 2.0\n",
      "Results for berlin52 ,m=7\n",
      "Best: 2440.9  Average: 2440.9  Worst: 2440.9 , run time= 1.0\n",
      "Results for eil76 ,m=2\n",
      "Best: 282.4  Average: 285.5  Worst: 292.2 , run time= 12.0\n",
      "Results for eil76 ,m=3\n",
      "Best: 206.0  Average: 209.7  Worst: 217.7 , run time= 8.0\n",
      "Results for eil76 ,m=5\n",
      "Best: 147.0  Average: 152.9  Worst: 158.1 , run time= 5.0\n",
      "Results for eil76 ,m=7\n",
      "Best: 128.1  Average: 132.3  Worst: 139.1 , run time= 4.0\n",
      "Results for rat99 ,m=2\n",
      "Best: 685.8  Average: 696.9  Worst: 713.8 , run time= 25.0\n",
      "Results for rat99 ,m=3\n",
      "Best: 531.3  Average: 559.0  Worst: 587.1 , run time= 15.0\n",
      "Results for rat99 ,m=5\n",
      "Best: 460.4  Average: 472.3  Worst: 481.9 , run time= 10.0\n",
      "Results for rat99 ,m=7\n",
      "Best: 443.2  Average: 445.1  Worst: 453.7 , run time= 7.0\n"
     ]
    },
    {
     "name": "stdout",
     "output_type": "stream",
     "text": [
      "Results:  Best: 0.5  Average: 2.3  Worst: 4.5   run time: 67.8\n"
     ]
    }
   ],
   "source": [
    "function test()\n",
    "    mu = 20\n",
    "    sigma = 20 \n",
    "    k_tournament = 6\n",
    "    num_nei = 2\n",
    "    crossover_functions = [5,7]\n",
    "    sheetnumber = 1\n",
    "    hs = [0.1, 0.2, 0.3, 0.4, 0.5, 0.6]\n",
    "    for h in hs\n",
    "        test_parameters(mu, sigma, h, k_tournament, num_nei, crossover_functions, sheetnumber)\n",
    "        sheetnumber += 1\n",
    "    end\n",
    "end\n",
    "\n",
    "test()"
   ]
  },
  {
   "cell_type": "code",
   "execution_count": 2,
   "id": "fafbc4c0",
   "metadata": {},
   "outputs": [
    {
     "data": {
      "text/plain": [
       "test_parameters (generic function with 1 method)"
      ]
     },
     "execution_count": 2,
     "metadata": {},
     "output_type": "execute_result"
    }
   ],
   "source": [
    "function test_parameters(mu::Int, sigma::Int, h::Float64, k_tournament::Int, num_nei::Int, crossover_functions::Vector{Int}, sheetnumber::Int)\n",
    "    instances = [:eil51, :berlin52, :eil76, :rat99]\n",
    "    LKH3 = [[222.7, 159.6, 124.0, 112.1],[4110.2, 3184.2, 2440.9, 2440.9], [280.9, 196.7, 143.4, 128.2],[690.8, 523.3, 467.0,442.5]]\n",
    "    Ms = [2, 3, 5, 7]\n",
    "\n",
    "    best_v = Float64[]\n",
    "    Avg_v = Float64[]\n",
    "    worst_v = Float64[]\n",
    "\n",
    "    count = 0\n",
    "    best_ = 0.0\n",
    "    Avg_ = 0.0\n",
    "    worst_ = 0.0\n",
    "    time_ = 0.0\n",
    "    P = Chromosome[]\n",
    "    # best_chrm = Chromosome(Int[], 0.0, 0.0, Tour[])\n",
    "    # worst_chrm = Chromosome(Int[], 0.0, 0.0, Tour[])\n",
    "    # roullet_ = zeros(Int, 5)\n",
    "    # counter_n = zeros(Int, 25)\n",
    "    # counter_cr = zeros(Int, 7)\n",
    "    instance_count = 1\n",
    "    for (i,instance) in enumerate(instances)\n",
    "        for (j,K) in enumerate(Ms)\n",
    "            \n",
    "            count += 1\n",
    "            T = Read_TSPLIB_instance(instance, 1)\n",
    "            n = size(T)[1]-2\n",
    "            demands = ones(Int, n)\n",
    "            W = 150\n",
    "            popsize = (mu, sigma)\n",
    "            num_iter = 2000\n",
    "            Mutation_Chance = 0.0\n",
    "            num_runs = 10\n",
    "            avg = 0.0\n",
    "            best = Inf\n",
    "            worst = 0.0\n",
    "            t1 = time() \n",
    "            P = Chromosome[]\n",
    "            for i=1:num_runs\n",
    "                P, roullet = Perform_Genetic_Algorithm(T, demands,K, W, h, popsize, \n",
    "                    k_tournament, num_iter, Mutation_Chance, num_nei, crossover_functions);\n",
    "    #             roullet_ = roullet_ + roullet\n",
    "                avg += P[1].fitness\n",
    "                if P[1].fitness < best\n",
    "                    best = P[1].fitness\n",
    "                    best_chrm = P[1]\n",
    "                end\n",
    "                if P[1].fitness > worst\n",
    "                    worst = P[1].fitness\n",
    "                    worst_chrm = P[1]\n",
    "                end\n",
    "            end\n",
    "            t2 = time()\n",
    "            println(\"Results for \", instance, \" ,m=\", K)\n",
    "            println(\"Best: \", round(best, digits = 1), \"  Average: \", round(avg/num_runs, digits = 1), \n",
    "                \"  Worst: \", round(worst, digits = 1), \" , run time= \", round((t2-t1)/num_runs, digits=0))\n",
    "            best_ += 100*(best-LKH3[i][j])/LKH3[i][j]\n",
    "            worst_ += 100*(worst-LKH3[i][j])/LKH3[i][j]\n",
    "            Avg_ += 100*(avg/num_runs-LKH3[i][j])/LKH3[i][j]\n",
    "            time_ += t2-t1\n",
    "            Write_to_excel(\"h.xlsx\", sheetnumber, instance_count, instance, K, best, avg/num_runs, worst, (t2-t1)/num_runs)\n",
    "            instance_count += 1\n",
    "        end\n",
    "    end\n",
    "    Write_to_excel(\"h.xlsx\", sheetnumber, instance_count, \"summary\", \"\", best_/count, Avg_/count, worst_/count, time_/count)\n",
    "    println(\"Results:  Best: \", round(best_/count, digits=1), \"  Average: \", round(Avg_/count, digits=1), \"  Worst: \", round(worst_/count, digits=1), \"   run time: \", round(time_/count, digits=1))\n",
    "end"
   ]
  },
  {
   "cell_type": "code",
   "execution_count": 163,
   "id": "b6fad01a",
   "metadata": {},
   "outputs": [
    {
     "data": {
      "text/plain": [
       "1-element Vector{Float64}:\n",
       " 4.221414418100858"
      ]
     },
     "execution_count": 163,
     "metadata": {},
     "output_type": "execute_result"
    }
   ],
   "source": [
    "Avg_v"
   ]
  },
  {
   "cell_type": "code",
   "execution_count": 157,
   "id": "5c57d1d8",
   "metadata": {},
   "outputs": [
    {
     "data": {
      "text/plain": [
       "4-element Vector{Tour}:\n",
       " Tour([15, 49, 20, 28, 19, 34, 35, 2, 27, 30, 25, 7, 21, 1, 37, 31], 164.032979029429)\n",
       " Tour([26, 47, 4, 36, 41, 39, 18, 17, 8, 33, 29, 9, 38, 32, 44, 14, 43, 16], 263.79734812967604)\n",
       " Tour([45, 11, 46, 3, 40, 12, 24, 13, 23, 42, 6, 22], 140.1044183646207)\n",
       " Tour([5, 10, 48, 50], 88.44695698759188)"
      ]
     },
     "execution_count": 157,
     "metadata": {},
     "output_type": "execute_result"
    }
   ],
   "source": [
    "include(\"Crossover.jl\")\n",
    "c = tour_crossover3(parent1, parent2, T, n)"
   ]
  },
  {
   "cell_type": "code",
   "execution_count": 158,
   "id": "6bd3d4ee",
   "metadata": {},
   "outputs": [
    {
     "name": "stdout",
     "output_type": "stream",
     "text": [
      "164.032979029429   16\n",
      "263.79734812967604   18\n",
      "140.10441836462073   12\n",
      "88.44695698759186   4\n",
      "50\n"
     ]
    }
   ],
   "source": [
    "nodes = Int[]\n",
    "for tour in c\n",
    "    println(find_tour_length(tour.Sequence, T), \"   \", length(tour.Sequence))\n",
    "    for i in tour.Sequence\n",
    "        push!(nodes, i)\n",
    "    end\n",
    "end\n",
    "\n",
    "println(length(nodes))"
   ]
  },
  {
   "cell_type": "code",
   "execution_count": 120,
   "id": "5b88713a",
   "metadata": {},
   "outputs": [
    {
     "data": {
      "text/plain": [
       "13-element Vector{Int64}:\n",
       "  3\n",
       "  6\n",
       " 11\n",
       " 12\n",
       " 13\n",
       " 22\n",
       " 23\n",
       " 24\n",
       " 40\n",
       " 42\n",
       " 45\n",
       " 46\n",
       " 47"
      ]
     },
     "execution_count": 120,
     "metadata": {},
     "output_type": "execute_result"
    }
   ],
   "source": [
    "outsiders"
   ]
  },
  {
   "cell_type": "code",
   "execution_count": 121,
   "id": "24361fea",
   "metadata": {},
   "outputs": [
    {
     "data": {
      "text/plain": [
       "Int64[]"
      ]
     },
     "execution_count": 121,
     "metadata": {},
     "output_type": "execute_result"
    }
   ],
   "source": [
    "intersect(nodes, outsiders)"
   ]
  },
  {
   "cell_type": "code",
   "execution_count": 52,
   "id": "71e930c8",
   "metadata": {},
   "outputs": [
    {
     "data": {
      "text/plain": [
       "1-element Vector{Vector{Int64}}:\n",
       " [1]"
      ]
     },
     "execution_count": 52,
     "metadata": {},
     "output_type": "execute_result"
    }
   ],
   "source": [
    "cities = [1]\n",
    "index = 1\n",
    "i = 1\n",
    "seq = Int[]\n",
    "seqs = Vector{Vector{Int}}()\n",
    "while i <= cities[length(cities)]\n",
    "    if i == cities[index]\n",
    "        push!(seq, i)\n",
    "        if i == cities[length(cities)]\n",
    "            push!(seqs, seq)\n",
    "        end\n",
    "        i += 1\n",
    "        index += 1\n",
    "    else\n",
    "        if length(seq)>0\n",
    "            push!(seqs, seq)\n",
    "            seq = Int[]\n",
    "        end\n",
    "        i += 1\n",
    "    end\n",
    "end\n",
    "seqs"
   ]
  },
  {
   "cell_type": "code",
   "execution_count": 50,
   "id": "58e04b80",
   "metadata": {},
   "outputs": [
    {
     "data": {
      "text/plain": [
       "Tour([10, 48, 8, 33, 29, 9, 38, 32, 44, 14, 43, 16, 50], 141.15021864047716)"
      ]
     },
     "execution_count": 50,
     "metadata": {},
     "output_type": "execute_result"
    }
   ],
   "source": [
    "tour = deepcopy(P[2].tours[1])"
   ]
  },
  {
   "cell_type": "code",
   "execution_count": 94,
   "id": "53de8f10",
   "metadata": {},
   "outputs": [
    {
     "data": {
      "text/plain": [
       "117.6247269601199"
      ]
     },
     "execution_count": 94,
     "metadata": {},
     "output_type": "execute_result"
    }
   ],
   "source": [
    "include(\"Crossover.jl\")\n",
    "t = deepcopy(P[2].tours[1])\n",
    "Remove_cities_from_one_tour(t, [1,2,4,5,12,13], T, n)"
   ]
  },
  {
   "cell_type": "code",
   "execution_count": 96,
   "id": "b4c28cbe",
   "metadata": {},
   "outputs": [
    {
     "data": {
      "text/plain": [
       "Tour([10, 48, 8, 33, 29, 9, 38, 32, 44, 14, 43, 16, 50], 117.6247269601199)"
      ]
     },
     "execution_count": 96,
     "metadata": {},
     "output_type": "execute_result"
    }
   ],
   "source": [
    "t"
   ]
  },
  {
   "cell_type": "code",
   "execution_count": 95,
   "id": "2d8cd8a9",
   "metadata": {},
   "outputs": [
    {
     "data": {
      "text/plain": [
       "117.62472696011989"
      ]
     },
     "execution_count": 95,
     "metadata": {},
     "output_type": "execute_result"
    }
   ],
   "source": [
    "t1 = [10, 48, 8, 33, 29, 9, 38, 32, 44, 14, 43, 16, 50]\n",
    "t2 = [1,2,4,5,12,13]\n",
    "deleteat!(t1, t2)\n",
    "find_tour_length(t1, T)"
   ]
  },
  {
   "cell_type": "code",
   "execution_count": 80,
   "id": "698051cb",
   "metadata": {},
   "outputs": [
    {
     "name": "stdout",
     "output_type": "stream",
     "text": [
      "B\n",
      "141.1501091684944\n",
      "132.55355476801103\n"
     ]
    }
   ],
   "source": [
    "seqs = [[1,2]]\n",
    "tour = t.Sequence\n",
    "cost = t.cost\n",
    "for seq in seqs\n",
    "\n",
    "    ns = length(seq)\n",
    "    if seq[1] == 1\n",
    "        if ns == 1\n",
    "            println(\"A\")\n",
    "            println(cost)\n",
    "            cost = cost - T[1, tour[1]+1] - T[tour[1]+1, tour[2]+1] + T[1, tour[2]+1]\n",
    "            print(cost)\n",
    "        else\n",
    "            println(\"B\")\n",
    "            println(cost)\n",
    "            cost = cost - T[1, tour[1]+1] - sum(T[tour[seq[i]]+1, tour[seq[i+1]]+1] for i=1:ns-1)- T[tour[seq[ns]]+1, tour[seq[ns]+1]+1] + T[1, tour[seq[ns]+1]+1]\n",
    "            println(cost)\n",
    "        end\n",
    "    elseif seq[ns] == nt\n",
    "        if ns == 1\n",
    "            cost = cost - T[tour[nt]+1, n_nodes+2] - T[tour[nt-1]+1, tour[nt]+1] + T[tour[nt-1]+1, n_nodes+2]\n",
    "        else\n",
    "            cost = cost - T[tour[nt]+1, n_nodes+2] - sum(T[tour[seq[i]]+1, tour[seq[i+1]]+1] for i=1:ns-1) - T[tour[seq[1]-1]+1, tour[seq[1]]+1] + T[tour[seq[1]-1]+1, n_nodes+2] \n",
    "        end\n",
    "    else\n",
    "        if ns == 1\n",
    "            cost = cost - T[tour[seq[1]-1]+1, tour[seq[1]]+1] - T[tour[seq[1]]+1, tour[seq[1]+1]+1] + T[tour[seq[1]-1]+1, tour[seq[1]+1]+1]\n",
    "        else\n",
    "            cost = cost - T[tour[seq[1]-1]+1, tour[seq[1]]+1] - sum(T[tour[seq[i]]+1, tour[seq[i+1]]+1] for i=1:ns-1) \n",
    "            - T[tour[seq[ns]]+1, tour[seq[ns]+1]+1] + T[tour[seq[1]-1]+1, tour[seq[ns]+1]+1]\n",
    "        end\n",
    "    end\n",
    "end "
   ]
  },
  {
   "cell_type": "code",
   "execution_count": 56,
   "id": "18d47c8e",
   "metadata": {},
   "outputs": [
    {
     "data": {
      "text/plain": [
       "141.14999969651163"
      ]
     },
     "execution_count": 56,
     "metadata": {},
     "output_type": "execute_result"
    }
   ],
   "source": [
    "cost\n"
   ]
  },
  {
   "cell_type": "code",
   "execution_count": 62,
   "id": "b3c473f5",
   "metadata": {},
   "outputs": [
    {
     "data": {
      "text/plain": [
       "141.15021864047714"
      ]
     },
     "execution_count": 62,
     "metadata": {},
     "output_type": "execute_result"
    }
   ],
   "source": [
    "t1 = [10, 48, 8, 33, 29, 9, 38, 32, 44, 14, 43, 16, 50]\n",
    "find_tour_length(t1, T)"
   ]
  },
  {
   "cell_type": "code",
   "execution_count": 69,
   "id": "5645d9fe",
   "metadata": {},
   "outputs": [
    {
     "data": {
      "text/plain": [
       "132.5536642399938"
      ]
     },
     "execution_count": 69,
     "metadata": {},
     "output_type": "execute_result"
    }
   ],
   "source": [
    "t1 = [8, 33, 29, 9, 38, 32, 44, 14, 43, 16, 50]\n",
    "find_tour_length(t1, T)"
   ]
  },
  {
   "cell_type": "code",
   "execution_count": 79,
   "id": "68d12e2e",
   "metadata": {},
   "outputs": [
    {
     "name": "stdout",
     "output_type": "stream",
     "text": [
      "12.083045973594572\n",
      "14.317821063276353\n",
      "6.4031242374328485\n",
      "24.20743687382041\n"
     ]
    },
    {
     "data": {
      "text/plain": [
       "-8.596554400483367"
      ]
     },
     "execution_count": 79,
     "metadata": {},
     "output_type": "execute_result"
    }
   ],
   "source": [
    "seq = [1,2]\n",
    "tour = [10, 48, 8, 33, 29, 9, 38, 32, 44, 14, 43, 16, 50]\n",
    "println(T[1, tour[1]+1])\n",
    "ns = length(seq)\n",
    "println(sum(T[tour[seq[i]]+1, tour[seq[i+1]]+1] for i=1:ns-1))\n",
    "println(T[tour[seq[ns]]+1, tour[seq[ns]+1]+1])\n",
    "println(T[1, tour[seq[ns]+1]+1])\n",
    "cost = 0\n",
    "cost = cost - T[1, tour[1]+1] - sum(T[tour[seq[i]]+1, tour[seq[i+1]]+1] for i=1:ns-1)- T[tour[seq[ns]]+1, tour[seq[ns]+1]+1] + T[1, tour[seq[ns]+1]+1]"
   ]
  },
  {
   "cell_type": "code",
   "execution_count": 74,
   "id": "2f9c9b56",
   "metadata": {},
   "outputs": [
    {
     "data": {
      "text/plain": [
       "12.083045973594572"
      ]
     },
     "execution_count": 74,
     "metadata": {},
     "output_type": "execute_result"
    }
   ],
   "source": [
    "T[1,11]"
   ]
  },
  {
   "cell_type": "code",
   "execution_count": 75,
   "id": "77f75636",
   "metadata": {},
   "outputs": [
    {
     "data": {
      "text/plain": [
       "14.317821063276353"
      ]
     },
     "execution_count": 75,
     "metadata": {},
     "output_type": "execute_result"
    }
   ],
   "source": [
    "T[11,49]"
   ]
  },
  {
   "cell_type": "code",
   "execution_count": 76,
   "id": "b20864f0",
   "metadata": {},
   "outputs": [
    {
     "data": {
      "text/plain": [
       "6.4031242374328485"
      ]
     },
     "execution_count": 76,
     "metadata": {},
     "output_type": "execute_result"
    }
   ],
   "source": [
    "T[49,9]"
   ]
  },
  {
   "cell_type": "code",
   "execution_count": 77,
   "id": "f3c04a0f",
   "metadata": {},
   "outputs": [
    {
     "data": {
      "text/plain": [
       "24.20743687382041"
      ]
     },
     "execution_count": 77,
     "metadata": {},
     "output_type": "execute_result"
    }
   ],
   "source": [
    "T[1,9]"
   ]
  },
  {
   "cell_type": "code",
   "execution_count": 130,
   "id": "442d30f5",
   "metadata": {},
   "outputs": [
    {
     "data": {
      "text/plain": [
       "2-element Vector{Int64}:\n",
       " 4\n",
       " 6"
      ]
     },
     "execution_count": 130,
     "metadata": {},
     "output_type": "execute_result"
    }
   ],
   "source": [
    "sort(sample(1:10, 2, replace=false))"
   ]
  },
  {
   "cell_type": "code",
   "execution_count": 5,
   "id": "8f847feb",
   "metadata": {},
   "outputs": [
    {
     "data": {
      "text/plain": [
       "10-element Vector{Int64}:\n",
       " 2\n",
       " 2\n",
       " 2\n",
       " 1\n",
       " 1\n",
       " 1\n",
       " 3\n",
       " 2\n",
       " 1\n",
       " 3"
      ]
     },
     "execution_count": 5,
     "metadata": {},
     "output_type": "execute_result"
    }
   ],
   "source": [
    "function Calculate_new_cost_swap_two_updated(tour1::Vector{Int}, cost1::Float64, city11::Int, city12::Int, position1::Int, tour2::Vector{Int}, cost2::Float64, city21::Int, city22::Int, position2::Int,T::Matrix{Float64}, n_nodes::Int)\n",
    "    nt1 = length(tour1)\n",
    "    nt2 = length(tour2)\n",
    "    new_cost11 = cost1\n",
    "    new_cost12 = cost1\n",
    "    new_cost21 = cost2\n",
    "    new_cost22 = cost2\n",
    "    if nt1 == 2\n",
    "        new_cost11 = T[1, city21+1] + T[city21+1, city22+1] + T[city22+1, n_nodes+2] \n",
    "        new_cost12 = T[1, city22+1] + T[city22+1, city21+1] + T[city21+1, n_nodes+2] \n",
    "    else\n",
    "        if position1 == 1\n",
    "            new_cost11 += T[1, city21+1] + T[city21+1, city22+1]  + T[city22+1, tour1[3]+1] - T[1, city11+1] - T[city11+1, city12+1] - T[city12+1, tour1[3]+1]\n",
    "            new_cost12 += T[1, city22+1] + T[city22+1, city21+1]  + T[city21+1, tour1[3]+1] - T[1, city11+1] - T[city11+1, city12+1] - T[city12+1, tour1[3]+1]\n",
    "        elseif position1 == nt1-1\n",
    "            new_cost11 += T[tour1[nt1-2]+1, city21+1] + T[city21+1, city22+1] + T[city22+1, n_nodes+2] - T[tour1[nt1-2]+1, city11+1] - T[city11+1, city12+1] - T[city12+1, n_nodes+2]\n",
    "            new_cost12 += T[tour1[nt1-2]+1, city22+1] + T[city22+1, city21+1] + T[city21+1, n_nodes+2] - T[tour1[nt1-2]+1, city11+1] - T[city11+1, city12+1] - T[city12+1, n_nodes+2]\n",
    "        else\n",
    "            new_cost11 += T[tour1[position1-1]+1, city21+1] + T[city21+1, city22+1] + T[city22+1, tour1[position1+2]+1] - T[tour1[position1-1]+1, city11+1] - T[city11+1, city12+1] - T[city12+1, tour1[position1+2]+1]\n",
    "            new_cost12 += T[tour1[position1-1]+1, city22+1] + T[city22+1, city21+1] + T[city21+1, tour1[position1+2]+1] - T[tour1[position1-1]+1, city11+1] - T[city11+1, city12+1] - T[city12+1, tour1[position1+2]+1]\n",
    "        end\n",
    "    end\n",
    "\n",
    "    if nt2 == 2\n",
    "        new_cost21 = T[1, city11+1] + T[city11+1, city12+1] + T[city12+1, n_nodes+2] \n",
    "        new_cost22 = T[1, city12+1] + T[city12+1, city11+1] + T[city11+1, n_nodes+2] \n",
    "    else\n",
    "        if position2 == 1\n",
    "            new_cost21 += T[1, city11+1] + T[city11+1, city12+1]  + T[city12+1, tour2[3]+1] - T[1, city21+1] - T[city21+1, city22+1] - T[city22+1, tour2[3]+1]\n",
    "            new_cost22 += T[1, city12+1] + T[city12+1, city11+1]  + T[city11+1, tour2[3]+1] - T[1, city21+1] - T[city21+1, city22+1] - T[city22+1, tour2[3]+1]\n",
    "        elseif position2 == nt2-1\n",
    "            new_cost21 += T[tour2[nt2-2]+1, city11+1] + T[city11+1, city12+1] + T[city12+1, n_nodes+2] - T[tour2[nt2-2]+1, city21+1] - T[city21+1, city22+1] - T[city22+1, n_nodes+2]\n",
    "            new_cost22 += T[tour2[nt2-2]+1, city12+1] + T[city12+1, city11+1] + T[city11+1, n_nodes+2] - T[tour2[nt2-2]+1, city21+1] - T[city21+1, city22+1] - T[city22+1, n_nodes+2]\n",
    "        else\n",
    "            new_cost21 += T[tour2[position2-1]+1, city11+1] + T[city11+1, city12+1] + T[city12+1, tour2[position2+2]+1] - T[tour2[position2-1]+1, city21+1] - T[city21+1, city22+1] - T[city22+1, tour2[position2+2]+1]\n",
    "            new_cost22 += T[tour2[position2-1]+1, city12+1] + T[city12+1, city11+1] + T[city11+1, tour2[position2+2]+1] - T[tour2[position2-1]+1, city21+1] - T[city21+1, city22+1] - T[city22+1, tour2[position2+2]+1]\n",
    "        end\n",
    "    end\n",
    "    if new_cost11 < new_cost12\n",
    "        if new_cost21 < new_cost22\n",
    "            return new_cost11, new_cost21, true, true\n",
    "        else\n",
    "            return new_cost11, new_cost22, true, false\n",
    "        end\n",
    "    else\n",
    "        if new_cost21 < new_cost22\n",
    "            return new_cost12, new_cost21, false, true\n",
    "        else\n",
    "            return new_cost12, new_cost22, false, false\n",
    "        end\n",
    "    end\n",
    "end\n",
    "\n",
    "function Calculate_new_cost_swap_three_updated(tour1::Vector{Int}, cost1::Float64, city11::Int, city12::Int, city13::Int, position1::Int, tour2::Vector{Int}, cost2::Float64, city21::Int, city22::Int, city23::Int, position2::Int,T::Matrix{Float64}, n_nodes::Int)\n",
    "    nt1 = length(tour1)\n",
    "    nt2 = length(tour2)\n",
    "    new_cost11 = cost1\n",
    "    new_cost12 = cost1\n",
    "    new_cost21 = cost2\n",
    "    new_cost22 = cost2\n",
    "    if nt1 == 3\n",
    "        new_cost11 = T[1, city21+1] + T[city21+1, city22+1] + T[city22+1, city23+1] + T[city23+1, n_nodes+2] \n",
    "        new_cost12 = T[1, city23+1] + T[city23+1, city22+1] + T[city22+1, city21+1] + T[city21+1, n_nodes+2]\n",
    "    else\n",
    "        if position1 == 1\n",
    "            new_cost11 += T[1, city21+1] + T[city21+1, city22+1] + T[city22+1, city23+1]  + T[city23+1, tour1[4]+1] - T[1, city11+1] - T[city11+1, city12+1] - T[city12+1, city13+1] - T[city13+1, tour1[4]+1]\n",
    "            new_cost12 += T[1, city23+1] + T[city23+1, city22+1] + T[city22+1, city21+1]  + T[city21+1, tour1[4]+1] - T[1, city11+1] - T[city11+1, city12+1] - T[city12+1, city13+1] - T[city13+1, tour1[4]+1]\n",
    "        elseif position1 == nt1-2\n",
    "            new_cost11 += T[tour1[nt1-3]+1, city21+1] + T[city21+1, city22+1] + T[city22+1, city23+1] + T[city23+1, n_nodes+2] - T[tour1[nt1-3]+1, city11+1] - T[city11+1, city12+1] - T[city12+1, city13+1] - T[city13+1, n_nodes+2]\n",
    "            new_cost12 += T[tour1[nt1-3]+1, city23+1] + T[city23+1, city22+1] + T[city22+1, city21+1] + T[city21+1, n_nodes+2] - T[tour1[nt1-3]+1, city11+1] - T[city11+1, city12+1] - T[city12+1, city13+1] - T[city13+1, n_nodes+2]\n",
    "        else\n",
    "            new_cost11 += T[tour1[position1-1]+1, city21+1] + T[city21+1, city22+1]  + T[city22+1, city23+1] + T[city23+1, tour1[position1+3]+1] - T[tour1[position1-1]+1, city11+1] - T[city11+1, city12+1] - T[city12+1, city13+1] - T[city13+1, tour1[position1+3]+1]\n",
    "            new_cost12 += T[tour1[position1-1]+1, city23+1] + T[city23+1, city22+1]  + T[city22+1, city21+1] + T[city21+1, tour1[position1+3]+1] - T[tour1[position1-1]+1, city11+1] - T[city11+1, city12+1] - T[city12+1, city13+1] - T[city13+1, tour1[position1+3]+1]\n",
    "        end\n",
    "    end\n",
    "\n",
    "    if nt2 == 3\n",
    "        new_cost21 = T[1, city11+1] + T[city11+1, city12+1] + T[city12+1, city13+1] + T[city13+1, n_nodes+2] \n",
    "        new_cost22 = T[1, city13+1] + T[city13+1, city12+1] + T[city12+1, city11+1] + T[city11+1, n_nodes+2] \n",
    "    else\n",
    "        if position2 == 1\n",
    "            new_cost21 += T[1, city11+1] + T[city11+1, city12+1] + T[city12+1, city13+1]  + T[city13+1, tour2[4]+1] - T[1, city21+1] - T[city21+1, city22+1] - T[city22+1, city23+1] - T[city23+1, tour2[4]+1]\n",
    "            new_cost22 += T[1, city13+1] + T[city13+1, city12+1] + T[city12+1, city11+1]  + T[city11+1, tour2[4]+1] - T[1, city21+1] - T[city21+1, city22+1] - T[city22+1, city23+1] - T[city23+1, tour2[4]+1]\n",
    "        elseif position2 == nt2-2\n",
    "            new_cost21 += T[tour2[nt2-3]+1, city11+1] + T[city11+1, city12+1] + T[city12+1, city13+1] + T[city13+1, n_nodes+2] - T[tour2[nt2-3]+1, city21+1] - T[city21+1, city22+1] - T[city22+1, city23+1] - T[city23+1, n_nodes+2]\n",
    "            new_cost22 += T[tour2[nt2-3]+1, city13+1] + T[city13+1, city12+1] + T[city12+1, city11+1] + T[city11+1, n_nodes+2] - T[tour2[nt2-3]+1, city21+1] - T[city21+1, city22+1] - T[city22+1, city23+1] - T[city23+1, n_nodes+2]\n",
    "        else\n",
    "            new_cost21 += T[tour2[position2-1]+1, city11+1] + T[city11+1, city12+1]  + T[city12+1, city13+1] + T[city13+1, tour2[position2+3]+1] - T[tour2[position2-1]+1, city21+1] - T[city21+1, city22+1] - T[city22+1, city23+1] - T[city23+1, tour2[position2+3]+1]\n",
    "            new_cost22 += T[tour2[position2-1]+1, city13+1] + T[city13+1, city12+1]  + T[city12+1, city11+1] + T[city11+1, tour2[position2+3]+1] - T[tour2[position2-1]+1, city21+1] - T[city21+1, city22+1] - T[city22+1, city23+1] - T[city23+1, tour2[position2+3]+1]\n",
    "        end\n",
    "    end\n",
    "    if new_cost11 < new_cost12\n",
    "        if new_cost21 < new_cost22\n",
    "            return new_cost11, new_cost21, true, true\n",
    "        else\n",
    "            return new_cost11, new_cost22, true, false\n",
    "        end\n",
    "    else\n",
    "        if new_cost21 < new_cost22\n",
    "            return new_cost12, new_cost21, false, true\n",
    "        else\n",
    "            return new_cost12, new_cost22, false, false\n",
    "        end\n",
    "    end\n",
    "end\n"
   ]
  },
  {
   "cell_type": "code",
   "execution_count": null,
   "id": "cfafd078",
   "metadata": {},
   "outputs": [],
   "source": []
  }
 ],
 "metadata": {
  "kernelspec": {
   "display_name": "Julia 1.6.3",
   "language": "julia",
   "name": "julia-1.6"
  },
  "language_info": {
   "file_extension": ".jl",
   "mimetype": "application/julia",
   "name": "julia",
   "version": "1.6.3"
  }
 },
 "nbformat": 4,
 "nbformat_minor": 5
}
